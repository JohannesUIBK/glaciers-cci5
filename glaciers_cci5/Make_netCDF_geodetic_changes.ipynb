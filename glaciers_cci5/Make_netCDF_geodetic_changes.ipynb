{
 "cells": [
  {
   "cell_type": "code",
   "execution_count": 1,
   "metadata": {
    "collapsed": true
   },
   "outputs": [],
   "source": [
    "import numpy as np\n",
    "import netCDF4 as nc\n",
    "import shapely.geometry as shpg\n",
    "from shapely.ops import cascaded_union\n",
    "import gdal"
   ]
  },
  {
   "cell_type": "code",
   "execution_count": 2,
   "metadata": {
    "collapsed": true
   },
   "outputs": [],
   "source": [
    "def get_buffered_ext(shape, buff_dist):\n",
    "    \"\"\"Create a buffer around a feature and return shape+buffer.\n",
    "    \"\"\"\n",
    "    buffer = shape.buffer(buff_dist)\n",
    "    total = cascaded_union(buffer, shape)\n",
    "    return total"
   ]
  },
  {
   "cell_type": "code",
   "execution_count": 3,
   "metadata": {
    "collapsed": true
   },
   "outputs": [],
   "source": [
    "def pixelOffset2coord(rasterfn,xOffset,yOffset):\n",
    "    \"\"\"Change pixel coordinates to coordinates\"\"\"\n",
    "    raster = gdal.Open(rasterfn)\n",
    "    geotransform = raster.GetGeoTransform()\n",
    "    originX = geotransform[0]\n",
    "    originY = geotransform[3]\n",
    "    pixelWidth = geotransform[1]\n",
    "    pixelHeight = geotransform[5]\n",
    "    coordX = originX+pixelWidth*xOffset\n",
    "    coordY = originY+pixelHeight*yOffset\n",
    "    return coordX, coordY"
   ]
  },
  {
   "cell_type": "code",
   "execution_count": 4,
   "metadata": {
    "collapsed": true
   },
   "outputs": [],
   "source": [
    "def raster2array(rasterfn):\n",
    "    \"\"\"Convert a raster to numpy array\"\"\"\n",
    "    raster = gdal.Open(rasterfn)\n",
    "    geotransform = raster.GetGeoTransform()\n",
    "    extent = [geotransform[0], geotransform[1], geotransform[3], geotransform[5]]\n",
    "    band = raster.GetRasterBand(1)\n",
    "    array = band.ReadAsArray()\n",
    "    return array, extent"
   ]
  },
  {
   "cell_type": "code",
   "execution_count": 5,
   "metadata": {
    "collapsed": true
   },
   "outputs": [],
   "source": [
    "def getNoDataValue(rasterfn):\n",
    "    \"\"\"Get no data value from a raster\"\"\"\n",
    "    raster = gdal.Open(rasterfn)\n",
    "    band = raster.GetRasterBand(1)\n",
    "    return band.GetNoDataValue()"
   ]
  },
  {
   "cell_type": "code",
   "execution_count": 12,
   "metadata": {
    "collapsed": false
   },
   "outputs": [],
   "source": [
    "def make_nc4(fpath, data, extent, location):\n",
    "    \"\"\"Compile a netCDF4 dataset\"\"\"\n",
    "    #dataset.close()\n",
    "    with nc.Dataset(fpath, 'w',  format='NETCDF4_CLASSIC') as dataset:\n",
    "        \n",
    "        # extract/calculate the data\n",
    "        lats_out = np.arange(extent[2]-data.shape[0]*extent[3], extent[2], extent[3])\n",
    "        lons_out = np.arange(extent[0]-data.shape[1]*extent[1], extent[1], extent[1])\n",
    "        change_out = data[...,0]\n",
    "        unc_out = data[...,1]\n",
    "        mask_out = data[...,2]\n",
    "        \n",
    "        # create dimensions\n",
    "        dataset.createDimension('latitude',data.shape[0])\n",
    "        dataset.createDimension('longitude',data.shape[1])\n",
    "        dataset.createDimension('time',None)\n",
    "        \n",
    "        # create some metadata attributes\n",
    "        dataset.location = location\n",
    "        dataset.anyattribute = 'Any attribute'\n",
    "        dataset._FillValue = -9999.\n",
    "        \n",
    "        # create variables\n",
    "        lats = dataset.createVariable('latitude',float,('latitude',), zlib=True,least_significant_digit=5)\n",
    "        lons = dataset.createVariable('longitude',float,('longitude',), zlib=True,least_significant_digit=5)\n",
    "        # Assign units attributes to coordinate var data. This attaches a\n",
    "        # text attribute to each of the coordinate variables, containing the\n",
    "        # units.\n",
    "        lats.units = 'degrees_north'\n",
    "        lons.units = 'degrees_east'\n",
    "        # write data to coordinate vars.\n",
    "        lats[:] = lats_out\n",
    "        lons[:] = lons_out\n",
    "        # create the pressure and temperature variables \n",
    "        change = dataset.createVariable('change',float, ('latitude','longitude'), zlib=True,least_significant_digit=3)\n",
    "        unc = dataset.createVariable('uncertainty',float,('latitude','longitude'), zlib=True,least_significant_digit=3)\n",
    "        mask = dataset.createVariable('mask',float,('latitude','longitude'), zlib=True,least_significant_digit=3)    \n",
    "        # set the units attribute.\n",
    "        change.units =  'm'\n",
    "        unc.units = 'm'\n",
    "        mask.units = ''\n",
    "        # write data to variables.\n",
    "        change[:] = change_out\n",
    "        unc[:] = unc_out\n",
    "        mask[:] = mask_out\n",
    "        # close the file\n",
    "        print(dataset)"
   ]
  },
  {
   "cell_type": "markdown",
   "metadata": {},
   "source": [
    "# Read the sample data"
   ]
  },
  {
   "cell_type": "code",
   "execution_count": 7,
   "metadata": {
    "collapsed": false
   },
   "outputs": [
    {
     "name": "stdout",
     "output_type": "stream",
     "text": [
      "[637812.5, 25.0, 157162.5, -25.0]\n",
      "-3.402823e+38\n",
      "0.0\n",
      "(765, 490)\n"
     ]
    },
    {
     "data": {
      "text/plain": [
       "(765, 490, 3)"
      ]
     },
     "execution_count": 7,
     "metadata": {},
     "output_type": "execute_result"
    }
   ],
   "source": [
    "changes, extent = raster2array(\"C:\\\\Users\\\\jlandman\\\\Desktop\\\\glacier_dh_rasterized_fischer et al. 2015\\glacier_dh_rasterized_fischer et al. 2015\\\\dh_0997.asc\")\n",
    "#uncertainty = \n",
    "print(extent)\n",
    "\n",
    "mask, extent = raster2array(\"C:\\\\Users\\\\jlandman\\\\Desktop\\\\glacier_dh_rasterized_fischer et al. 2015\\glacier_dh_rasterized_fischer et al. 2015\\\\dh_0997.asc\")\n",
    "\n",
    "print(changes.shape)\n",
    "dvi=np.dstack((changes,changes, mask))\n",
    "dvi.shape\n"
   ]
  },
  {
   "cell_type": "code",
   "execution_count": 8,
   "metadata": {
    "collapsed": false
   },
   "outputs": [
    {
     "data": {
      "text/plain": [
       "array([ -4.76259995,  -1.26890004, -10.42590046, ...,  -0.70039999,\n",
       "         3.75399995,   2.53449988], dtype=float32)"
      ]
     },
     "execution_count": 8,
     "metadata": {},
     "output_type": "execute_result"
    }
   ],
   "source": [
    "dvi[...,0][dvi[...,0] != -9999.]"
   ]
  },
  {
   "cell_type": "code",
   "execution_count": 13,
   "metadata": {
    "collapsed": false
   },
   "outputs": [
    {
     "name": "stdout",
     "output_type": "stream",
     "text": [
      "<class 'netCDF4._netCDF4.Dataset'>\n",
      "root group (NETCDF4_CLASSIC data model, file format HDF5):\n",
      "    location: Switzerland\n",
      "    anyattribute: Any attribute\n",
      "    _FillValue: -9999.0\n",
      "    dimensions(sizes): latitude(765), longitude(490), time(0)\n",
      "    variables(dimensions): float64 \u001b[4mlatitude\u001b[0m(latitude), float64 \u001b[4mlongitude\u001b[0m(longitude), float64 \u001b[4mchange\u001b[0m(latitude,longitude), float64 \u001b[4muncertainty\u001b[0m(latitude,longitude), float64 \u001b[4mmask\u001b[0m(latitude,longitude)\n",
      "    groups: \n",
      "\n"
     ]
    }
   ],
   "source": [
    "make_nc4('C:\\\\users\\\\jlandman\\\\desktop\\\\test.nc', dvi, extent, location='Switzerland')"
   ]
  },
  {
   "cell_type": "code",
   "execution_count": null,
   "metadata": {
    "collapsed": true
   },
   "outputs": [],
   "source": []
  },
  {
   "cell_type": "code",
   "execution_count": null,
   "metadata": {
    "collapsed": true
   },
   "outputs": [],
   "source": []
  },
  {
   "cell_type": "code",
   "execution_count": null,
   "metadata": {
    "collapsed": true
   },
   "outputs": [],
   "source": []
  }
 ],
 "metadata": {
  "kernelspec": {
   "display_name": "Python 3",
   "language": "python",
   "name": "python3"
  },
  "language_info": {
   "codemirror_mode": {
    "name": "ipython",
    "version": 3
   },
   "file_extension": ".py",
   "mimetype": "text/x-python",
   "name": "python",
   "nbconvert_exporter": "python",
   "pygments_lexer": "ipython3",
   "version": "3.5.1"
  }
 },
 "nbformat": 4,
 "nbformat_minor": 0
}
