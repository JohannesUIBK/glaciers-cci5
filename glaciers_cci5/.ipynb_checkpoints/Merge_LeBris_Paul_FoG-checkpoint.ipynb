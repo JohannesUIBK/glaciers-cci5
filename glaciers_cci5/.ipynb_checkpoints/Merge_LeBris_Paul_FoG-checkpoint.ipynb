{
 "cells": [
  {
   "cell_type": "markdown",
   "metadata": {},
   "source": [
    "# Modules"
   ]
  },
  {
   "cell_type": "code",
   "execution_count": 116,
   "metadata": {
    "collapsed": true
   },
   "outputs": [],
   "source": [
    "import geopandas as gpd\n",
    "import shapely\n",
    "import numpy\n",
    "import pandas as pd\n",
    "from math import pi,cos,radians\n",
    "import pyproj\n",
    "from shapely.ops import cascaded_union\n",
    "from shapely.geometry import Point\n",
    "%matplotlib inline"
   ]
  },
  {
   "cell_type": "markdown",
   "metadata": {},
   "source": [
    "# Paths"
   ]
  },
  {
   "cell_type": "code",
   "execution_count": 86,
   "metadata": {
    "collapsed": true
   },
   "outputs": [],
   "source": [
    "lp_p = 'C:\\\\Users\\\\jlandman\\\\Desktop\\\\LeBris_Paul\\\\ElevationChange_GlaciersSupp1km2_LessThan20%DataVoid.shp' # LeBris/Paul shape\n",
    "foga_p = 'C:\\\\Users\\\\jlandman\\\\Desktop\\\\DOI-WGMS-FoG-2015-11\\\\WGMS-FoG-2015-11-A-GENERAL-INFORMATION.csv'"
   ]
  },
  {
   "cell_type": "markdown",
   "metadata": {},
   "source": [
    "# Read files"
   ]
  },
  {
   "cell_type": "code",
   "execution_count": 108,
   "metadata": {
    "collapsed": false
   },
   "outputs": [],
   "source": [
    "lp = gpd.read_file(lp_p)\n",
    "foga = pd.read_csv(foga_p, encoding='iso-8859-1')"
   ]
  },
  {
   "cell_type": "markdown",
   "metadata": {},
   "source": [
    "# Determine uncertainty for given FoG coordinate"
   ]
  },
  {
   "cell_type": "code",
   "execution_count": 89,
   "metadata": {
    "collapsed": false
   },
   "outputs": [],
   "source": [
    "def coord_unc(x,y):\n",
    "    \"\"\" Determine the uncertainity in meters for a given FoG coordinate at its lat/lon\n",
    "    \n",
    "    Parameters\n",
    "    -----------\n",
    "    x: longitude in degrees\n",
    "    y: latitude in degrees\n",
    "    \n",
    "    Returns\n",
    "    --------\n",
    "    Uncertainty in meters\n",
    "    \"\"\"\n",
    "    # number of decimals given\n",
    "    xd = len(str(x).split('.')[-1])\n",
    "    yd = len(str(y).split('.')[-1])\n",
    "    \n",
    "    # maximum error in degrees\n",
    "    xe = 10**(-xd)\n",
    "    ye = 10**(-yd)\n",
    "    \n",
    "    print\n",
    "    \n",
    "    # maximum error in meters\n",
    "    dy = ye * ((2* pi * 6378000) / 360.)\n",
    "    dx = xe * (2 * pi * cos(radians(y)) * 6378000) / 360.\n",
    "    \n",
    "    return dx, dy"
   ]
  },
  {
   "cell_type": "code",
   "execution_count": 128,
   "metadata": {
    "collapsed": true
   },
   "outputs": [],
   "source": [
    "def transform_coords(x,y,in_proj=None,out_proj=None):\n",
    "    \n",
    "    assert in_proj is not None,'Input projection may not be None.'\n",
    "    assert out_proj is not None,'Output projection may not be None.'\n",
    "    from_proj = pyproj.Proj(init='epsg:'+str(in_proj))\n",
    "    to_proj = pyproj.Proj(init='epsg:'+str(out_proj))\n",
    "    \n",
    "    #x1, y1 = from_proj(x,y)\n",
    "    return pyproj.transform(from_proj, to_proj, x,y)"
   ]
  },
  {
   "cell_type": "markdown",
   "metadata": {},
   "source": [
    "# Build a buffer around all FoG points in the area, determined by the uncertainty of the coordinates"
   ]
  },
  {
   "cell_type": "markdown",
   "metadata": {},
   "source": [
    "#### We define the two Projs we are dealing with"
   ]
  },
  {
   "cell_type": "code",
   "execution_count": 90,
   "metadata": {
    "collapsed": true
   },
   "outputs": [],
   "source": [
    "utm7n = pyproj.Proj(init='epsg:32605') # WGS84 UTM 5N -> LeBris/Paul\n",
    "latlon = pyproj.Proj(init='epsg:4326') # WGS84 lat/lon -> FoG"
   ]
  },
  {
   "cell_type": "markdown",
   "metadata": {},
   "source": [
    "#### Select the FoG points with the extent rectangle by LeBris/Paul"
   ]
  },
  {
   "cell_type": "code",
   "execution_count": 91,
   "metadata": {
    "collapsed": true
   },
   "outputs": [],
   "source": [
    "lp_extent = lp.total_bounds"
   ]
  },
  {
   "cell_type": "code",
   "execution_count": 104,
   "metadata": {
    "collapsed": true
   },
   "outputs": [],
   "source": [
    "# convert UTM5N to WGS84 lat/lon points\n",
    "x_lp = [lp_extent[0], lp_extent[2]]\n",
    "y_lp = [lp_extent[1], lp_extent[3]]\n",
    "x1,y1 = utm7n(x_lp, y_lp)\n",
    "x_lpll, y_lpll = pyproj.transform(utm7n,latlon,x_lp,y_lp)"
   ]
  },
  {
   "cell_type": "code",
   "execution_count": 109,
   "metadata": {
    "collapsed": false
   },
   "outputs": [],
   "source": [
    "foga = foga[(foga.LONGITUDE >= x_lpll[0]) & (foga.LONGITUDE <= x_lpll[1]) & (foga.LATITUDE >= y_lpll[0]) & (foga.LATITUDE <= y_lpll[1])]"
   ]
  },
  {
   "cell_type": "markdown",
   "metadata": {},
   "source": [
    "#### Create a buffer around them, determined by the uncertainty of the coordinates"
   ]
  },
  {
   "cell_type": "code",
   "execution_count": 114,
   "metadata": {
    "collapsed": false
   },
   "outputs": [],
   "source": [
    "# convert WGS84 lat/lon points to UTM5N\n",
    "xs = foga.LONGITUDE.values\n",
    "ys = foga.LATITUDE.values\n",
    "x1,y1 = latlon(xs, ys)\n",
    "xm, ym = pyproj.transform(latlon,utm7n,xs,ys)"
   ]
  },
  {
   "cell_type": "code",
   "execution_count": 123,
   "metadata": {
    "collapsed": false
   },
   "outputs": [],
   "source": [
    "buffers = [Point(x,y).buffer(coord_unc(transform_coords(x,y,32605,4326)[0],transform_coords(x,y,32605,4326)[1])[1]) for x,y in zip(xm,ym)]"
   ]
  },
  {
   "cell_type": "code",
   "execution_count": 125,
   "metadata": {
    "collapsed": false
   },
   "outputs": [],
   "source": [
    "# make the buffer one geometry\n",
    "buffer_union = cascaded_union(buffers)"
   ]
  },
  {
   "cell_type": "code",
   "execution_count": null,
   "metadata": {
    "collapsed": true
   },
   "outputs": [],
   "source": [
    "# create a series of true/false of those that do not intersect with the buffer should be tried to be directly imported into FoG (there WILL be mistakes) !!!\n",
    "disjoint = lp.disjoint(buffer_union)"
   ]
  },
  {
   "cell_type": "code",
   "execution_count": 150,
   "metadata": {
    "collapsed": false
   },
   "outputs": [],
   "source": [
    "disjoint_ix = disjoint[disjoint == True].index\n",
    "intersect_ix = disjoint[disjoint == False].index"
   ]
  },
  {
   "cell_type": "code",
   "execution_count": 151,
   "metadata": {
    "collapsed": false
   },
   "outputs": [
    {
     "data": {
      "text/plain": [
       "Int64Index([ 33,  42,  98,  99, 100, 101, 102, 103, 107, 177, 179, 181, 182,\n",
       "            184, 185, 192, 193, 195, 203, 204, 205, 279, 280, 281, 282, 283,\n",
       "            284, 285, 287, 288, 289, 290, 291, 292, 293, 294, 296, 298, 311,\n",
       "            312, 360, 364, 409, 769, 774, 777, 781, 792, 928, 971, 973, 974,\n",
       "            975, 976, 978, 979, 980],\n",
       "           dtype='int64')"
      ]
     },
     "execution_count": 151,
     "metadata": {},
     "output_type": "execute_result"
    }
   ],
   "source": [
    "disjoint_ix\n",
    "intersect_ix"
   ]
  },
  {
   "cell_type": "code",
   "execution_count": 156,
   "metadata": {
    "collapsed": true
   },
   "outputs": [],
   "source": [
    "# get the real geometries\n",
    "fast_to_FoG = lp[lp.index.isin(disjoint_ix)]\n",
    "check_closely = lp[lp.index.isin(intersect_ix)]"
   ]
  },
  {
   "cell_type": "code",
   "execution_count": 157,
   "metadata": {
    "collapsed": false
   },
   "outputs": [],
   "source": [
    "assert len(fast_to_FoG)+len(check_closely)==len(lp)"
   ]
  },
  {
   "cell_type": "code",
   "execution_count": null,
   "metadata": {
    "collapsed": true
   },
   "outputs": [],
   "source": []
  }
 ],
 "metadata": {
  "kernelspec": {
   "display_name": "Python 3",
   "language": "python",
   "name": "python3"
  },
  "language_info": {
   "codemirror_mode": {
    "name": "ipython",
    "version": 3
   },
   "file_extension": ".py",
   "mimetype": "text/x-python",
   "name": "python",
   "nbconvert_exporter": "python",
   "pygments_lexer": "ipython3",
   "version": "3.5.1"
  }
 },
 "nbformat": 4,
 "nbformat_minor": 0
}
