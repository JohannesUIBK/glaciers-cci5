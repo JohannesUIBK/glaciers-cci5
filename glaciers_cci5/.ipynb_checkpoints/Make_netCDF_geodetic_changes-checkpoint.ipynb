{
 "cells": [
  {
   "cell_type": "code",
   "execution_count": 1,
   "metadata": {
    "collapsed": false
   },
   "outputs": [],
   "source": [
    "import numpy as np\n",
    "import pandas as pd\n",
    "import netCDF4 as nc\n",
    "from glob import glob\n",
    "import os\n",
    "import shapely.geometry as shpg\n",
    "from shapely.ops import cascaded_union\n",
    "import gdal\n",
    "import time\n",
    "from ipywidgets import *\n",
    "import matplotlib.pyplot as plt\n",
    "% matplotlib inline"
   ]
  },
  {
   "cell_type": "code",
   "execution_count": 2,
   "metadata": {
    "collapsed": true
   },
   "outputs": [],
   "source": [
    "def get_buffered_ext(shape, buff_dist):\n",
    "    \"\"\"Create a buffer around a feature and return shape+buffer.\n",
    "    \"\"\"\n",
    "    buffer = shape.buffer(buff_dist)\n",
    "    total = cascaded_union(buffer, shape)\n",
    "    return total"
   ]
  },
  {
   "cell_type": "code",
   "execution_count": 3,
   "metadata": {
    "collapsed": true
   },
   "outputs": [],
   "source": [
    "def pixelOffset2coord(rasterfn,xOffset,yOffset):\n",
    "    \"\"\"Change pixel coordinates to coordinates\"\"\"\n",
    "    raster = gdal.Open(rasterfn)\n",
    "    geotransform = raster.GetGeoTransform()\n",
    "    originX = geotransform[0]\n",
    "    originY = geotransform[3]\n",
    "    pixelWidth = geotransform[1]\n",
    "    pixelHeight = geotransform[5]\n",
    "    coordX = originX + pixelWidth * xOffset\n",
    "    coordY = originY + pixelHeight * yOffset\n",
    "    return coordX, coordY"
   ]
  },
  {
   "cell_type": "code",
   "execution_count": 4,
   "metadata": {
    "collapsed": true
   },
   "outputs": [],
   "source": [
    "def raster2array(rasterfn):\n",
    "    \"\"\"Convert a raster to numpy array\"\"\"\n",
    "    raster = gdal.Open(rasterfn)\n",
    "    geotransform = raster.GetGeoTransform()\n",
    "    extent = [geotransform[0], geotransform[1], geotransform[3], geotransform[5]]\n",
    "    band = raster.GetRasterBand(1)\n",
    "    array = band.ReadAsArray()\n",
    "    return array, extent"
   ]
  },
  {
   "cell_type": "code",
   "execution_count": 5,
   "metadata": {
    "collapsed": true
   },
   "outputs": [],
   "source": [
    "def getNoDataValue(rasterfn):\n",
    "    \"\"\"Get no data value from a raster\"\"\"\n",
    "    raster = gdal.Open(rasterfn)\n",
    "    band = raster.GetRasterBand(1)\n",
    "    return band.GetNoDataValue()"
   ]
  },
  {
   "cell_type": "code",
   "execution_count": 231,
   "metadata": {
    "collapsed": false
   },
   "outputs": [],
   "source": [
    "def strucinfo(rootgrp):\n",
    "    def walktree(top):\n",
    "\n",
    "        values = top.groups.values()\n",
    "        yield values\n",
    "        for value in top.groups.values():\n",
    "            for children in walktree(value):\n",
    "                yield children\n",
    "    print (rootgrp)\n",
    "    for children in walktree(rootgrp):\n",
    "        for child in children:\n",
    "            print (child)"
   ]
  },
  {
   "cell_type": "code",
   "execution_count": 223,
   "metadata": {
    "collapsed": false
   },
   "outputs": [],
   "source": [
    "def ncdump(nc_fid, verb=True):\n",
    "    '''\n",
    "    Adapted from Chris Slocum, modified for Python 3.5 & extended for netCDF4 (groups) by Johannes Landmann.\n",
    "    \n",
    "    ncdump outputs dimensions, variables and their attribute information.\n",
    "    The information is similar to that of NCAR's ncdump utility.\n",
    "    ncdump requires a valid instance of Dataset.\n",
    " \n",
    "    Parameters\n",
    "    ----------\n",
    "    nc_fid : netCDF4.Dataset\n",
    "        A netCDF4 dateset object\n",
    "    verb : Boolean\n",
    "        whether or not nc_attrs, nc_dims, and nc_vars are printed\n",
    " \n",
    "    Returns\n",
    "    -------\n",
    "    nc_attrs : list\n",
    "        A Python list of the NetCDF file global attributes\n",
    "    nc_dims : list\n",
    "        A Python list of the NetCDF file dimensions\n",
    "    nc_vars : list\n",
    "        A Python list of the NetCDF file variables\n",
    "    '''\n",
    "    def print_ncattr(key):\n",
    "        \"\"\"\n",
    "        Prints the NetCDF file attributes for a given key\n",
    " \n",
    "        Parameters\n",
    "        ----------\n",
    "        key : unicode\n",
    "            a valid netCDF4.Dataset.variables key\n",
    "        \"\"\"\n",
    "        try:\n",
    "            print (\"\\t\\ttype:\", repr(nc_fid.variables[key].dtype))\n",
    "            for ncattr in nc_fid.variables[key].ncattrs():\n",
    "                print ('\\t\\t%s:' % ncattr,\\\n",
    "                      repr(nc_fid.variables[key].getncattr(ncattr)))\n",
    "        except KeyError:\n",
    "            print (\"\\t\\tWARNING: %s does not contain variable attributes\" % key)\n",
    " \n",
    "    # NetCDF global attributes\n",
    "    nc_attrs = nc_fid.ncattrs()\n",
    "    if verb:\n",
    "        print (\"NetCDF Global Attributes:\")\n",
    "        for nc_attr in nc_attrs:\n",
    "            print ('\\t%s:' % nc_attr, repr(nc_fid.getncattr(nc_attr)))\n",
    "    nc_dims = [dim for dim in nc_fid.dimensions]  # list of nc dimensions\n",
    "    # Dimension shape information.\n",
    "    if verb:\n",
    "        print (\"NetCDF dimension information:\")\n",
    "        for dim in nc_dims:\n",
    "            print (\"\\tName:\", dim) \n",
    "            print (\"\\t\\tsize:\", len(nc_fid.dimensions[dim]))\n",
    "            print_ncattr(dim)\n",
    "    # Variable information.\n",
    "    nc_vars = [var for var in nc_fid.variables]  # list of nc variables\n",
    "    if verb:\n",
    "        print (\"NetCDF variable information:\")\n",
    "        for var in nc_vars:\n",
    "            if var not in nc_dims:\n",
    "                print ('\\tName:', var)\n",
    "                print (\"\\t\\tdimensions:\", nc_fid.variables[var].dimensions)\n",
    "                print (\"\\t\\tsize:\", nc_fid.variables[var].size)\n",
    "                print_ncattr(var)\n",
    "    return nc_attrs, nc_dims, nc_vars"
   ]
  },
  {
   "cell_type": "code",
   "execution_count": 173,
   "metadata": {
    "collapsed": false
   },
   "outputs": [],
   "source": [
    "pdf = pd.read_csv('C:\\\\Users\\\\jlandman\\\\Desktop\\\\database_Fischer_et_al._2015_The_Cryosphere.txt', sep = '\\t', encoding='iso-8859-1')\n",
    "pdf.ID_SGI1973 = pdf.ID_SGI1973.astype('str')\n",
    "pda = pd.read_excel('C:\\\\Users\\\\jlandman\\\\Desktop\\\\__data-request_GLACIER.xlsx', encoding='iso-8859-1')\n",
    "pdd = pd.read_excel('C:\\\\Users\\\\jlandman\\\\Desktop\\\\__data-request_CHANGE.xlsx', encoding='iso-8859-1')\n",
    "pdd = pdd[~pd.isnull(pdd.REMARKS)]"
   ]
  },
  {
   "cell_type": "code",
   "execution_count": 7,
   "metadata": {
    "collapsed": false
   },
   "outputs": [],
   "source": [
    "def FoG_equiv(sgi1973_code):\n",
    "    \"\"\"Find the FoG_ID equivalent to a given SGI1973 ID\"\"\"\n",
    "    sgi1973_code = sgi1973_code.lstrip('0')\n",
    "    try:\n",
    "        sgi2010 = pdf[pdf.ID_SGI1973.str.contains(sgi1973_code)].Code_SGI2010.iloc[0]\n",
    "    except:\n",
    "        wgms_id = np.nan\n",
    "        return wgms_id\n",
    "    wgms_id = pdd[pdd.REMARKS.str.contains(str(sgi2010))].WGMS_ID.iloc[0]\n",
    "    return wgms_id"
   ]
  },
  {
   "cell_type": "code",
   "execution_count": 8,
   "metadata": {
    "collapsed": false
   },
   "outputs": [],
   "source": [
    "def make_nc4(fpath, data, extent, location):\n",
    "    \"\"\"Compile a netCDF4 dataset\"\"\"\n",
    "    \n",
    "    with nc.Dataset(fpath, 'w',  format='NETCDF4_CLASSIC') as dataset:\n",
    "        \n",
    "        # get the WGMS_ID (a bit complicated) in order to be able to retrieve data from the FoG tables\n",
    "        sgi_73_id  = os.path.basename(fpath).split('_')[1].split('.')[0]\n",
    "        wgms_id = FoG_equiv(sgi_73_id)\n",
    "        if np.isnan(wgms_id):\n",
    "            print(\"No equivalent for SGI1973 %s\" % sgi_73_id)\n",
    "            return\n",
    "        \n",
    "        # extract/calculate the data\n",
    "        lats_out = np.arange(extent[2] - data.shape[0] * extent[3], extent[2], extent[3])\n",
    "        lons_out = np.arange(extent[0] - data.shape[1] * extent[1], extent[1], extent[1])\n",
    "        change_out = data[...,0]\n",
    "        unc_out = data[...,1]\n",
    "        mask_out = data[...,2]\n",
    "        \n",
    "        # create dimensions\n",
    "        dataset.createDimension('latitude', data.shape[0])\n",
    "        dataset.createDimension('longitude', data.shape[1])\n",
    "        dataset.createDimension('time', None)\n",
    "        \n",
    "        # create some metadata attributes\n",
    "        dataset.WGMS_ID = wgms_id\n",
    "        try:\n",
    "            dataset.region = pda[pda.WGMS_ID == wgms_id].REGION.iloc[0]\n",
    "        except:\n",
    "            pass\n",
    "        try:\n",
    "            dataset.subregion = pda[pda.WGMS_ID == wgms_id].SUBREGION.iloc[0]\n",
    "        except:\n",
    "            pass\n",
    "        try:\n",
    "            dataset.reference = pdd[pdd.WGMS_ID == wgms_id].REFERENCE.iloc[0]\n",
    "        except:\n",
    "            pass\n",
    "        dataset.source = 'World Glacier Monitoring Service, Zurich, Switzerland' \n",
    "        dataset.history = 'Created ' + time.ctime(time.time())\n",
    "        dataset._FillValue = -9999.\n",
    "        \n",
    "        # create variables\n",
    "        lats = dataset.createVariable('latitude', np.float32, ('latitude',), zlib=True, least_significant_digit=5)\n",
    "        lons = dataset.createVariable('longitude', np.float32, ('longitude',), zlib=True, least_significant_digit=5)\n",
    "        \n",
    "        # Assign units attributes to coordinate var data. This attaches a\n",
    "        # text attribute to each of the coordinate variables, containing the\n",
    "        # units.\n",
    "        lats.units = 'degrees_north'\n",
    "        lons.units = 'degrees_east'\n",
    "        \n",
    "        # write data to coordinate vars.\n",
    "        lats[:] = lats_out\n",
    "        lons[:] = lons_out\n",
    "        \n",
    "        # create the pressure and temperature variables \n",
    "        change = dataset.createVariable('change', float, ('latitude','longitude'), zlib=True, least_significant_digit=3)\n",
    "        unc = dataset.createVariable('uncertainty', float, ('latitude','longitude'), zlib=True,least_significant_digit=3)\n",
    "        mask = dataset.createVariable('mask', int, ('latitude','longitude'), zlib=True, least_significant_digit=3)    \n",
    "        \n",
    "        # set the units attribute.\n",
    "        change.units = 'm'\n",
    "        unc.units = 'm'\n",
    "        mask.units = ''\n",
    "        \n",
    "        # write data to variables.\n",
    "        change[:] = change_out\n",
    "        unc[:] = unc_out\n",
    "        mask[:] = mask_out"
   ]
  },
  {
   "cell_type": "code",
   "execution_count": 220,
   "metadata": {
    "collapsed": false
   },
   "outputs": [],
   "source": [
    "def make_nc4_groups(outpath, data_e, data_c, e_times, c_periods, extent, location):\n",
    "    \"\"\"Compile a netCDF4 dataset to the given outpath.\n",
    "    \n",
    "    Parameters\n",
    "    -----------\n",
    "    outpath: Path for the output netCDF4 file\n",
    "    data_e: Elevation data as array (third dimension contains elevation and its uncertainty alternately)\n",
    "    data_c: Change data as array (third dimension contains change and its uncertainty alternately)\n",
    "    e_times: Times (in years AD) of elevation grids (format: YYYY)\n",
    "    c_periods: Reference periods (in years AD) of change grids (format: Y2Y2Y2Y2Y1Y1Y1Y1)\n",
    "    extent: Geographical extent of the data\n",
    "    location: Example parsable argument, here the political unit\n",
    "    \"\"\"\n",
    "    \n",
    "    # get WGMS_ID for retrieving data from FoG\n",
    "    sgi_73_id  = os.path.basename(outpath).split('_')[1].split('.')[0]\n",
    "    wgms_id = FoG_equiv(sgi_73_id)\n",
    "    if np.isnan(wgms_id):\n",
    "        print(\"No equivalent for SGI1973 %s\" % sgi_73_id)\n",
    "        return\n",
    "    \n",
    "    with nc.Dataset(outpath, 'w') as rootgrp:\n",
    "        \n",
    "        chggrp = rootgrp.createGroup(\"change\")\n",
    "        elvgrp = rootgrp.createGroup(\"elevation\")\n",
    "        \n",
    "        # extract/calculate the data\n",
    "        latsc_out = np.arange(extent[2] - data_c.shape[0] * extent[3], extent[2], extent[3])\n",
    "        lonsc_out = np.arange(extent[0] - data_c.shape[1] * extent[1], extent[1], extent[1])\n",
    "        latse_out = np.arange(extent[2] - data_e.shape[0] * extent[3], extent[2], extent[3])\n",
    "        lonse_out = np.arange(extent[0] - data_e.shape[1] * extent[1], extent[1], extent[1])\n",
    "        \n",
    "        # it cannot guarantee everything, but at least it reveals if there could be missing data or uncertainties\n",
    "        assert data_c.shape[2] % 2 == 0\n",
    "        assert data_e.shape[2] % 2 == 0\n",
    "        \n",
    "        # grab the data\n",
    "        chg_out = data_c[:,:,::2]      # get every second element of the third dimension, starting at 0\n",
    "        chg_unc_out = data_c[:,:,1::2] # get every second element of the third dimension, starting at 1\n",
    "        elev_out = data_e[:,:,::2]     # get every second element of the third dimension, starting at 0\n",
    "        elev_unc_out = data_e[:,:,1::2]# get every second element of the third dimension, starting at 1\n",
    "        \n",
    "        # create dimensions\n",
    "        elvgrp.createDimension('latitude', data_e.shape[0])\n",
    "        elvgrp.createDimension('longitude', data_e.shape[1])\n",
    "        elvgrp.createDimension('time', None)\n",
    "        \n",
    "        chggrp.createDimension('latitude', data_c.shape[0])\n",
    "        chggrp.createDimension('longitude', data_c.shape[1])\n",
    "        chggrp.createDimension('level', None)\n",
    "        \n",
    "        # create some metadata attributes from FoG\n",
    "        rootgrp.WGMS_ID = wgms_id\n",
    "        gseries = pda[pda.WGMS_ID == wgms_id]\n",
    "        if not gseries.empty:\n",
    "            rootgrp.glaciername = pda[pda.WGMS_ID == wgms_id].NAME.iloc[0]\n",
    "            rootgrp.region = pda[pda.WGMS_ID == wgms_id]['GEO-REGION_CODE'].iloc[0]\n",
    "            rootgrp.subregion = pda[pda.WGMS_ID == wgms_id]['GEO-SUBREGION_CODE'].iloc[0]\n",
    "            rootgrp.references = pdd[pdd.WGMS_ID == wgms_id].REFERENCE.iloc[0]\n",
    "        \n",
    "        rootgrp.conventions = 'CF-1.6'\n",
    "        rootgrp.title = 'Glacier surface height and its changes for %s (FoG ID %s )' % (pda[pda.WGMS_ID == wgms_id].NAME.iloc[0], wgms_id)\n",
    "        rootgrp.institution = 'World Glacier Monitoring Service (WGMS), Zurich, Switzerland'\n",
    "        rootgrp.source = 'Space/terrestrial remote sensing or maps'\n",
    "        rootgrp.comment = 'Miscellaneous data sources are documented in FoG dataset'\n",
    "        rootgrp.contact = 'wgms@geo.uzh.ch' \n",
    "        rootgrp.history = 'Created ' + time.ctime(time.time())\n",
    "        rootgrp._FillValue = -9999.000000\n",
    "        #rootgrp._FillValue = 9.96920996839e+36\n",
    "        \n",
    "        # create variables\n",
    "        latse = elvgrp.createVariable('latitude', np.float32, ('latitude',), zlib=True, least_significant_digit=5)\n",
    "        lonse = elvgrp.createVariable('longitude', np.float32, ('longitude',), zlib=True, least_significant_digit=5)\n",
    "        timese = elvgrp.createVariable('time', np.int16, ('time',), zlib=True, least_significant_digit=0)\n",
    "        \n",
    "        latsc = chggrp.createVariable('latitude', np.float32, ('latitude',), zlib=True, least_significant_digit=5)\n",
    "        lonsc = chggrp.createVariable('longitude', np.float32, ('longitude',), zlib=True, least_significant_digit=5)\n",
    "        levelsc = chggrp.createVariable('level', np.int32, ('level',), zlib=True, least_significant_digit=0)\n",
    "        \n",
    "        # Assign units attributes to coordinate var data. This attaches a\n",
    "        # text attribute to each of the coordinate variables, containing the units\n",
    "        latse.units = 'degree_north'\n",
    "        latse.long_name = 'Latitude' \n",
    "        latse.standard_name = 'latitude'\n",
    "\n",
    "        lonse.units = 'degree_east'\n",
    "        lonse.long_name = 'Longitude'\n",
    "        lonse.standard_name = 'longitude'\n",
    "        \n",
    "        timese.units = 'years since 0000-01-01 00:00:00'\n",
    "        timese.calendar = 'gregorian'\n",
    "        \n",
    "        latsc.units = 'degree_north'\n",
    "        latsc.long_name = 'Latitude'\n",
    "        latsc.standard_name = 'latitude'\n",
    "        lonsc.units = 'degree_east'\n",
    "        lonsc.long_name = 'Longitude'\n",
    "        latse.standard_name = 'latitude'       \n",
    "        \n",
    "        levelsc.long_name = 'Subtraction grids'   # good idea? dimension- and unitless coordinate\n",
    "        \n",
    "        # write data to coordinate vars\n",
    "        latse[:] = latse_out\n",
    "        lonse[:] = lonse_out\n",
    "        timese[:] = e_times\n",
    "        \n",
    "        \n",
    "        latsc[:] = latsc_out\n",
    "        lonsc[:] = lonsc_out\n",
    "        \n",
    "        # create the elevation and its uncertainty as variables\n",
    "        chg = chggrp.createVariable('change', float, ('level', 'latitude','longitude'), zlib=True, least_significant_digit=3)\n",
    "        chg_unc = chggrp.createVariable('uncertainty', float, ('level', 'latitude','longitude'), zlib=True,least_significant_digit=3)\n",
    "    \n",
    "        # create the change and its uncertainty as variables\n",
    "        elev = elvgrp.createVariable('elevation', float, ('time','latitude','longitude'), zlib=True, least_significant_digit=3)\n",
    "        elev_unc = elvgrp.createVariable('uncertainty', float, ('time','latitude','longitude'), zlib=True,least_significant_digit=3)\n",
    "        \n",
    "        # set the units attribute\n",
    "        chg.units = 'm'\n",
    "        chg.standard_name = 'land_surface_height_change'  # new invention\n",
    "        chg_unc.units = 'm'\n",
    "        chg_unc.standard_name = 'land_surface_height_change_uncertainty'  # new invention\n",
    "        elev.units = 'm'\n",
    "        elev.standard_name = 'land_ice_surface_height'  # new invention\n",
    "        elev_unc.units = 'm'\n",
    "        elev.standard_name = 'land_ice_surface_height_uncertainty'  # new invention\n",
    "        \n",
    "        # specify the coordinate axes\n",
    "        chg._CoordinateAxes = \"level lat lon\"\n",
    "        chg_unc._CoordinateAxes = \"level lat lon\"\n",
    "        elev._CoordinateAxes = \"time lat lon\"\n",
    "        elev_unc._CoordinateAxes = \"time lat lon\"\n",
    "        latse._CoordinateAxisType = \"Lat\"\n",
    "        lonse._CoordinateAxisType = \"Lon\"\n",
    "        timese._CoordinateAxisType = \"Times\"\n",
    "        latsc._CoordinateAxisType = \"Lat\"\n",
    "        lonsc._CoordinateAxisType = \"Lon\"\n",
    "        levelsc._CoordinateAxisType = \"Times\"\n",
    "        \n",
    "        # simplify change periods/time for indexing\n",
    "        tim_range = np.arange(len(e_times))\n",
    "        chg_range = np.arange(len(c_periods))\n",
    "        \n",
    "        # make th data arrays fit the netcdf variables\n",
    "        chg_out = np.rollaxis(chg_out, -1, 0)\n",
    "        chg_unc_out = np.rollaxis(chg_unc_out, -1, 0)\n",
    "        elev_out = np.rollaxis(elev_out, -1, 0)\n",
    "        elev_unc_out = np.rollaxis(elev_unc_out, -1, 0)\n",
    "        \n",
    "        # write data\n",
    "        chg[:] = chg_out    \n",
    "        chg_unc[:] = chg_unc_out    \n",
    "        elev[:] = elev_out\n",
    "        elev_unc[:] = elev_unc_out"
   ]
  },
  {
   "cell_type": "markdown",
   "metadata": {},
   "source": [
    "# Read the sample data"
   ]
  },
  {
   "cell_type": "code",
   "execution_count": null,
   "metadata": {
    "collapsed": false,
    "scrolled": true
   },
   "outputs": [],
   "source": [
    "fpaths = glob(\"C:\\\\Users\\\\jlandman\\\\Desktop\\\\model_db\\\\data\\\\glacier_dh_rasterized_fischer et al. 2015\\\\dh_*.*\")\n",
    "\n",
    "e_times = [1986,2016]\n",
    "c_periods = [20161986, 19861850]\n",
    "\n",
    "for fp in fpaths:\n",
    "    changes, extent = raster2array(fp)\n",
    "    changes_uncertainty, extent = raster2array(fp)\n",
    "    elev, extent = raster2array(fp)\n",
    "    elev_uncertainty, extent = raster2array(fp)\n",
    "    dvi=np.dstack((changes,changes, changes))\n",
    "    dvi_big = np.dstack((changes, changes_uncertainty, elev, elev_uncertainty))\n",
    "    \n",
    "    #make_nc4('C:\\\\users\\\\jlandman\\\\desktop\\\\testnetCDFs\\\\simple\\\\dh_'+os.path.basename(fp).split('_')[1].split('.')[0]+'.nc', dvi, extent, location='Switzerland')\n",
    "    make_nc4_groups('C:\\\\users\\\\jlandman\\\\desktop\\\\testnetCDFs\\\\groups\\\\dh_'+os.path.basename(fp).split('_')[1].split('.')[0]+'.nc', dvi_big, dvi_big, e_times, c_periods, extent, location='Switzerland')"
   ]
  },
  {
   "cell_type": "markdown",
   "metadata": {},
   "source": [
    "## This is a nice try to make everything easier, but it also messes up a bit the attributes (too general, like 'GDAL band number 1'"
   ]
  },
  {
   "cell_type": "code",
   "execution_count": null,
   "metadata": {
    "collapsed": false
   },
   "outputs": [],
   "source": [
    "#Open existing dataset\n",
    "src_ds = gdal.Open(\"C:\\\\Users\\\\jlandman\\\\Desktop\\\\glacier_dh_rasterized_fischer et al. 2015\\\\glacier_dh_rasterized_fischer et al. 2015\\\\dh_0997.asc\")\n",
    "dst_filename = 'C:\\\\Users\\\\jlandman\\\\Desktop\\\\test_gdal_ascii2nc.nc'\n",
    "\n",
    "#Open output format driver, see gdal_translate --formats for list\n",
    "format = \"netCDF\"\n",
    "driver = gdal.GetDriverByName(format)\n",
    "\n",
    "#Output to new format\n",
    "dst_ds = driver.CreateCopy( dst_filename, src_ds, 0 )\n",
    "\n",
    "#Properly close the datasets to flush to disk\n",
    "dst_ds = None\n",
    "src_ds = None"
   ]
  },
  {
   "cell_type": "markdown",
   "metadata": {},
   "source": [
    "## But the other way around is quite nice: you can easily convert netcdf to ASCII"
   ]
  },
  {
   "cell_type": "code",
   "execution_count": 259,
   "metadata": {
    "collapsed": false,
    "scrolled": true
   },
   "outputs": [
    {
     "name": "stdout",
     "output_type": "stream",
     "text": [
      "C:\\Users\\jlandman\\Desktop\\testnetCDFs\\groups\\dh_0000.nc\n",
      "C:\\Users\\jlandman\\Desktop\\testnetCDFs\\asciifromnc\\dh_0000_change_change.asc\n",
      "C:\\Users\\jlandman\\Desktop\\testnetCDFs\\asciifromnc\\dh_0000_change_uncertainty.asc\n",
      "C:\\Users\\jlandman\\Desktop\\testnetCDFs\\asciifromnc\\dh_0000_elevation_elevation.asc\n",
      "C:\\Users\\jlandman\\Desktop\\testnetCDFs\\asciifromnc\\dh_0000_elevation_uncertainty.asc\n",
      "C:\\Users\\jlandman\\Desktop\\testnetCDFs\\groups\\dh_0001.nc\n",
      "C:\\Users\\jlandman\\Desktop\\testnetCDFs\\asciifromnc\\dh_0001_change_change.asc\n",
      "C:\\Users\\jlandman\\Desktop\\testnetCDFs\\asciifromnc\\dh_0001_change_uncertainty.asc\n",
      "C:\\Users\\jlandman\\Desktop\\testnetCDFs\\asciifromnc\\dh_0001_elevation_elevation.asc\n",
      "C:\\Users\\jlandman\\Desktop\\testnetCDFs\\asciifromnc\\dh_0001_elevation_uncertainty.asc\n",
      "C:\\Users\\jlandman\\Desktop\\testnetCDFs\\groups\\dh_0002.nc\n",
      "C:\\Users\\jlandman\\Desktop\\testnetCDFs\\asciifromnc\\dh_0002_change_change.asc\n",
      "C:\\Users\\jlandman\\Desktop\\testnetCDFs\\asciifromnc\\dh_0002_change_uncertainty.asc\n",
      "C:\\Users\\jlandman\\Desktop\\testnetCDFs\\asciifromnc\\dh_0002_elevation_elevation.asc\n",
      "C:\\Users\\jlandman\\Desktop\\testnetCDFs\\asciifromnc\\dh_0002_elevation_uncertainty.asc\n",
      "C:\\Users\\jlandman\\Desktop\\testnetCDFs\\groups\\dh_0003.nc\n",
      "C:\\Users\\jlandman\\Desktop\\testnetCDFs\\asciifromnc\\dh_0003_change_change.asc\n",
      "C:\\Users\\jlandman\\Desktop\\testnetCDFs\\asciifromnc\\dh_0003_change_uncertainty.asc\n",
      "C:\\Users\\jlandman\\Desktop\\testnetCDFs\\asciifromnc\\dh_0003_elevation_elevation.asc\n",
      "C:\\Users\\jlandman\\Desktop\\testnetCDFs\\asciifromnc\\dh_0003_elevation_uncertainty.asc\n",
      "C:\\Users\\jlandman\\Desktop\\testnetCDFs\\groups\\dh_0004.nc\n",
      "C:\\Users\\jlandman\\Desktop\\testnetCDFs\\asciifromnc\\dh_0004_change_change.asc\n",
      "C:\\Users\\jlandman\\Desktop\\testnetCDFs\\asciifromnc\\dh_0004_change_uncertainty.asc\n",
      "C:\\Users\\jlandman\\Desktop\\testnetCDFs\\asciifromnc\\dh_0004_elevation_elevation.asc\n",
      "C:\\Users\\jlandman\\Desktop\\testnetCDFs\\asciifromnc\\dh_0004_elevation_uncertainty.asc\n",
      "C:\\Users\\jlandman\\Desktop\\testnetCDFs\\groups\\dh_0005.nc\n",
      "C:\\Users\\jlandman\\Desktop\\testnetCDFs\\asciifromnc\\dh_0005_change_change.asc\n",
      "C:\\Users\\jlandman\\Desktop\\testnetCDFs\\asciifromnc\\dh_0005_change_uncertainty.asc\n",
      "C:\\Users\\jlandman\\Desktop\\testnetCDFs\\asciifromnc\\dh_0005_elevation_elevation.asc\n",
      "C:\\Users\\jlandman\\Desktop\\testnetCDFs\\asciifromnc\\dh_0005_elevation_uncertainty.asc\n",
      "C:\\Users\\jlandman\\Desktop\\testnetCDFs\\groups\\dh_0006.nc\n",
      "C:\\Users\\jlandman\\Desktop\\testnetCDFs\\asciifromnc\\dh_0006_change_change.asc\n",
      "C:\\Users\\jlandman\\Desktop\\testnetCDFs\\asciifromnc\\dh_0006_change_uncertainty.asc\n",
      "C:\\Users\\jlandman\\Desktop\\testnetCDFs\\asciifromnc\\dh_0006_elevation_elevation.asc\n",
      "C:\\Users\\jlandman\\Desktop\\testnetCDFs\\asciifromnc\\dh_0006_elevation_uncertainty.asc\n",
      "C:\\Users\\jlandman\\Desktop\\testnetCDFs\\groups\\dh_0007.nc\n",
      "C:\\Users\\jlandman\\Desktop\\testnetCDFs\\asciifromnc\\dh_0007_change_change.asc\n",
      "C:\\Users\\jlandman\\Desktop\\testnetCDFs\\asciifromnc\\dh_0007_change_uncertainty.asc\n",
      "C:\\Users\\jlandman\\Desktop\\testnetCDFs\\asciifromnc\\dh_0007_elevation_elevation.asc\n",
      "C:\\Users\\jlandman\\Desktop\\testnetCDFs\\asciifromnc\\dh_0007_elevation_uncertainty.asc\n",
      "C:\\Users\\jlandman\\Desktop\\testnetCDFs\\groups\\dh_0008.nc\n",
      "C:\\Users\\jlandman\\Desktop\\testnetCDFs\\asciifromnc\\dh_0008_change_change.asc\n",
      "C:\\Users\\jlandman\\Desktop\\testnetCDFs\\asciifromnc\\dh_0008_change_uncertainty.asc\n",
      "C:\\Users\\jlandman\\Desktop\\testnetCDFs\\asciifromnc\\dh_0008_elevation_elevation.asc\n",
      "C:\\Users\\jlandman\\Desktop\\testnetCDFs\\asciifromnc\\dh_0008_elevation_uncertainty.asc\n",
      "C:\\Users\\jlandman\\Desktop\\testnetCDFs\\groups\\dh_0009.nc\n",
      "C:\\Users\\jlandman\\Desktop\\testnetCDFs\\asciifromnc\\dh_0009_change_change.asc\n",
      "C:\\Users\\jlandman\\Desktop\\testnetCDFs\\asciifromnc\\dh_0009_change_uncertainty.asc\n",
      "C:\\Users\\jlandman\\Desktop\\testnetCDFs\\asciifromnc\\dh_0009_elevation_elevation.asc\n",
      "C:\\Users\\jlandman\\Desktop\\testnetCDFs\\asciifromnc\\dh_0009_elevation_uncertainty.asc\n"
     ]
    }
   ],
   "source": [
    "#Open existing dataset\n",
    "src_ds_list = glob(\"C:\\\\Users\\\\jlandman\\\\Desktop\\\\testnetCDFs\\\\groups\\\\*.nc\")\n",
    "\n",
    "for path in src_ds_list[:10]:\n",
    "    src_ds = gdal.Open(path)\n",
    "    print(path)\n",
    "    \n",
    "    subdata = src.GetSubDatasets()\n",
    "    for s in range(len(subdata)):\n",
    "        \n",
    "        sds = gdal.Open(subdata[s][0])\n",
    "        \n",
    "        dst_path = (\"\\\\\").join(os.path.dirname(path).split('\\\\')[:-1]) + \\\n",
    "        \"\\\\\" + \"asciifromnc\" + \"\\\\\" + os.path.basename(path).split('.')[0] + \\\n",
    "        \"_\" + ('_').join(subdata[s][0].split('//')[-1].split('/')) + '.asc'\n",
    "        \n",
    "        print(dst_path)\n",
    "        # Open output format driver, see gdal_translate --formats for list\n",
    "        oformat = \"AAIGrid\"\n",
    "        driver = gdal.GetDriverByName(format)\n",
    "\n",
    "        # Output to new format\n",
    "        dst_ds = driver.CreateCopy( dst_path, sds, 0 )\n",
    "        #os.system(\"gdal_translate -of %s NETCDF:%s %s\" % (oformat, sds, dst_path))\n",
    "        # \"filename.nc\":dem_bnds %s\"\n",
    "        # Properly close the datasets to flush to disk\n",
    "        dst_ds = None\n",
    "    src_ds = None"
   ]
  },
  {
   "cell_type": "code",
   "execution_count": 267,
   "metadata": {
    "collapsed": false
   },
   "outputs": [
    {
     "data": {
      "text/plain": [
       "(2, 314, 546)"
      ]
     },
     "execution_count": 267,
     "metadata": {},
     "output_type": "execute_result"
    }
   ],
   "source": [
    "sds.ReadAsArray().shape"
   ]
  },
  {
   "cell_type": "code",
   "execution_count": 224,
   "metadata": {
    "collapsed": false
   },
   "outputs": [],
   "source": [
    "f = nc.Dataset(\"C:\\\\Users\\\\jlandman\\\\Desktop\\\\testnetCDFs\\\\groups\\\\dh_3071.nc\")"
   ]
  },
  {
   "cell_type": "code",
   "execution_count": 225,
   "metadata": {
    "collapsed": false
   },
   "outputs": [],
   "source": [
    "change = f['change'].variables['change']\n",
    "elevation = f['elevation'].variables['elevation']"
   ]
  },
  {
   "cell_type": "code",
   "execution_count": 226,
   "metadata": {
    "collapsed": false
   },
   "outputs": [
    {
     "data": {
      "text/plain": [
       "(2, 314, 546)"
      ]
     },
     "execution_count": 226,
     "metadata": {},
     "output_type": "execute_result"
    }
   ],
   "source": [
    "change.shape"
   ]
  },
  {
   "cell_type": "code",
   "execution_count": 227,
   "metadata": {
    "collapsed": false
   },
   "outputs": [
    {
     "name": "stdout",
     "output_type": "stream",
     "text": [
      "NetCDF Global Attributes:\n",
      "\tWGMS_ID: 391\n",
      "\tglaciername: 'GORNER'\n",
      "\tregion: 'CEU'\n",
      "\tsubregion: 'CEU-01'\n",
      "\treference: nan\n",
      "\tsource: 'World Glacier Monitoring Service, Zurich, Switzerland'\n",
      "\thistory: 'Created Wed Aug 24 15:21:03 2016'\n",
      "\t_FillValue: -9999.0\n",
      "NetCDF dimension information:\n",
      "NetCDF variable information:\n"
     ]
    },
    {
     "data": {
      "text/plain": [
       "(['WGMS_ID',\n",
       "  'glaciername',\n",
       "  'region',\n",
       "  'subregion',\n",
       "  'reference',\n",
       "  'source',\n",
       "  'history',\n",
       "  '_FillValue'],\n",
       " [],\n",
       " [])"
      ]
     },
     "execution_count": 227,
     "metadata": {},
     "output_type": "execute_result"
    }
   ],
   "source": [
    "ncdump(f)"
   ]
  },
  {
   "cell_type": "code",
   "execution_count": 232,
   "metadata": {
    "collapsed": false
   },
   "outputs": [
    {
     "name": "stdout",
     "output_type": "stream",
     "text": [
      "<class 'netCDF4._netCDF4.Dataset'>\n",
      "root group (NETCDF4 data model, file format HDF5):\n",
      "    WGMS_ID: 391\n",
      "    glaciername: GORNER\n",
      "    region: CEU\n",
      "    subregion: CEU-01\n",
      "    reference: nan\n",
      "    source: World Glacier Monitoring Service, Zurich, Switzerland\n",
      "    history: Created Wed Aug 24 15:21:03 2016\n",
      "    _FillValue: -9999.0\n",
      "    dimensions(sizes): \n",
      "    variables(dimensions): \n",
      "    groups: change, elevation\n",
      "\n",
      "<class 'netCDF4._netCDF4.Group'>\n",
      "group /change:\n",
      "    dimensions(sizes): latitude(314), longitude(546), level(2)\n",
      "    variables(dimensions): float32 \u001b[4mlatitude\u001b[0m(latitude), float32 \u001b[4mlongitude\u001b[0m(longitude), int32 \u001b[4mlevel\u001b[0m(level), float64 \u001b[4mchange\u001b[0m(level,latitude,longitude), float64 \u001b[4muncertainty\u001b[0m(level,latitude,longitude)\n",
      "    groups: \n",
      "\n",
      "<class 'netCDF4._netCDF4.Group'>\n",
      "group /elevation:\n",
      "    dimensions(sizes): latitude(314), longitude(546), time(2)\n",
      "    variables(dimensions): float32 \u001b[4mlatitude\u001b[0m(latitude), float32 \u001b[4mlongitude\u001b[0m(longitude), int16 \u001b[4mtime\u001b[0m(time), float64 \u001b[4melevation\u001b[0m(time,latitude,longitude), float64 \u001b[4muncertainty\u001b[0m(time,latitude,longitude)\n",
      "    groups: \n",
      "\n"
     ]
    }
   ],
   "source": [
    "strucinfo(f)"
   ]
  },
  {
   "cell_type": "code",
   "execution_count": 198,
   "metadata": {
    "collapsed": false
   },
   "outputs": [
    {
     "ename": "AttributeError",
     "evalue": "NetCDF: Attribute not found",
     "output_type": "error",
     "traceback": [
      "\u001b[1;31m---------------------------------------------------------------------------\u001b[0m",
      "\u001b[1;31mAttributeError\u001b[0m                            Traceback (most recent call last)",
      "\u001b[1;32m<ipython-input-198-3e06d8c0367d>\u001b[0m in \u001b[0;36m<module>\u001b[1;34m()\u001b[0m\n\u001b[1;32m----> 1\u001b[1;33m \u001b[0mf\u001b[0m\u001b[1;33m.\u001b[0m\u001b[0mgetncattr\u001b[0m\u001b[1;33m(\u001b[0m\u001b[1;34m'missing_value'\u001b[0m\u001b[1;33m)\u001b[0m\u001b[1;33m\u001b[0m\u001b[0m\n\u001b[0m",
      "\u001b[1;32mnetCDF4\\_netCDF4.pyx\u001b[0m in \u001b[0;36mnetCDF4._netCDF4.Dataset.getncattr (netCDF4\\_netCDF4.c:18469)\u001b[1;34m()\u001b[0m\n",
      "\u001b[1;32mnetCDF4\\_netCDF4.pyx\u001b[0m in \u001b[0;36mnetCDF4._netCDF4._get_att (netCDF4\\_netCDF4.c:4116)\u001b[1;34m()\u001b[0m\n",
      "\u001b[1;31mAttributeError\u001b[0m: NetCDF: Attribute not found"
     ]
    }
   ],
   "source": [
    "f.getncattr('missing_value')"
   ]
  },
  {
   "cell_type": "code",
   "execution_count": 144,
   "metadata": {
    "collapsed": false
   },
   "outputs": [
    {
     "data": {
      "text/plain": [
       "<matplotlib.image.AxesImage at 0x2542ba6f898>"
      ]
     },
     "execution_count": 144,
     "metadata": {},
     "output_type": "execute_result"
    },
    {
     "data": {
      "image/png": "[encoded data removed]",
      "text/plain": [
       "<matplotlib.figure.Figure at 0x2542babd400>"
      ]
     },
     "metadata": {},
     "output_type": "display_data"
    }
   ],
   "source": [
    "plt.imshow(elevation[0,:,:])"
   ]
  },
  {
   "cell_type": "code",
   "execution_count": 201,
   "metadata": {
    "collapsed": true
   },
   "outputs": [],
   "source": [
    "f.close()"
   ]
  },
  {
   "cell_type": "code",
   "execution_count": 146,
   "metadata": {
    "collapsed": false
   },
   "outputs": [
    {
     "data": {
      "text/plain": [
       "<matplotlib.image.AxesImage at 0x2542bbe6d30>"
      ]
     },
     "execution_count": 146,
     "metadata": {},
     "output_type": "execute_result"
    },
    {
     "data": {
      "image/png": "[encoded data removed]",
      "text/plain": [
       "<matplotlib.figure.Figure at 0x2542cfda390>"
      ]
     },
     "metadata": {},
     "output_type": "display_data"
    }
   ],
   "source": [
    "plt.imshow(dvi_big[:,:,0], interpolation='none', origin='lower')"
   ]
  },
  {
   "cell_type": "code",
   "execution_count": 47,
   "metadata": {
    "collapsed": false
   },
   "outputs": [
    {
     "data": {
      "text/plain": [
       "(20, 31, 4)"
      ]
     },
     "execution_count": 47,
     "metadata": {},
     "output_type": "execute_result"
    }
   ],
   "source": [
    "dvi_big[:,:,:].shape"
   ]
  },
  {
   "cell_type": "code",
   "execution_count": null,
   "metadata": {
    "collapsed": true
   },
   "outputs": [],
   "source": []
  },
  {
   "cell_type": "code",
   "execution_count": 233,
   "metadata": {
    "collapsed": true
   },
   "outputs": [],
   "source": [
    "src = gdal.Open('C:\\\\Users\\\\jlandman\\\\Desktop\\\\testnetCDFs\\\\groups\\\\dh_3071.nc')"
   ]
  },
  {
   "cell_type": "code",
   "execution_count": 253,
   "metadata": {
    "collapsed": false
   },
   "outputs": [
    {
     "data": {
      "text/plain": [
       "'change_change'"
      ]
     },
     "execution_count": 253,
     "metadata": {},
     "output_type": "execute_result"
    }
   ],
   "source": [
    "('_').join(src.GetSubDatasets()[0][0].split('//')[-1].split('/'))"
   ]
  },
  {
   "cell_type": "code",
   "execution_count": 247,
   "metadata": {
    "collapsed": false
   },
   "outputs": [
    {
     "data": {
      "text/plain": [
       "{'WGMS_ID': '',\n",
       " '_FillValue': '-9999 ',\n",
       " 'change_change_DIMENSION_LIST': '',\n",
       " 'change_change_least_significant_digit': '3 ',\n",
       " 'change_change_units': 'm',\n",
       " 'change_latitude_CLASS': 'DIMENSION_SCALE',\n",
       " 'change_latitude_NAME': 'latitude',\n",
       " 'change_latitude_REFERENCE_LIST': '',\n",
       " 'change_latitude__Netcdf4Dimid': '3 ',\n",
       " 'change_latitude_least_significant_digit': '5 ',\n",
       " 'change_latitude_units': 'degrees_north',\n",
       " 'change_level_CLASS': 'DIMENSION_SCALE',\n",
       " 'change_level_NAME': 'level',\n",
       " 'change_level_REFERENCE_LIST': '',\n",
       " 'change_level__Netcdf4Dimid': '5 ',\n",
       " 'change_level_least_significant_digit': '0 ',\n",
       " 'change_longitude_CLASS': 'DIMENSION_SCALE',\n",
       " 'change_longitude_NAME': 'longitude',\n",
       " 'change_longitude_REFERENCE_LIST': '',\n",
       " 'change_longitude__Netcdf4Dimid': '4 ',\n",
       " 'change_longitude_least_significant_digit': '5 ',\n",
       " 'change_longitude_units': 'degrees_east',\n",
       " 'change_uncertainty_DIMENSION_LIST': '',\n",
       " 'change_uncertainty_least_significant_digit': '3 ',\n",
       " 'change_uncertainty_units': 'm',\n",
       " 'elevation_elevation_DIMENSION_LIST': '',\n",
       " 'elevation_elevation_least_significant_digit': '3 ',\n",
       " 'elevation_elevation_units': 'm',\n",
       " 'elevation_latitude_CLASS': 'DIMENSION_SCALE',\n",
       " 'elevation_latitude_NAME': 'latitude',\n",
       " 'elevation_latitude_REFERENCE_LIST': '',\n",
       " 'elevation_latitude__Netcdf4Dimid': '0 ',\n",
       " 'elevation_latitude_least_significant_digit': '5 ',\n",
       " 'elevation_latitude_units': 'degrees_north',\n",
       " 'elevation_longitude_CLASS': 'DIMENSION_SCALE',\n",
       " 'elevation_longitude_NAME': 'longitude',\n",
       " 'elevation_longitude_REFERENCE_LIST': '',\n",
       " 'elevation_longitude__Netcdf4Dimid': '1 ',\n",
       " 'elevation_longitude_least_significant_digit': '5 ',\n",
       " 'elevation_longitude_units': 'degrees_east',\n",
       " 'elevation_time_CLASS': 'DIMENSION_SCALE',\n",
       " 'elevation_time_NAME': 'time',\n",
       " 'elevation_time_REFERENCE_LIST': '',\n",
       " 'elevation_time__Netcdf4Dimid': '2 ',\n",
       " 'elevation_time_calendar': 'gregorian',\n",
       " 'elevation_time_least_significant_digit': '0 ',\n",
       " 'elevation_time_units': 'years AD',\n",
       " 'elevation_uncertainty_DIMENSION_LIST': '',\n",
       " 'elevation_uncertainty_least_significant_digit': '3 ',\n",
       " 'elevation_uncertainty_units': 'm',\n",
       " 'glaciername': 'GORNER',\n",
       " 'history': 'Created Wed Aug 24 15:21:03 2016',\n",
       " 'reference': 'nan ',\n",
       " 'region': 'CEU',\n",
       " 'source': 'World Glacier Monitoring Service, Zurich, Switzerland',\n",
       " 'subregion': 'CEU-01'}"
      ]
     },
     "execution_count": 247,
     "metadata": {},
     "output_type": "execute_result"
    }
   ],
   "source": [
    "src.GetMetadata_Dict()"
   ]
  },
  {
   "cell_type": "code",
   "execution_count": null,
   "metadata": {
    "collapsed": true
   },
   "outputs": [],
   "source": []
  }
 ],
 "metadata": {
  "kernelspec": {
   "display_name": "Python 3",
   "language": "python",
   "name": "python3"
  },
  "language_info": {
   "codemirror_mode": {
    "name": "ipython",
    "version": 3
   },
   "file_extension": ".py",
   "mimetype": "text/x-python",
   "name": "python",
   "nbconvert_exporter": "python",
   "pygments_lexer": "ipython3",
   "version": "3.5.1"
  }
 },
 "nbformat": 4,
 "nbformat_minor": 0
}
