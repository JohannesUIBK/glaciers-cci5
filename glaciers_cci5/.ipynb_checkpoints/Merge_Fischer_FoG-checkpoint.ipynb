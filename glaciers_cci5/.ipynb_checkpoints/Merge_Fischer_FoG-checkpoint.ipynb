{
 "cells": [
  {
   "cell_type": "markdown",
   "metadata": {},
   "source": [
    "# Modules"
   ]
  },
  {
   "cell_type": "code",
   "execution_count": 3,
   "metadata": {
    "collapsed": false
   },
   "outputs": [],
   "source": [
    "import pandas as pd\n",
    "import numpy as np\n",
    "import unidecode\n",
    "from difflib import SequenceMatcher\n",
    "import salem\n",
    "import matplotlib.pyplot as plt \n",
    "import re\n",
    "import os\n",
    "% matplotlib inline"
   ]
  },
  {
   "cell_type": "markdown",
   "metadata": {},
   "source": [
    "# File paths"
   ]
  },
  {
   "cell_type": "code",
   "execution_count": 4,
   "metadata": {
    "collapsed": true
   },
   "outputs": [],
   "source": [
    "f_path = 'C:\\\\Users\\\\jlandman\\\\Desktop\\\\database_Fischer_et_al._2015_The_Cryosphere.txt'                 # Fischer database with swiss coordinates \n",
    "fll_path = 'C:\\\\Users\\\\jlandman\\\\Desktop\\\\SGI2010wgs84_shapefiles\\\\parameters_SGI2010.csv'               # Fischer database with lat/lon\n",
    "a_path = 'C:\\\\Users\\\\jlandman\\\\Desktop\\\\DOI-WGMS-FoG-2015-11\\\\WGMS-FoG-2015-11-A-GENERAL-INFORMATION.csv'# FoG: A GENERAL\n",
    "b_path = 'C:\\\\Users\\\\jlandman\\\\Desktop\\\\DOI-WGMS-FoG-2015-11\\\\WGMS-FoG-2015-11-B-STATE.csv'              # FoG: B STATE\n",
    "d_path = 'C:\\\\Users\\\\jlandman\\\\Desktop\\\\DOI-WGMS-FoG-2015-11\\\\WGMS-FoG-2015-11-D-CHANGE.csv'             # FoG: D CHANGE"
   ]
  },
  {
   "cell_type": "markdown",
   "metadata": {},
   "source": [
    "# Read files"
   ]
  },
  {
   "cell_type": "code",
   "execution_count": 5,
   "metadata": {
    "collapsed": false
   },
   "outputs": [],
   "source": [
    "pdf = pd.read_csv(f_path, sep = '\\t', encoding='iso-8859-1')\n",
    "pdfll = pd.read_csv(fll_path, sep= ';', encoding='iso-8859-1', usecols=[2,3,6,14,15]) # we only need ID and x/y here\n",
    "pda = pd.read_csv(a_path, encoding='iso-8859-1')\n",
    "pdb = pd.read_csv(b_path, encoding='iso-8859-1')\n",
    "pdd = pd.read_csv(d_path, encoding='iso-8859-1')"
   ]
  },
  {
   "cell_type": "markdown",
   "metadata": {},
   "source": [
    "# Preselect FoG IDs in Switzerland"
   ]
  },
  {
   "cell_type": "code",
   "execution_count": 6,
   "metadata": {
    "collapsed": false
   },
   "outputs": [],
   "source": [
    "pda = pda[pda.POLITICAL_UNIT == 'CH']\n",
    "pdb = pdb[pdb.WGMS_ID.isin(pda.WGMS_ID.values)]\n",
    "pdd = pdd[pdd.WGMS_ID.isin(pdd.WGMS_ID.values)]"
   ]
  },
  {
   "cell_type": "markdown",
   "metadata": {},
   "source": [
    "# Haversine function"
   ]
  },
  {
   "cell_type": "code",
   "execution_count": 7,
   "metadata": {
    "collapsed": true
   },
   "outputs": [],
   "source": [
    "def haversine(lon1, lat1, lon2, lat2):\n",
    "    \"\"\"\n",
    "    Calculate the great circle distance between one point \n",
    "    on the earth and an array of points (specified in decimal degrees)\n",
    "    \"\"\"\n",
    "    \n",
    "    # convert decimal degrees to radians \n",
    "    lon1, lat1, lon2, lat2 = map(np.radians, [lon1, lat1, lon2, lat2])\n",
    "\n",
    "    # haversine formula \n",
    "    dlon = lon2 - lon1\n",
    "    dlat = lat2 - lat1\n",
    "    a = np.sin(dlat/2)**2 + np.cos(lat1) * np.cos(lat2) * np.sin(dlon/2)**2\n",
    "    c = 2 * np.arcsin(np.sqrt(a)) \n",
    "    r = 6371000 # Radius of earth in meters\n",
    "    return c * r"
   ]
  },
  {
   "cell_type": "markdown",
   "metadata": {},
   "source": [
    "# Some settings"
   ]
  },
  {
   "cell_type": "code",
   "execution_count": 8,
   "metadata": {
    "collapsed": false
   },
   "outputs": [
    {
     "data": {
      "text/plain": [
       "range(7000, 8386)"
      ]
     },
     "execution_count": 8,
     "metadata": {},
     "output_type": "execute_result"
    }
   ],
   "source": [
    "begin_new_id = 7000  # where to start with assigning new WGMS IDs\n",
    "new_id_range = range(begin_new_id, begin_new_id+len(pdf)+1,1)\n",
    "new_id_range"
   ]
  },
  {
   "cell_type": "markdown",
   "metadata": {},
   "source": [
    "# Correct missing underscores and column names"
   ]
  },
  {
   "cell_type": "code",
   "execution_count": 9,
   "metadata": {
    "collapsed": false
   },
   "outputs": [],
   "source": [
    "pdf = pdf.rename(columns={'uncertainty_dvol_between_t1_and_t2_mio m3': 'uncertainty_dvol_between_t1_and_t2_mio_m3'})\n",
    "pdfll = pdfll.rename(columns={'uncertainty_dvol_between_t1_and_t2_mio m3': 'uncertainty_dvol_between_t1_and_t2_mio_m3'})\n",
    "\n",
    "pdfll = pdfll.rename(columns={'Unnamed: 15': 'Glacier_name_SGI2010'})"
   ]
  },
  {
   "cell_type": "markdown",
   "metadata": {},
   "source": [
    "# Find matching glaciers based on FoG => compare names, area and location"
   ]
  },
  {
   "cell_type": "markdown",
   "metadata": {},
   "source": [
    "### Dictionary of strings and symbols that need to be replaced prior to calculation of similarity score"
   ]
  },
  {
   "cell_type": "code",
   "execution_count": 10,
   "metadata": {
    "collapsed": true
   },
   "outputs": [],
   "source": [
    "name_adjust = {'gletscher':'g', 'glacier':'g' , 'vadret':'v', 'ghiacciaio':'g', 'vedretta':'v', 'ferner':'f', 'ä':'ae', 'ö':'oe', 'ü':'ue', 'é':'e', 'à':'a', 'è':'e', 'ô':'o', 'ß':'ss'} "
   ]
  },
  {
   "cell_type": "markdown",
   "metadata": {},
   "source": [
    "### Introduce FoG column with new names"
   ]
  },
  {
   "cell_type": "code",
   "execution_count": 11,
   "metadata": {
    "collapsed": false
   },
   "outputs": [],
   "source": [
    "pda['FoG_compname'] = ''\n",
    "\n",
    "for initname in [n for n in pda.NAME.values]:\n",
    "    name = initname.lower()\n",
    "    for key in name_adjust:\n",
    "        if key in name:\n",
    "            name = name.replace(key, name_adjust[key])\n",
    "    #pda.FoG_compname[pda.NAME == initname] = name\n",
    "    pda.loc[pda.NAME == initname, 'FoG_compname'] = name"
   ]
  },
  {
   "cell_type": "markdown",
   "metadata": {},
   "source": [
    "### Introduce some new columns"
   ]
  },
  {
   "cell_type": "code",
   "execution_count": 12,
   "metadata": {
    "collapsed": true
   },
   "outputs": [],
   "source": [
    "pdf.COMPNAME = ''              # simplified name \n",
    "pda.MATCH_RATIO = np.nan       # string matching ratio \n",
    "pda.MATCH_NAME = ''            # Name of the FoG glacier that matches Mauro's name best\n",
    "pda.CLOSEST = ''               # closest FoG glacier point\n",
    "pda.DIST_TO_CLOSEST = np.nan   # distance of Mauro's point to the closest FoG point \n",
    "pda.AREA_CLOSEST = np.nan      # column with the area of Mauro's glacier found by string matching \n",
    "pda.AREA_MATCH = np.nan        # column with the area of Mauro's glacier found by string matching\n",
    "pda.AREA = np.nan"
   ]
  },
  {
   "cell_type": "markdown",
   "metadata": {},
   "source": [
    "### Adjust also Mauro's names to make them comparable"
   ]
  },
  {
   "cell_type": "code",
   "execution_count": 13,
   "metadata": {
    "collapsed": false
   },
   "outputs": [],
   "source": [
    "for idx,cols in pdf.iterrows():\n",
    "    # simplify name\n",
    "    compname_mau = cols.Glacier_name_SGI2010.lower()\n",
    "    for key in name_adjust:\n",
    "        if key in compname_mau:\n",
    "            # replace the umlauts etc.\n",
    "            compname_mau = compname_mau.replace(key, name_adjust[key])\n",
    "    \n",
    "    # delete the bracket stuff in order to improve the ratio\n",
    "    start = compname_mau.find('(')\n",
    "    if start != -1:\n",
    "        compname_mau = compname_mau[0:start]\n",
    "    compname_mau = compname_mau.replace('*', '')\n",
    "    compname_mau = compname_mau.strip()\n",
    "\n",
    "    pdf.loc[pdf.Glacier_name_SGI2010 == cols.Glacier_name_SGI2010, 'COMPNAME'] = compname_mau"
   ]
  },
  {
   "cell_type": "markdown",
   "metadata": {},
   "source": [
    "### Find matching glaciers for the 159 swiss glaciers in PDA"
   ]
  },
  {
   "cell_type": "markdown",
   "metadata": {
    "collapsed": false
   },
   "source": [
    "for fidx,fcols in pda[0:10].iterrows():\n",
    "    \n",
    "    # create an AREA column entry (from the \"state\" table)\n",
    "    try: # take the latest area entry\n",
    "        area_match = pdb[pdb.WGMS_ID == fcols.WGMS_ID].AREA.values[~np.isnan(pdb[pdb.WGMS_ID == fcols.WGMS_ID].AREA.values)][-1]\n",
    "    except IndexError:\n",
    "        area_match = np.nan\n",
    "    pda.loc[pda.WGMS_ID == fcols.WGMS_ID, 'AREA'] = area_match\n",
    "    \n",
    "    \n",
    "    # find biggest ratio of string matching and insert\n",
    "    ratio = np.nan\n",
    "    name = ''\n",
    "    for cname in pdf['COMPNAME'].values:\n",
    "        \n",
    "        curr_ratio = SequenceMatcher(None, fcols.FoG_compname, cname).ratio()\n",
    "        \n",
    "        if curr_ratio > ratio or pd.isnull(ratio):  #the latter in order to catch the initial case\n",
    "            ratio = curr_ratio\n",
    "            name = cname\n",
    "            \n",
    "    pda.loc[pda.NAME == fcols.NAME, 'MATCH_RATIO'] = ratio\n",
    "    pda.loc[pda.NAME == fcols.NAME, 'MATCH_NAME'] = name\n",
    "    \n",
    "    # insert the area (at t2, because this is the latest) of the glacier found by string matching\n",
    "    pda.loc[pda.NAME == fcols.NAME, 'AREA_MATCH'] = pdf[pdf['COMPNAME'] == name].area_t2_km2.iloc[0]\n",
    "    \n",
    "    \n",
    "    #find closest pdf glacier\n",
    "    dist = np.nan\n",
    "    close_name = ''\n",
    "    for pdf_idx, pdf_cols in pdf.iterrows():\n",
    "        lat = pdfll[pdfll.Glacier_name_SGI2010 == pdf_cols.Code_SGI2010]['y WGS84)'].values[0]\n",
    "        lon = pdfll[pdfll.Glacier_name_SGI2010 == pdf_cols.Code_SGI2010]['Location(x WGS84)'].values[0]\n",
    "        curr_dist = haversine(lon, lat, fcols.LONGITUDE, fcols.LATITUDE)\n",
    "        \n",
    "        if curr_dist < dist or pd.isnull(dist): # the second is for the initial loop\n",
    "            dist = curr_dist\n",
    "            close_name = pdf_cols.COMPNAME\n",
    "    \n",
    "    pda.loc[pda.NAME == fcols.NAME, 'DIST_TO_CLOSEST'] = dist\n",
    "    pda.loc[pda.NAME == fcols.NAME, 'CLOSEST'] = close_name\n",
    "    \n",
    "    print(fcols.NAME)\n",
    "    # insert the area (at t2, because this is the latest) of the glacier ehic is found to be the closest\n",
    "    pda.loc[pda.NAME == fcols.NAME, 'AREA_CLOSEST'] = pdf[pdf['COMPNAME'] == close_name].area_t2_km2.iloc[0]"
   ]
  },
  {
   "cell_type": "code",
   "execution_count": 14,
   "metadata": {
    "collapsed": true
   },
   "outputs": [],
   "source": [
    "pdfll.COMPNAME = ''              # simplified name "
   ]
  },
  {
   "cell_type": "code",
   "execution_count": 15,
   "metadata": {
    "collapsed": true
   },
   "outputs": [],
   "source": [
    "for idx,cols in pdfll.iterrows():\n",
    "    # simplify name\n",
    "    compname_mau = cols.Names.lower()\n",
    "    for key in name_adjust:\n",
    "        if key in compname_mau:\n",
    "            # replace the umlauts etc.\n",
    "            compname_mau = compname_mau.replace(key, name_adjust[key])\n",
    "    \n",
    "    # delete the bracket stuff in order to improve the ratio\n",
    "    start = compname_mau.find('(')\n",
    "    if start != -1:\n",
    "        compname_mau = compname_mau[0:start]\n",
    "    compname_mau = compname_mau.replace('*', '')\n",
    "    compname_mau = compname_mau.strip()\n",
    "\n",
    "    pdfll.loc[pdfll.Names == cols.Names, 'COMPNAME'] = compname_mau\n",
    "  "
   ]
  },
  {
   "cell_type": "code",
   "execution_count": null,
   "metadata": {
    "collapsed": false
   },
   "outputs": [],
   "source": [
    "#if os.path.exists('assigned_automated.csv'):\n",
    "#    pass\n",
    "\n",
    "#else:\n",
    "for fidx,fcols in pda.iterrows():\n",
    "\n",
    "    # create an AREA column entry (from the \"state\" table)\n",
    "    area_match = np.nan\n",
    "    try: # take the latest area entry\n",
    "        area_match = pdb[pdb.WGMS_ID == fcols.WGMS_ID].AREA.values[~np.isnan(pdb[pdb.WGMS_ID == fcols.WGMS_ID].AREA.values)][-1]\n",
    "    except IndexError:\n",
    "        area_match = np.nan\n",
    "    pda.loc[pda.WGMS_ID == fcols.WGMS_ID, 'AREA'] = area_match\n",
    "\n",
    "\n",
    "    # find biggest ratio of string matching and insert\n",
    "    ratio = 0.0\n",
    "    name = ''\n",
    "    for cname in pdfll['COMPNAME'].values:\n",
    "        curr_ratio = SequenceMatcher(None, cname, fcols.FoG_compname).ratio()\n",
    "\n",
    "        if curr_ratio > ratio or ratio==0.0:  #the latter in order to catch the initial case\n",
    "            ratio = curr_ratio\n",
    "            name = cname\n",
    "\n",
    "    pda.loc[pda.NAME == fcols.NAME, 'MATCH_RATIO'] = ratio\n",
    "    pda.loc[pda.NAME == fcols.NAME, 'MATCH_NAME'] = name\n",
    "\n",
    "    # insert the area (at t2, because this is the latest) of the glacier found by string matching\n",
    "    pda.loc[pda.NAME == fcols.NAME, 'AREA_MATCH'] = pdfll[pdfll['COMPNAME'] == name]['area(km2)'].iloc[0]\n",
    "\n",
    "\n",
    "    #find closest pdf glacier\n",
    "    dist = np.nan\n",
    "    close_name = ''\n",
    "    for pdf_idx, pdf_cols in pdfll.iterrows():\n",
    "        lat = pdfll[pdfll.Names == pdf_cols.Names]['y WGS84)'].values[0]\n",
    "        lon = pdfll[pdfll.Names == pdf_cols.Names]['Location(x WGS84)'].values[0]\n",
    "        curr_dist = haversine(lon, lat, fcols.LONGITUDE, fcols.LATITUDE)\n",
    "\n",
    "        if curr_dist < dist or pd.isnull(dist): # the second is for the initial loop\n",
    "            dist = curr_dist\n",
    "            close_name = pdf_cols.COMPNAME\n",
    "\n",
    "    pda.loc[pda.NAME == fcols.NAME, 'DIST_TO_CLOSEST'] = dist\n",
    "    pda.loc[pda.NAME == fcols.NAME, 'CLOSEST'] = close_name\n",
    "\n",
    "    print(fcols.NAME)\n",
    "    # insert the area (at t2, because this is the latest) of the glacier ehic is found to be the closest\n",
    "    pda.loc[pda.NAME == fcols.NAME, 'AREA_CLOSEST'] = pdfll[pdfll['COMPNAME'] == close_name]['area(km2)'].iloc[0]\n",
    "\n",
    "\n",
    "    pda.to_csv('assigned_automated.csv')"
   ]
  },
  {
   "cell_type": "code",
   "execution_count": 17,
   "metadata": {
    "collapsed": true
   },
   "outputs": [],
   "source": [
    "pda.to_csv('assigned_automated.csv')"
   ]
  },
  {
   "cell_type": "code",
   "execution_count": 290,
   "metadata": {
    "collapsed": false
   },
   "outputs": [
    {
     "data": {
      "text/html": [
       "<div>\n",
       "<table border=\"1\" class=\"dataframe\">\n",
       "  <thead>\n",
       "    <tr style=\"text-align: right;\">\n",
       "      <th></th>\n",
       "      <th>NAME</th>\n",
       "      <th>FoG_compname</th>\n",
       "      <th>MATCH_RATIO</th>\n",
       "      <th>MATCH_NAME</th>\n",
       "      <th>DIST_TO_CLOSEST</th>\n",
       "      <th>CLOSEST</th>\n",
       "      <th>AREA</th>\n",
       "      <th>AREA_MATCH</th>\n",
       "      <th>AREA_CLOSEST</th>\n",
       "    </tr>\n",
       "  </thead>\n",
       "  <tbody>\n",
       "    <tr>\n",
       "      <th>793</th>\n",
       "      <td>PLATTALVA</td>\n",
       "      <td>plattalva</td>\n",
       "      <td>0.600000</td>\n",
       "      <td>piz muttala</td>\n",
       "      <td>858.783359</td>\n",
       "      <td>griessfirn-n</td>\n",
       "      <td>0.73</td>\n",
       "      <td>0.06338</td>\n",
       "      <td>0.33594</td>\n",
       "    </tr>\n",
       "    <tr>\n",
       "      <th>794</th>\n",
       "      <td>PORCHABELLA</td>\n",
       "      <td>porchabella</td>\n",
       "      <td>0.814815</td>\n",
       "      <td>porchabella v da</td>\n",
       "      <td>230.998086</td>\n",
       "      <td>porchabella v da</td>\n",
       "      <td>2.59</td>\n",
       "      <td>1.67562</td>\n",
       "      <td>1.67562</td>\n",
       "    </tr>\n",
       "    <tr>\n",
       "      <th>795</th>\n",
       "      <td>PRAPIO</td>\n",
       "      <td>prapio</td>\n",
       "      <td>0.705882</td>\n",
       "      <td>prapio g du</td>\n",
       "      <td>507.398171</td>\n",
       "      <td>prapio g du</td>\n",
       "      <td>0.36</td>\n",
       "      <td>0.21156</td>\n",
       "      <td>0.21156</td>\n",
       "    </tr>\n",
       "    <tr>\n",
       "      <th>796</th>\n",
       "      <td>PUNTEGLIAS</td>\n",
       "      <td>punteglias</td>\n",
       "      <td>0.714286</td>\n",
       "      <td>fuorcla punteglias</td>\n",
       "      <td>455.219529</td>\n",
       "      <td>piz urlaun-s</td>\n",
       "      <td>0.93</td>\n",
       "      <td>0.25875</td>\n",
       "      <td>0.22156</td>\n",
       "    </tr>\n",
       "    <tr>\n",
       "      <th>797</th>\n",
       "      <td>RAETZLI (PLAINE MORTE)</td>\n",
       "      <td>raetzli (plaine morte)</td>\n",
       "      <td>0.619048</td>\n",
       "      <td>g de la plaine morte</td>\n",
       "      <td>1242.784421</td>\n",
       "      <td>g de la plaine morte</td>\n",
       "      <td>9.80</td>\n",
       "      <td>7.29375</td>\n",
       "      <td>7.29375</td>\n",
       "    </tr>\n",
       "    <tr>\n",
       "      <th>798</th>\n",
       "      <td>RHONE</td>\n",
       "      <td>rhone</td>\n",
       "      <td>0.909091</td>\n",
       "      <td>rhoneg</td>\n",
       "      <td>218.315423</td>\n",
       "      <td>rhoneg</td>\n",
       "      <td>15.80</td>\n",
       "      <td>15.31000</td>\n",
       "      <td>15.31000</td>\n",
       "    </tr>\n",
       "    <tr>\n",
       "      <th>799</th>\n",
       "      <td>RIED</td>\n",
       "      <td>ried</td>\n",
       "      <td>0.888889</td>\n",
       "      <td>riedg</td>\n",
       "      <td>1359.600643</td>\n",
       "      <td>duerreng</td>\n",
       "      <td>8.26</td>\n",
       "      <td>7.31687</td>\n",
       "      <td>0.08040</td>\n",
       "    </tr>\n",
       "    <tr>\n",
       "      <th>800</th>\n",
       "      <td>ROSEG</td>\n",
       "      <td>roseg</td>\n",
       "      <td>0.727273</td>\n",
       "      <td>rhoneg</td>\n",
       "      <td>1329.859833</td>\n",
       "      <td>chapuetschin v dal</td>\n",
       "      <td>8.72</td>\n",
       "      <td>15.31000</td>\n",
       "      <td>0.34719</td>\n",
       "    </tr>\n",
       "    <tr>\n",
       "      <th>801</th>\n",
       "      <td>ROSENLAUI</td>\n",
       "      <td>rosenlaui</td>\n",
       "      <td>0.947368</td>\n",
       "      <td>rosenlauig</td>\n",
       "      <td>779.049789</td>\n",
       "      <td>rosenlauig</td>\n",
       "      <td>5.90</td>\n",
       "      <td>5.40250</td>\n",
       "      <td>5.40250</td>\n",
       "    </tr>\n",
       "    <tr>\n",
       "      <th>802</th>\n",
       "      <td>ROSSBODEN</td>\n",
       "      <td>rossboden</td>\n",
       "      <td>0.888889</td>\n",
       "      <td>rossbodeg</td>\n",
       "      <td>296.848823</td>\n",
       "      <td>senggchuppa</td>\n",
       "      <td>1.89</td>\n",
       "      <td>1.18125</td>\n",
       "      <td>0.05822</td>\n",
       "    </tr>\n",
       "  </tbody>\n",
       "</table>\n",
       "</div>"
      ],
      "text/plain": [
       "                       NAME            FoG_compname  MATCH_RATIO  \\\n",
       "793               PLATTALVA               plattalva     0.600000   \n",
       "794             PORCHABELLA             porchabella     0.814815   \n",
       "795                  PRAPIO                  prapio     0.705882   \n",
       "796              PUNTEGLIAS              punteglias     0.714286   \n",
       "797  RAETZLI (PLAINE MORTE)  raetzli (plaine morte)     0.619048   \n",
       "798                   RHONE                   rhone     0.909091   \n",
       "799                    RIED                    ried     0.888889   \n",
       "800                   ROSEG                   roseg     0.727273   \n",
       "801               ROSENLAUI               rosenlaui     0.947368   \n",
       "802               ROSSBODEN               rossboden     0.888889   \n",
       "\n",
       "               MATCH_NAME  DIST_TO_CLOSEST               CLOSEST   AREA  \\\n",
       "793           piz muttala       858.783359          griessfirn-n   0.73   \n",
       "794      porchabella v da       230.998086      porchabella v da   2.59   \n",
       "795           prapio g du       507.398171           prapio g du   0.36   \n",
       "796    fuorcla punteglias       455.219529          piz urlaun-s   0.93   \n",
       "797  g de la plaine morte      1242.784421  g de la plaine morte   9.80   \n",
       "798                rhoneg       218.315423                rhoneg  15.80   \n",
       "799                 riedg      1359.600643              duerreng   8.26   \n",
       "800                rhoneg      1329.859833    chapuetschin v dal   8.72   \n",
       "801            rosenlauig       779.049789            rosenlauig   5.90   \n",
       "802             rossbodeg       296.848823           senggchuppa   1.89   \n",
       "\n",
       "     AREA_MATCH  AREA_CLOSEST  \n",
       "793     0.06338       0.33594  \n",
       "794     1.67562       1.67562  \n",
       "795     0.21156       0.21156  \n",
       "796     0.25875       0.22156  \n",
       "797     7.29375       7.29375  \n",
       "798    15.31000      15.31000  \n",
       "799     7.31687       0.08040  \n",
       "800    15.31000       0.34719  \n",
       "801     5.40250       5.40250  \n",
       "802     1.18125       0.05822  "
      ]
     },
     "execution_count": 290,
     "metadata": {},
     "output_type": "execute_result"
    }
   ],
   "source": [
    "pda[['NAME', 'FoG_compname', 'MATCH_RATIO', 'MATCH_NAME', 'DIST_TO_CLOSEST', 'CLOSEST', 'AREA', 'AREA_MATCH', 'AREA_CLOSEST']][100:110]"
   ]
  },
  {
   "cell_type": "code",
   "execution_count": 331,
   "metadata": {
    "collapsed": false
   },
   "outputs": [],
   "source": [
    "i = 'SEEWJINEN'"
   ]
  },
  {
   "cell_type": "code",
   "execution_count": 332,
   "metadata": {
    "collapsed": false
   },
   "outputs": [],
   "source": [
    "ID = pda[pda.NAME == i].WGMS_ID.iloc[0]"
   ]
  },
  {
   "cell_type": "code",
   "execution_count": 334,
   "metadata": {
    "collapsed": false
   },
   "outputs": [
    {
     "data": {
      "text/html": [
       "<div>\n",
       "<table border=\"1\" class=\"dataframe\">\n",
       "  <thead>\n",
       "    <tr style=\"text-align: right;\">\n",
       "      <th></th>\n",
       "      <th>POLITICAL_UNIT</th>\n",
       "      <th>NAME</th>\n",
       "      <th>WGMS_ID</th>\n",
       "      <th>RIVER_BASIN</th>\n",
       "      <th>FREE_POSITION</th>\n",
       "      <th>LOCAL_CODE</th>\n",
       "      <th>LOCAL_PSFG</th>\n",
       "      <th>GEN_LOCATION</th>\n",
       "      <th>SPEC_LOCATION</th>\n",
       "      <th>LATITUDE</th>\n",
       "      <th>...</th>\n",
       "      <th>GEO-REGION_CODE</th>\n",
       "      <th>GEO-SUBREGION_CODE</th>\n",
       "      <th>FoG_compname</th>\n",
       "      <th>AREA</th>\n",
       "      <th>MATCH_RATIO</th>\n",
       "      <th>MATCH_NAME</th>\n",
       "      <th>AREA_MATCH</th>\n",
       "      <th>DIST_TO_CLOSEST</th>\n",
       "      <th>CLOSEST</th>\n",
       "      <th>AREA_CLOSEST</th>\n",
       "    </tr>\n",
       "  </thead>\n",
       "  <tbody>\n",
       "    <tr>\n",
       "      <th>813</th>\n",
       "      <td>CH</td>\n",
       "      <td>SEEWJINEN</td>\n",
       "      <td>3333</td>\n",
       "      <td>NaN</td>\n",
       "      <td>NaN</td>\n",
       "      <td>NaN</td>\n",
       "      <td>NaN</td>\n",
       "      <td>NaN</td>\n",
       "      <td>NaN</td>\n",
       "      <td>46.0</td>\n",
       "      <td>...</td>\n",
       "      <td>CEU</td>\n",
       "      <td>CEU-01</td>\n",
       "      <td>seewjinen</td>\n",
       "      <td>NaN</td>\n",
       "      <td>0.9</td>\n",
       "      <td>seewjinen g</td>\n",
       "      <td>1.42375</td>\n",
       "      <td>664.159293</td>\n",
       "      <td>seewjinen g</td>\n",
       "      <td>1.42375</td>\n",
       "    </tr>\n",
       "  </tbody>\n",
       "</table>\n",
       "<p>1 rows × 28 columns</p>\n",
       "</div>"
      ],
      "text/plain": [
       "    POLITICAL_UNIT       NAME  WGMS_ID RIVER_BASIN FREE_POSITION LOCAL_CODE  \\\n",
       "813             CH  SEEWJINEN     3333         NaN           NaN        NaN   \n",
       "\n",
       "    LOCAL_PSFG GEN_LOCATION SPEC_LOCATION  LATITUDE     ...       \\\n",
       "813        NaN          NaN           NaN      46.0     ...        \n",
       "\n",
       "     GEO-REGION_CODE  GEO-SUBREGION_CODE FoG_compname  AREA MATCH_RATIO  \\\n",
       "813              CEU              CEU-01    seewjinen   NaN         0.9   \n",
       "\n",
       "      MATCH_NAME  AREA_MATCH DIST_TO_CLOSEST      CLOSEST AREA_CLOSEST  \n",
       "813  seewjinen g     1.42375      664.159293  seewjinen g      1.42375  \n",
       "\n",
       "[1 rows x 28 columns]"
      ]
     },
     "execution_count": 334,
     "metadata": {},
     "output_type": "execute_result"
    }
   ],
   "source": [
    "pda[pda.NAME == i]#[['LATITUDE', 'LONGITUDE']]"
   ]
  },
  {
   "cell_type": "code",
   "execution_count": 325,
   "metadata": {
    "collapsed": false
   },
   "outputs": [
    {
     "data": {
      "text/html": [
       "<div>\n",
       "<table border=\"1\" class=\"dataframe\">\n",
       "  <thead>\n",
       "    <tr style=\"text-align: right;\">\n",
       "      <th></th>\n",
       "      <th>Location(x WGS84)</th>\n",
       "      <th>y WGS84)</th>\n",
       "      <th>area(km2)</th>\n",
       "      <th>Names</th>\n",
       "      <th>Glacier_name_SGI2010</th>\n",
       "      <th>COMPNAME</th>\n",
       "    </tr>\n",
       "  </thead>\n",
       "  <tbody>\n",
       "    <tr>\n",
       "      <th>320</th>\n",
       "      <td>8.42756</td>\n",
       "      <td>46.651699</td>\n",
       "      <td>0.83609</td>\n",
       "      <td>ROTFIRN</td>\n",
       "      <td>A51F/68n</td>\n",
       "      <td>rotfirn</td>\n",
       "    </tr>\n",
       "  </tbody>\n",
       "</table>\n",
       "</div>"
      ],
      "text/plain": [
       "     Location(x WGS84)   y WGS84)  area(km2)    Names Glacier_name_SGI2010  \\\n",
       "320            8.42756  46.651699    0.83609  ROTFIRN             A51F/68n   \n",
       "\n",
       "    COMPNAME  \n",
       "320  rotfirn  "
      ]
     },
     "execution_count": 325,
     "metadata": {},
     "output_type": "execute_result"
    }
   ],
   "source": [
    "pdfll[pdfll['COMPNAME'] == pda[pda.NAME==i].MATCH_NAME.iloc[0]]"
   ]
  },
  {
   "cell_type": "code",
   "execution_count": 326,
   "metadata": {
    "collapsed": false
   },
   "outputs": [
    {
     "data": {
      "text/html": [
       "<div>\n",
       "<table border=\"1\" class=\"dataframe\">\n",
       "  <thead>\n",
       "    <tr style=\"text-align: right;\">\n",
       "      <th></th>\n",
       "      <th>POLITICAL_UNIT</th>\n",
       "      <th>NAME</th>\n",
       "      <th>WGMS_ID</th>\n",
       "      <th>YEAR</th>\n",
       "      <th>HIGHEST_ELEVATION</th>\n",
       "      <th>MEDIAN_ELEVATION</th>\n",
       "      <th>LOWEST_ELEVATION</th>\n",
       "      <th>ELEVATION_UNC</th>\n",
       "      <th>LENGTH</th>\n",
       "      <th>LENGTH_UNC</th>\n",
       "      <th>AREA</th>\n",
       "      <th>AREA_UNC</th>\n",
       "      <th>SURVEY_DATE</th>\n",
       "      <th>SURVEY_PLATFORM_METHOD</th>\n",
       "      <th>PUB_IN_FOG</th>\n",
       "      <th>INVESTIGATOR</th>\n",
       "      <th>SPONS_AGENCY</th>\n",
       "      <th>REFERENCE</th>\n",
       "      <th>REMARKS</th>\n",
       "    </tr>\n",
       "  </thead>\n",
       "  <tbody>\n",
       "    <tr>\n",
       "      <th>2566</th>\n",
       "      <td>CH</td>\n",
       "      <td>ROTFIRN NORD</td>\n",
       "      <td>430</td>\n",
       "      <td>1973</td>\n",
       "      <td>NaN</td>\n",
       "      <td>2680.0</td>\n",
       "      <td>NaN</td>\n",
       "      <td>NaN</td>\n",
       "      <td>2.3</td>\n",
       "      <td>NaN</td>\n",
       "      <td>1.21</td>\n",
       "      <td>NaN</td>\n",
       "      <td>19739999.0</td>\n",
       "      <td>NaN</td>\n",
       "      <td>1975.0</td>\n",
       "      <td>NaN</td>\n",
       "      <td>NaN</td>\n",
       "      <td>NaN</td>\n",
       "      <td>NaN</td>\n",
       "    </tr>\n",
       "    <tr>\n",
       "      <th>2567</th>\n",
       "      <td>CH</td>\n",
       "      <td>ROTFIRN NORD</td>\n",
       "      <td>430</td>\n",
       "      <td>1975</td>\n",
       "      <td>3525.0</td>\n",
       "      <td>2680.0</td>\n",
       "      <td>2020.0</td>\n",
       "      <td>NaN</td>\n",
       "      <td>2.3</td>\n",
       "      <td>NaN</td>\n",
       "      <td>1.21</td>\n",
       "      <td>NaN</td>\n",
       "      <td>19759999.0</td>\n",
       "      <td>NaN</td>\n",
       "      <td>1975.0</td>\n",
       "      <td>NaN</td>\n",
       "      <td>NaN</td>\n",
       "      <td>NaN</td>\n",
       "      <td>NaN</td>\n",
       "    </tr>\n",
       "  </tbody>\n",
       "</table>\n",
       "</div>"
      ],
      "text/plain": [
       "     POLITICAL_UNIT          NAME  WGMS_ID  YEAR  HIGHEST_ELEVATION  \\\n",
       "2566             CH  ROTFIRN NORD      430  1973                NaN   \n",
       "2567             CH  ROTFIRN NORD      430  1975             3525.0   \n",
       "\n",
       "      MEDIAN_ELEVATION  LOWEST_ELEVATION  ELEVATION_UNC  LENGTH  LENGTH_UNC  \\\n",
       "2566            2680.0               NaN            NaN     2.3         NaN   \n",
       "2567            2680.0            2020.0            NaN     2.3         NaN   \n",
       "\n",
       "      AREA  AREA_UNC  SURVEY_DATE SURVEY_PLATFORM_METHOD  PUB_IN_FOG  \\\n",
       "2566  1.21       NaN   19739999.0                    NaN      1975.0   \n",
       "2567  1.21       NaN   19759999.0                    NaN      1975.0   \n",
       "\n",
       "     INVESTIGATOR SPONS_AGENCY REFERENCE REMARKS  \n",
       "2566          NaN          NaN       NaN     NaN  \n",
       "2567          NaN          NaN       NaN     NaN  "
      ]
     },
     "execution_count": 326,
     "metadata": {},
     "output_type": "execute_result"
    }
   ],
   "source": [
    "pdb[pdb.where(~pd.isnull(pdb.AREA)).WGMS_ID == ID].tail(10)#[['NAME', 'LENGTH', 'AREA']]"
   ]
  },
  {
   "cell_type": "code",
   "execution_count": 335,
   "metadata": {
    "collapsed": false
   },
   "outputs": [
    {
     "data": {
      "text/html": [
       "<div>\n",
       "<table border=\"1\" class=\"dataframe\">\n",
       "  <thead>\n",
       "    <tr style=\"text-align: right;\">\n",
       "      <th></th>\n",
       "      <th>Location(x WGS84)</th>\n",
       "      <th>y WGS84)</th>\n",
       "      <th>area(km2)</th>\n",
       "      <th>Names</th>\n",
       "      <th>Glacier_name_SGI2010</th>\n",
       "      <th>COMPNAME</th>\n",
       "    </tr>\n",
       "  </thead>\n",
       "  <tbody>\n",
       "    <tr>\n",
       "      <th>914</th>\n",
       "      <td>7.9485</td>\n",
       "      <td>46.0009</td>\n",
       "      <td>1.42375</td>\n",
       "      <td>SEEWJINEN GLETSCHER</td>\n",
       "      <td>B52/22</td>\n",
       "      <td>seewjinen g</td>\n",
       "    </tr>\n",
       "  </tbody>\n",
       "</table>\n",
       "</div>"
      ],
      "text/plain": [
       "     Location(x WGS84)  y WGS84)  area(km2)                Names  \\\n",
       "914             7.9485   46.0009    1.42375  SEEWJINEN GLETSCHER   \n",
       "\n",
       "    Glacier_name_SGI2010     COMPNAME  \n",
       "914               B52/22  seewjinen g  "
      ]
     },
     "execution_count": 335,
     "metadata": {},
     "output_type": "execute_result"
    }
   ],
   "source": [
    "pdfll[pdfll['Names'].str.contains('seew', case=False)]"
   ]
  },
  {
   "cell_type": "markdown",
   "metadata": {},
   "source": [
    "## A dictionary with links from FoG to Mauro's database (full names in FoG to full and short names in Mauro's DB)"
   ]
  },
  {
   "cell_type": "code",
   "execution_count": 301,
   "metadata": {
    "collapsed": false
   },
   "outputs": [],
   "source": [
    "links = {\n",
    "    'A NEUVE GL. L\\'':('','','',False),   # no equivalent for whole glacier: A NEUVE GLACIER DE L'-S (B85/07) and A NEUVE GLACIER DE L'-N (B85/08)\n",
    "    'ADLER':('ADLERGLETSCHER (Teilgl. von B56/03)','adlerg','B56/14n', True),  # no area in FoG, but quite obvious\n",
    "    'ALBIGNA':('ALBIGNA VADREC D\\' (Nr. 116)','albigna vadrec d\\'', 'C84/16', True),  # ok, error in area in pdb  \n",
    "    'ALLALIN':('Allalingletscher* (Teilgl. von B52/66n)','allaling', 'B52/29', True), #ok area 9.68/9.17\n",
    "    'ALPETLI(KANDER)':('KANDERFIRN (Teilgl. von A55B/29n; Nr. 109)','kanderfirn','A55B/13',True),  # ok area 14/12\n",
    "    'ALTELS':('','','',False),     # no equivalent for whole glacier. Altels-S A55C/04, Altels-NW A55C/03 and Altels-SE A55C/18n\n",
    "    'AMMERTEN':('','','',False),   # no equivalent for whole glacier. Ammerten-W A55F/07n and AMMERTEN-E (Nr.111) A55F/01\n",
    "    'AROLLA (BAS)':('','',False),  # no equivalent in Mauro's DB (is included in Glacier du Mont Collon B73/14)\n",
    "    'BALMHORN':('BALMHORNGLETSCHER (Teilgl. von A55B/42n)','balmhorng','A55B/18',True),  # ok (area: 1.7/1.9)\n",
    "    'BASODINO':('','','',False),  # area bigger in Mauro's DB, even for only BASODINO GH. DEL (Nr. 104) (1.84/1.89). What to do with basodino-N and basodino-NW?\n",
    "    'BIDER':('BIDERGLETSCHER','biderg','B53/08',True),  # ok (no area in FoG, but unique)\n",
    "    'BIFERTEN':('BIFERTENFIRN (Nr. 77)','bifertenfirn','A50I/12',True),  # ok (area: 2.86/2.5)\n",
    "    'BIRCH':('BIRCHGLETSCHER','birchg','B32/06',True),   # ok even though area 0.54/0.22\n",
    "    'BIS':('BISGLETSCHER (Nr. 107)','bisg','B58/08',True),    # ok even though area 4.79/3.82\n",
    "    'BLUEMLISALP':('BLÜMLISALPGLETSCHER (Nr. 64)','bluemlisalpg','A55B/02',True), # ok due to lat/lon area 2.22/2.98\n",
    "    'BODMER':('BODMER','bodmerg','C02/02',True),   # Link should be okay but area 0.64/0.32\n",
    "    'BOVEYRE':('BOVEIRE GLACIER DE (Nr. 41)','boveire g de','B84/04',True),  # ok (area 1.99/1.62)\n",
    "    'BREITHORN':('','','',False),   # unclear...many entries in Mauro's DB, but no values in FoG => can be easily implemented in FoG without caring about ID\n",
    "    'BRENEY':('BRENAY GLACIER DU (Nr. 36)','brenay g du','B82/19',True),   # ok (areas 9.8/7.1)\n",
    "    'BRUNEGG':('BRUNEGGGLETSCHER (Teilgl. von B60/09; Nr. 20)','bruneggg','B60/20n',True),  # ok areas 6.1/5.5\n",
    "    'BRUNNI':('BRUNNIFIRN (Nr. 72)','brunnifirn','A51D/15',True),  # ok areas 2.99/2.31\n",
    "    'CALDERAS':('CALDERAS VADRET (Nr. 95)','calderas v','E35/17',True),   # ok even though areas 1.2/0.66\n",
    "    'CAMBRENA':('','','',False),  # is Cambrena Vadret dal (Teilgl. von C93/09) C93/11n, but what about Cambrena-E* (Teilgl. von C93/09) C93/08?  \n",
    "    'CAVAGNOLI':('CAVAGNÖÖ GH. DEL (Nr. 119)','cavagnoeoe gh. del','C14/17',True), # ok due to lat/lon area 1.32/0.44 (ok as compared with SGI1973)\n",
    "    'CHEILLON':('CHEILON GLACIER DE (Nr. 29)','cheilon g de','B74/08',True), # okay even though area 4.73/3.6. Spelling?\n",
    "    'CLARIDENFIRN':('','','',False),  # unclear case => too many equivalent in Mauro's DB and no area/length in FoG, case for PARENT ID\n",
    "    'CORBASSIERE':('Corbassière (Teilgl. von B83/03)*','corbassiere','B83/15n',True),  # ok. unclear if also Combin de Corbassière-E (Teilgl. von B83/03)* is meant (area: 0.4km2), but separated by ridge\n",
    "    'CORNO':('CORNO GH. DEL (Nr. 120)','corno gh. del','C34/01',True),  # ok even though area 0.27/0.1\n",
    "    'DAMMA':('DAMMAGLETSCHER (Nr. 70)','dammag','A51F/10',True),  # ok even though area 6.32/4.24\n",
    "    'DOLENT GL. DU':('DOLENT GLACIER DU','dolent g du','B85/04',True),  # ok even though noe area given in FoG\n",
    "    'DUNGEL':('TUNGELGLETSCHER (Teilgl. von A56D/09n, Nr. 112)','tungelg','A56D/01',True),  #ok area 1.2/0.93\n",
    "    'EIGER':('EIGERGLETSCHER (Nr. 59)','eigerg','A54M/03',True),   # ok area 2.27/1.53\n",
    "    'EIGER (WEST)':('','','',False),  # unclear, possibly Eiger Südwestgrat* A54M/02\n",
    "    'EN DARREY':('EN DARREY GLACIER DE L\\' (Nr. 30)','en darrey g de l\\'','B74/11',True), #ok (areas 1.86/1.28)\n",
    "    'FEE NORTH':('','','',False),  # probably all of FEEGLETSCHER-S-I B53/14n, FEEGLETSCHER-S-II B53/15n, Feegletscher-N-I (Alphubel)* (Teilgl. von B53/...B53/17n, Feegletscher-N-I (Täschhorn)* (Teilgl. von B53...B53/18n, Feegletscher-N-I (Dom)* (Teilgl. von B53/16n) B53/19n, FEEGLETSCHER-N-II B53/20n, Feechopf-W* B55/17 \n",
    "    'FERPECLE':('FERPÈCLE GLACIER DE (Nr. 25)','ferpecle g de','B72/11',True),  # ok areas 9.79/9.0\n",
    "    'FIESCHER':('FIESCHERGLETSCHER VS (Teilgl. von B40/14n, Nr. 4)','fiescherg vs','B40/07',True), # ok area 33.06/29.48\n",
    "    'FIRNALPELI':('','','',False),  # FoG lat/lon unclear;can be combinations of FIRNALPELIGLETSCHER-E (Nr. 75) A51H/13 and FIRNALPELIFIRN A51H/23n OR FIRNALPELIGLETSCHER-E (Nr. 75) and FIRNALPELIGLETSCHER-W\n",
    "    'FLUCHTHORN GL.':('','','', False) # should be Fluchthorn-NE* B52/26 and maybe also Fluchthorn-E* B52/25 (area 0.37/(0.26+0.01))\n",
    "    'FORNO':('FORNO VADREC DEL (Nr. 102)','forno vadrec del','C83/12',True), # ok area 8.7/5.3; NICHT Ofenhorn-W* (lat/lon!)\n",
    "    'GAMCHI':('GAMCHIGLETSCHER (Nr. 61)','gamchig','A55A/04',True),  # ok area (1.73/1.23)\n",
    "    'GAULI':('GAULIGLETSCHER (Teilgl. von A54I/19n) Nr. 52','gaulig','A54I/05',True),  # ok (area 13.7/11.4)\n",
    "    'GELTEN':('','','',False),  # ok if GELTENGLETSCHER-E (Nr. 113) A56D/05 (area 1.17/0.81) but should be also GELTENGLETSCHER-W (area 0.45)\n",
    "    'GIETRO':('GIETRO GLACIER DU (Nr. 37)','gietro g du','B82/14',True),  # ok (area 5.54/5.16)\n",
    "    'GLAERNISCH':('GLÄRNISCHFIRN (Nr. 80)','glaernischfirn','A50K/04',True), # ok (area 2.09/1.41)\n",
    "    'GORNER':('','','',False),  # problem: gorner not in Mauro's DB; Grenz is too big (whole glacier)\n",
    "    'GRAND PLAN NEVE':('','','',False), # is plan neve-e (area 0.12/0.18) due to lat/lon of FoG point\n",
    "    'GRIES':('GRIESGLETSCHER (Nr. 3)','griesg','B45/04',True),  # ok (area 4.83/4.78)\n",
    "    'GRIESSEN(OBWA.)':('GRIESSENFIRN','GRIESSENFIRN','A51H/02',True),  # ok (area 1.27/0.86)\n",
    "    'GRIESSERNU':('GRIESSERNU GLETSCHER','griessernu g','C02/06',True), # ok even though no area in FoG\n",
    "    'GROSSER ALETSCH':('GROSSER ALETSCH GLETSCHER (Teilgl. von B36/49n) Nr. 5','grosser aletsch g','B36/26',True), # ok (area 81.3/78.3)\n",
    "    'GRUBEN':('','','',False), # should be all GRÜEBUGLETSCHER-N-II (Teilgl. von B51/17n), GRÜEBUGLETSCHER-S (Teilgl. von B51/17n), GRÜEBUGLETSCHER-N-I (Teilgl. von B51/17n), NAME SHOULD  BE CHANGED IN FoG\n",
    "    'GUTZ':('GUTZGLETSCHER','gutzg','A54L/02',True),  # ok even though no area in FoG\n",
    "    'HANGENDE':('HANGENDE GLETSCHER','hangende g', 'B52/27',True), # ok due to lat/lon\n",
    "    'HOHLAUB':('','','',False), # both Hohlaubgrat-E* (Teilgl. von B52/67n) and Hohlaub Gletscher* (Teilgl. von B52/67n)\n",
    "    'HOMATTU':('','','',False), #  HOMATTUGLETSCHER-II and HOMATTUGLETSCHER-I\n",
    "    'HUEFI':('HÜFIFIRN (Nr. 73)','huefifirn','A51D/10',True),  # ok (area 13.73/12.72)\n",
    "    'KALTWASSER':('CHALTWASSERGLETSCHER (Nr. 7)','chaltwasserg','B47/04',True),  # ok (areas 18.5/1.49)\n",
    "    'KEHLEN':('CHELENGLETSCHER (Totalgl.; Nr. 68)','cheleng','A51F/15',True),  # ok even though area 1.73/3.15\n",
    "    'KESSJEN':('CHESSJENGLETSCHER-E (Nr. 12)','chessjeng-e','B52/33',True), #ok (areas 0.19/0.19) there is now chessjengl.-w!\n",
    "    'LAEMMERN (WILDSTRUBEL)':('WILDSTRUBELGLETSCHER (Teilgl. von A55C/24n) Nr. 63','wildstrubelg','A55C/13',True), # ok even though area 3.15/2.34\n",
    "    'LANG':('Langgletscher (Totalgl.; Nr. 18)','langg','B31/19n',True),  # ok areas 10.03/8.26\n",
    "    'LAVAZ':('','','',False),  # LAVAZ GLATSCHER DA (Nr. 82) and Lavaz-W*\n",
    "    'LIMMERN':('LIMMERNFIRN (Nr. 78)','limmernfirn','A50I/06',True), # ok (area 2.41/1.89)\n",
    "    'LISCHANA':('','','',False),  # ok vadret da triazza is one of the two remnants (one is no longer mapped)\n",
    "    'MAIGHELS EAST BRANCH':('MAIGHELS GLATSCHER DA-E','maighels glatscher da-e','A14I/04',True),  # ok but no area in FoG\n",
    "    'MAIGHELS WEST BRANCH':('MAIGHELS GLATSCHER DA-W','maighels glatscher da-w','A14I/05',True),  # ok but no area in FoG\n",
    "    'MARTINETS':('MARTINETS GLACIER DES (Nr. 46)','martinets g des','B17/08',True), # ok area 0.59/0.36\n",
    "    'MINSTIGER':('MINSTIGERGLETSCHER','minstigerg','B41/07',True),  # ok areas 3.09/2.25\n",
    "    'MITTELALETSCH':('MITTELALETSCHGLETSCHER (Teilgl. von B36/49n) Nr. 106','mittelaletschg','B36/21',True), # ok area 8.5/6.8\n",
    "    'MOIRY':('MOIRY GLACIER DE (Nr. 24)','moiry g de','B64/02',True), # ok area 6.11/4.89\n",
    "    'MOMING':('MOMING GLACIER DE (Nr. 23)','moming g de','B62/10',True),  # ok , maybe also Pointe Nord de Moming-SE* and Blanc de Moming-W*\n",
    "    'MONT FORT (ZINAL)':('','','',False),  # not clear, probably PETIT M. FORT GLACIER DU (B75/07), but area is still too low\n",
    "    'MONT MINE':('MONT MINÉ GLACIER DU (Nr. 26)','mont mine g du','B72/15',True), # ok areas 10.3/9.9\n",
    "    'MONTO MORO GL.':('Monte Moro-W*','monte moro-w','B52/21',True),  # only a remnant obviously\n",
    "    'MORTERATSCH':('MORTERATSCH VADRET DA (Totalgl.; Nr. 94)','morteratsch v da','E22/03',True), # ok areas 17/15\n",
    "    'MURTEL':('MURTEL VADRET DAL','murtel v dal', 'E23/16',True),  # ok, NOT E24/04!!! \n",
    "    'MUTT':('MUTTGLETSCHER (Nr. 2)','muttg','B44/03',True), # ok, area 0.57/0.36\n",
    "    'MUTTEN':('Muttengletscher* (Teilgl. von A51E/23)','mutteng','A51E/56n',True), #ok, no areas in FoG\n",
    "    'OB.GRINDELWALD':('OBERER GRINDELWALDGLETSCHER (Nr. 57)','oberer grindelwaldg','A54L/04',True), # ok areas 10.07/8.41\n",
    "    'OBERAAR':('OBERAARGLETSCHER (Teilgl. von A54G/35n) Nr. 50','oberaarg','A54G/03',True), # ok areas 5.23/4.10\n",
    "    'OFENTAL':('OFENTAL GLETSCHER (Nr. 9)','ofental g','B52/17',True),  #ok even though areas 0.4/0.04...possibly one remnant missing in Mauro's DB (see swisstopo)\n",
    "    'OTEMMA':('Otemma (Teilgl. von B82/27)*','otemma','B82/51n',True),  # ok areas 16.55/12.59\n",
    "    'PALUE':('Palü Vadret da (Teilgl. von C93/04)','palue v da','C93/10n',True),  # ok areas 6.62/5.26\n",
    "    'PANEYROSSE':('PANEIROSSE GLACIER DE (Nr. 44)','paneirosse g de','B17/02',True),  # ok areas 0.45/0.3\n",
    "    'PARADIES':('PARADIESGLETSCHER (Nr. 86)','PARADIESGLETSCHER (Nr. 86)','A13N/06',True),  # ok 4.6/1.8\n",
    "    'PARADISINO (CAMPO)':('','','',False),  # unclear, possibly CAMP VEDREIT DA (Nr. 101)\n",
    "    'PIERREDAR':('PIERREDAR GLACIER DE (Nr. 49)','pierredar g de','B16/05',True), # ok areas 0.67/0.3\n",
    "    'PIZOL':('PIZOLGLETSCHER (Nr. 81)','pizolg','A50D/01',True), # ok areas 0.32/0.08\n",
    "    'PLAINE MORTE':('','','',False), # multiple: GLACIER DE LA PLAINE MORTE (Nr. 65), PLAINE MORTE-W GLACIER DE LA and PLAINE MORTE-E GLACIER DE LA, area in FoG missing!!!\n",
    "    'PORCHABELLA':('PORCHABELLA VADRET DA (Nr. 88)','porchabella v da','A12E/04',True),  # ok area 2.59/1.67\n",
    "    'PRAPIO':('PRAPIO GLACIER DU (Nr. 48)','prapio g du','B16/03',True),   # ok area 0.36/0.21\n",
    "    'PUNTEGLIAS':('Bündner Tödi*','buendner toedi','A14M/08',True),  #  sounds strange but ok area 0.93/0.67\n",
    "    'RAETZLI (PLAINE MORTE)':('','','',False),  # three polygons: GLACIER DE LA PLAINE MORTE (Nr. 65) A55F/03, PLAINE MORTE-W GLACIER DE LA B23/09n and PLAINE MORTE-E GLACIER DE LA B24/04n\n",
    "    'RHONE':('Rhonegletscher* (Teilgl. von B43/03)','rhoneg','B43/12n',True),  # ok areas 15.8/15.31\n",
    "    'RIED':('RIEDGLETSCHER (Nr. 17)','riedg','B54/03',True),  # ok areas 8.26/7.31\n",
    "    'ROSEG':('ROSEG VADRET DA (Nr. 92)','roseg v da','E23/11',True),  # ok areas 8.71/6.81\n",
    "    'ROSENLAUI':('ROSENLAUIGLETSCHER (Nr. 56)','rosenlauig','A54J/02',True),  # ok areas 5.9/5.4\n",
    "    'ROSSBODEN':('ROSSBODEGLETSCHER (Nr. 105)','rossbodeng','C02/04',True),  # ok areas 1.89/1.18\n",
    "    'ROTFIRN NORD':('Schattmigstock* (Rotfirn-N, Nr. 69)','schattmigstock','A51F/13',True)  #  ok area 1.21/0.91\n",
    "    'ROTTAL':('ROTTALGLETSCHER-NW (Teilgl. von B52/02)','rottalg-nw','B52/37n',True),  #  ok no area in FoG\n",
    "    'SALEINA':('','','',False),  # is Saleina* (Teilgl. von B85/16), but area is too high (6.54) compared to FoG (5.03)\n",
    "    'SANKT ANNA':('ST. ANNAFIRN (Nr. 67)','st. annafirn','A51E/12',True),  # ok even though areas 0.41/0.22 (might be debris problem)\n",
    "    'SARDONA':('','','',False),  # should be Sardonagletscher-II*, but area is too high (0.45, FoG only 0.38)\n",
    "    'SCALETTA':('SCALETTAGLETSCHER (Nr. 115)','scalettag','A12D/03',True),  # ok even though area 0.66/0.21 (debris?)\n",
    "    'SCHOENBUEHL GL.':('','','',False),  # is probably both SCHÖNBÜHLGLETSCHER-SE and SCHÖNBÜHLGLETSCHER-NW (no FoG area given)\n",
    "    'SCHWARZ':('SCHWARZGLETSCHER (Nr. 62)','schwarzg','A55C/05',True),  #  okay areas 1.6/1.09\n",
    "    'SCHWARZBACH':('SCHWARZBACHFIRN','schwarzbachfirn','A51E/08',True),  #  okay (not area in FoG)\n",
    "    'SCHWARZBERG':('Schwarzberggletscher* (Teilgl. von B52/24)','schwarzbergg','B52/63n',True),  #  ok area 5.17/5.33\n",
    "    'SESVENNA':('Sesvenna Vadret da-E (Teilgl. von E03/04)','sesvenna v da-e','E03/11n',True),  #  ok area 0.67/0.33\n",
    "    'SEEWIJNEN':('SEEWJINEN GLETSCHER','seewjinen g','B52/22',True)  # ok no area in FoG\n",
    "    'SEX ROUGE':('SEX ROUGE GLACIER DU (Nr. 47)','sex rouge g du','B16/01',True), # ok even though area 0.72/0.27\n",
    "    'SILLERN':('SILLERE GLETSCHER','sillere g','A55B/11',True),  #  ok (no area in FoG)\n",
    "    'SILVRETTA':('SILVRETTAGLETSCHER (Nr. 90)','silvrettag','A10G/05',True),  # ok areas 2.74/2.67\n",
    "    'SIRWOLTE':('','','',False),  #unclear: might be northerly polygon of Griessernuhorn-N* (c03/04)\n",
    "    'STEIN':('STEINGLETSCHER (Nr. 53)','steing','B47/01',True),  # ok even though area in Mauro's DB (5.68) slightly bigger than in FoG (5.6)\n",
    "    'STEINLIMMI':('STEINLIMIGLETSCHER (Nr. 54)','steinlimig','A54E/13',True),  # ok areas 2.21/1.59\n",
    "    'SULZ':('','','',False),  #  must be HINTERSULZFIRN (Nr. 79), A50I/02,  (lat/lon), but area is bigger (0.26) than in FoG (0.2)\n",
    "    'SURETTA':('','','',False), # must be SURETTAGLETSCHER-E (Piz Por*), SURETTAGLETSCHER-W (Hauptgl., Nr. 87) and maybe also Suretta Lückli*. FoG point unclear\n",
    "    'TAELLIBODEN':('','','',False) # no longer digitized in Mauro's inventory => seems to be totally disappeared on orthophoto\n",
    "    'TIATSCHA':('TIATSCHA VADRET (La Cudera, Nr. 96)','tiatscha v','E50/07',True), # okay areas 2.11/1.82\n",
    "    'TIEFEN':('TIEFENGLETSCHER (Nr. 66)','tiefeng','A51E/37', True), # ok even though area 3.17/1.99\n",
    "    'TOURNELON BLANCE':('','','',False),  # should be all (no FoG area): Tournelon Blanc-SE*, Tournelon Blanc-E*, Tournelon Blanc-NE* and Col du Tournelon Blanc*\n",
    "    'TRIENT':('TRIENT GLACIER DU (Nr. 43)','trient g du','B90/02',True),  # ok area 6.58/5.82\n",
    "    'TRIEST GL.':('DRIESTGLETSCHER','driestg','B36/17',True),  # ok no area in FoG\n",
    "    'TRIFT (GADMEN)':('TRIFTGLETSCHER (Nr. 55)','triftg','A54E/24',True),  # ok area 15.33/14.9\n",
    "    'TSANFLEURON':('TSANFLEURON GLACIER DE (Nr. 33)','tsanfleuron g de','B22/01',True),  # ok area 3.78/2.64\n",
    "    'TSCHIERVA':('','','',False),  # probably both TSCHIERVA VADRETTIN DA (0.41) and TSCHIERVA VADRET DA (Nr. 93) (5.09), FoG area is 6.83\n",
    "    'TSCHINGEL':('','','',False),  # is TSCHINGELFIRN (Nr. 60) (A54/M21),  and maybe also Tschingelspitz-S* (A54M/51n) and Tschingelgrat-S* (A54M/52n)\n",
    "    'TSIDJIORE NOUVE':('TSIJIORE NOUVE GLACIER DE (Nr. 28)','tsijiore nouve g de','B73/16',True), # ok even though area 3.12/2.72\n",
    "    'TURTMANN (WEST)':('','','',False),  # unclear: TURTMANNGLETSCHER (Teilgl. von B60/09) is only about half (5.5) of turtmann-w in FoG (11km2)\n",
    "    'UNT.GRINDELWALD':('','','',False),  # might be OBERS ISCHMEER (Teilgl. von A54L/19)\n",
    "    'UNTERAAR':('UNTERAARGLETSCHER (Teilgl.von A54G/50n) Nr. 51','unteraarg','A54G/11',True), # ok area 22.7/22.5\n",
    "    'VAL TORTA':('VALTORTA VADRET','valtorta v','E46/06',True),  # ok area 0.17/0.06\n",
    "    'VALLEGGIA':('VALLEGGIA GH. DI (Nr. 117)','valleggia gh. di','C33/08',True),  # ok area 0.59/0.30\n",
    "    'VALSOREY':('Valsorey (Teilgl. von B84/15)*','valsorey','B84/27n',True),  #  ok area 2.34/1.9\n",
    "    'VERSTANKLA':('Verstanclagletscher (Teilgl. von A10G/08)','verstanclag','A10G/24n',True), #ok area 1.06/0.71\n",
    "    'VORAB':('VORAB GLATSCHER DIL (Nr. 85)','vorab glatscher dil','A14P/01',True), # ok area 2.51/1.22, could also be Vorabsattel-W* (but drain ins other valley)\n",
    "    'WALLENBUR':('WALLENBURFIRN (Nr. 71)','wallenburf','A51F/24',True), # ok area 1.7/1.41\n",
    "    'WANNENHORN GL.':('','','',False),  # should be both WANNENHORNGLETSCHER-NW (Teilgl. von B36/57n) and WANNENHORNGLETSCHER-SE (Teilgl. von B36/57n) together...check PARENT ID!!!\n",
    "    'WANNENHORN GL. N':('WANNENHORNGLETSCHER-NW (Teilgl. von B36/57n)','wannenhorng-nw','B36/32',True), # must be this one due to FoG lat/lon\n",
    "    'WANNENHORN GL. S':('WANNENHORNGLETSCHER-SE (Teilgl. von B36/57n)','wannenhorng-se','B36/33',True), # must be this one due to FoG lat/lon\n",
    "    'WITENWASSEREN':('WITENWASSERENGLETSCHER','witenwassereng','',False), # no FoG area given....could also include Witenwasseren-W*(but drains in another valley)\n",
    "    'ZENBAECHEN GL.':('ZENBAECHENGLETSCHER','zenbaecheng','B36/18',True), # no FoG area given\n",
    "    'ZINAL':('ZINAL GLACIER DE (Nr. 22)','zinal g de','B63/05',True),  # ok area 16/13.3 debris?\n",
    "    'ZMUTT':('ZMUTTGLETSCHER (Nr. 15)','zmuttg','B57/05',True),  # ok area 17.4/13.7 debris?\n",
    "    \n",
    "}\n",
    "\n"
   ]
  },
  {
   "cell_type": "code",
   "execution_count": 302,
   "metadata": {
    "collapsed": false
   },
   "outputs": [
    {
     "name": "stdout",
     "output_type": "stream",
     "text": [
      "['FLUCHTHORN GL.', 'TAELLIBODEN', 'ROTFIRN NORD', 'SEEWJINEN', 'BELLA TOLA', 'BRESCIANA', 'CROSLINA', 'HINDRE SCHMADRI', 'FINDELEN', 'OBERALETSCH', 'PLATTALVA', 'VORDRE SCHMADRI', 'TSEUDET', 'MONT DURAND', 'GRIESS(KLAUSEN)', 'LENTA', 'GRAND DESERT']\n"
     ]
    }
   ],
   "source": [
    "print(list(set(pda.NAME.values)-set(links.keys())))"
   ]
  },
  {
   "cell_type": "markdown",
   "metadata": {},
   "source": [
    "# Begin to establish new dataset containing the columns from the CHANGE file"
   ]
  },
  {
   "cell_type": "code",
   "execution_count": 286,
   "metadata": {
    "collapsed": false
   },
   "outputs": [
    {
     "name": "stdout",
     "output_type": "stream",
     "text": [
      "36\n",
      "106\n"
     ]
    }
   ],
   "source": [
    "take_over_id = {}\n",
    "new_id = {}\n",
    "for key,value in links.items():\n",
    "    if links[key][-1] == True:\n",
    "        take_over_id[key] = value\n",
    "    else:\n",
    "        new_id[key] = value\n",
    "        \n",
    "print(len(new_id))\n",
    "print(len(take_over_id))"
   ]
  },
  {
   "cell_type": "code",
   "execution_count": null,
   "metadata": {
    "collapsed": true
   },
   "outputs": [],
   "source": [
    "entries_new_pdd = pd.DataFrame(columns=pdd.columns.values)\n",
    "entries_new_pda = pd.DataFrame(columns=pda.columns.values)"
   ]
  },
  {
   "cell_type": "code",
   "execution_count": null,
   "metadata": {
    "collapsed": false
   },
   "outputs": [],
   "source": [
    "for idx,cols in pdf.iterrows():\n",
    "    # here comes Horst's name test: if the glacier is already present, use its ID, leave the GENERAL file as is and fill\n",
    "    # in the MB data only\n",
    "    # else: create new entry in GENERAL file and in CHANGE file\n",
    "    \n",
    "    # if   :\n",
    "    \n",
    "    # else:\n",
    "    \n",
    "    # create new ID\n",
    "    gid = new_id_range[idx]\n",
    "    \n",
    "    # set the REMARKS (added at the end)\n",
    "    REMARKS_pdd = ''\n",
    "    REMARKS_pda = ''\n",
    "    \n",
    "    # two new DFs for the different FoG files\n",
    "    glacier_pdd = pd.DataFrame([['']*len(pdd.columns.values)], columns=pdd.columns.values)\n",
    "    glacier_pda = pd.DataFrame([['']*len(pda.columns.values)], columns=pda.columns.values)\n",
    "    \n",
    "    glacier_pdd.POLITICAL_UNIT = 'CH'\n",
    "    glacier_pdd.NAME = cols.Glacier_name_SGI2010.upper()\n",
    "    glacier_pdd.WGMS_ID = gid\n",
    "    glacier_pdd.YEAR = cols.t2_year\n",
    "    glacier_pdd.LOWER_BOUND = 9999\n",
    "    glacier_pdd.UPPER_BOUND = 9999\n",
    "    glacier_pdd.AREA_SURVEY_YEAR = cols.area_t2_km2\n",
    "    glacier_pdd.AREA_CHANGE = (cols.area_t2_km2 - cols.area_t1_km2) * 1000  # *1000: unit difference (1000m2 and km2)\n",
    "    glacier_pdd.AREA_CHANGE_UNC = np.nan\n",
    "    glacier_pdd.THICKNESS_CHG = np.nan                  # can be calculated???\n",
    "    glacier_pdd.THICKNESS_CHG_UNC = np.nan\n",
    "    glacier_pdd.VOLUME_CHANGE = cols.dvol_mio_m3_between_t1_and_t2 *1000   # *1000: unit difference (1000m3 / 1000000m3)\n",
    "    glacier_pdd.VOLUME_CHANGE_UNC = cols.uncertainty_dvol_between_t1_and_t2_mio_m3 # *1000:unit difference (1000m3 / 1000000m3)\n",
    "    glacier_pdd.SURVEY_DATE = int(cols.t2_year *10000 + 9999)  # in order to fulfill the requirements (month/day unknown)\n",
    "    glacier_pdd.SD_PLATFORM_METHOD =  'aC'   # must be determined\n",
    "    REMARKS_pdd = REMARKS_pdd + 'Survey date method: PL.'\n",
    "    glacier_pdd.REFERENCE_DATE = int(cols.t1_year *10000 + 9999)  # in order to fulfill the requirements (month/day unknown)\n",
    "    glacier_pdd.RD_PLATFORM_METHOD = 'aC'   # must be determined\n",
    "    REMARKS_pdd = REMARKS_pdd + ' Reference date method: PM.'\n",
    "    glacier_pdd.PUB_IN_FOG = int(2016)\n",
    "    glacier_pdd.INVESTIGATOR = 'Mauro Fischer, Matthias Huss, Martin Hoelzle'\n",
    "    glacier_pdd.SPONS_AGENCY = 'Department of Geosciences, University of Fribourg, 1700 Fribourg, Switzerland'\n",
    "    glacier_pdd.REFERENCE = 'Fischer et al. (2015); The Cryosphere, 9, 2016'\n",
    "    REMARKS_pdd = REMARKS_pdd + ' ID SGI 1973: %s.' % cols.ID_SGI1973\n",
    "    REMARKS_pdd = REMARKS_pdd + ' ID SGI 2010: %s.' % cols.Code_SGI2010\n",
    "    # at the very end \n",
    "    glacier_pdd.REMARKS = REMARKS_pdd\n",
    "    \n",
    "    \n",
    "    glacier_pda.POLTITICAL_UNIT = 'CH'\n",
    "    glacier_pda.NAME = cols.Glacier_name_SGI2010.upper()\n",
    "    glacier_pda.WGMS_ID = int(gid) \n",
    "    glacier_pda.LATITUDE = pdfll[pdfll.Glacier_name_SGI2010 == cols.Code_SGI2010]['y WGS84)'].values[0]\n",
    "    glacier_pda.LONGITUDE = pdfll[pdfll.Glacier_name_SGI2010 == cols.Code_SGI2010]['Location(x WGS84)'].values[0]\n",
    "    glacier_pda['REGION'] = 'Central Europe'\n",
    "    glacier_pda['SUBREGION'] = 'Alps'\n",
    "\n",
    "    \n",
    "    entries_new_pdd = entries_new_pdd.append(glacier_pdd, ignore_index=True)\n",
    "    entries_new_pda = entries_new_pda.append(glacier_pda, ignore_index=True)"
   ]
  },
  {
   "cell_type": "code",
   "execution_count": null,
   "metadata": {
    "collapsed": false
   },
   "outputs": [],
   "source": [
    "entries_new_pdd[['WGMS_ID', 'YEAR', 'LOWER_BOUND', 'UPPER_BOUND', 'SURVEY_DATE', 'REFERENCE_DATE', 'PUB_IN_FOG']] = entries_new_pdd[['WGMS_ID', 'YEAR', 'LOWER_BOUND', 'UPPER_BOUND', 'SURVEY_DATE', 'REFERENCE_DATE', 'PUB_IN_FOG']].astype(int)\n",
    "entries_new_pdd.head()"
   ]
  },
  {
   "cell_type": "code",
   "execution_count": null,
   "metadata": {
    "collapsed": false
   },
   "outputs": [],
   "source": [
    "len(pdf)"
   ]
  },
  {
   "cell_type": "code",
   "execution_count": null,
   "metadata": {
    "collapsed": false
   },
   "outputs": [],
   "source": [
    "entries_new_pda.head()\n",
    "#pdfll[pdfll.Glacier_name_SGI2010 == cols.Code_SGI2010]['y WGS84)'].values[0]"
   ]
  },
  {
   "cell_type": "code",
   "execution_count": null,
   "metadata": {
    "collapsed": false
   },
   "outputs": [],
   "source": [
    "pdfll.head()"
   ]
  },
  {
   "cell_type": "code",
   "execution_count": null,
   "metadata": {
    "collapsed": false
   },
   "outputs": [],
   "source": [
    "cols.Code_SGI2010"
   ]
  },
  {
   "cell_type": "code",
   "execution_count": null,
   "metadata": {
    "collapsed": false
   },
   "outputs": [],
   "source": [
    "pdfll[pdfll.Glacier_name_SGI2010 == cols.Code_SGI2010]"
   ]
  },
  {
   "cell_type": "code",
   "execution_count": null,
   "metadata": {
    "collapsed": true
   },
   "outputs": [],
   "source": []
  }
 ],
 "metadata": {
  "kernelspec": {
   "display_name": "Python 3",
   "language": "python",
   "name": "python3"
  },
  "language_info": {
   "codemirror_mode": {
    "name": "ipython",
    "version": 3
   },
   "file_extension": ".py",
   "mimetype": "text/x-python",
   "name": "python",
   "nbconvert_exporter": "python",
   "pygments_lexer": "ipython3",
   "version": "3.5.1"
  }
 },
 "nbformat": 4,
 "nbformat_minor": 0
}
