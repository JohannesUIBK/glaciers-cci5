{
 "cells": [
  {
   "cell_type": "code",
   "execution_count": 103,
   "metadata": {
    "collapsed": false
   },
   "outputs": [],
   "source": [
    "from glob import glob\n",
    "import pandas as pd\n",
    "from pandas.parser import CParserError # in order to be able to catch this error\n",
    "import matplotlib.pyplot as plt\n",
    "import numpy as np\n",
    "% matplotlib inline"
   ]
  },
  {
   "cell_type": "markdown",
   "metadata": {},
   "source": [
    "# FoG"
   ]
  },
  {
   "cell_type": "code",
   "execution_count": 104,
   "metadata": {
    "collapsed": false
   },
   "outputs": [],
   "source": [
    "files = glob('C:\\\\Users\\\\jlandman\\\\Desktop\\FoGs\\\\*\\\\*\\\\*D-*')\n",
    "files.sort(key=lambda x: int(x.split('\\\\')[-1].split('-')[2]))\n",
    "\n",
    "yearlist_fog = []\n",
    "for i in files:\n",
    "    yearlist_fog.append(int(i.split('\\\\')[-1].split('-')[2]))"
   ]
  },
  {
   "cell_type": "code",
   "execution_count": 105,
   "metadata": {
    "collapsed": false
   },
   "outputs": [],
   "source": [
    "nlist_fog = []\n",
    "for f in files:\n",
    "    try:\n",
    "        data = pd.read_csv(f, sep=';', encoding='latin-1')\n",
    "    except CParserError:\n",
    "        data = pd.read_csv(f, encoding='latin-1')\n",
    "    \n",
    "    n = len(~pd.isnull(data['THICKNESS_CHG'].values))\n",
    "    nlist_fog.append(n)\n"
   ]
  },
  {
   "cell_type": "code",
   "execution_count": 106,
   "metadata": {
    "collapsed": false
   },
   "outputs": [],
   "source": [
    "nlist_fog.pop(1)\n",
    "yearlist_fog.pop(1)\n",
    "nlist_fog.pop(0)\n",
    "yearlist_fog.pop(0)\n",
    "\n",
    "# add the not yet existent FoG numbers\n",
    "nlist_fog.extend([6984, 7922])\n",
    "yearlist_fog.extend([2016, 2017])\n",
    "yerr = np.array([0.0, 0.0, 0.0, 0.0, 1000.])\n",
    "nlist_fog = np.array(nlist_fog)\n",
    "yearlist_fog = np.array(yearlist_fog)"
   ]
  },
  {
   "cell_type": "code",
   "execution_count": 107,
   "metadata": {
    "collapsed": false
   },
   "outputs": [
    {
     "data": {
      "text/plain": [
       "(5,)"
      ]
     },
     "execution_count": 107,
     "metadata": {},
     "output_type": "execute_result"
    }
   ],
   "source": [
    "yearlist_fog.shape"
   ]
  },
  {
   "cell_type": "code",
   "execution_count": 108,
   "metadata": {
    "collapsed": false
   },
   "outputs": [
    {
     "data": {
      "text/plain": [
       "array([5014, 5229, 5597, 6984, 7922])"
      ]
     },
     "execution_count": 108,
     "metadata": {},
     "output_type": "execute_result"
    }
   ],
   "source": [
    "nlist_fog"
   ]
  },
  {
   "cell_type": "code",
   "execution_count": 109,
   "metadata": {
    "collapsed": false
   },
   "outputs": [
    {
     "data": {
      "text/plain": [
       "array([    0.,     0.,     0.,     0.,  1000.])"
      ]
     },
     "execution_count": 109,
     "metadata": {},
     "output_type": "execute_result"
    }
   ],
   "source": [
    "yerr"
   ]
  },
  {
   "cell_type": "markdown",
   "metadata": {},
   "source": [
    "# GlaThiDa"
   ]
  },
  {
   "cell_type": "code",
   "execution_count": 110,
   "metadata": {
    "collapsed": true
   },
   "outputs": [],
   "source": [
    "nlist_gtd = [np.nan,1493,np.nan, 1591, np.nan]\n",
    "yearlist_gtd = [2013, 2014, 2015, 2016, 2017]"
   ]
  },
  {
   "cell_type": "code",
   "execution_count": 158,
   "metadata": {
    "collapsed": false
   },
   "outputs": [
    {
     "data": {
      "image/png": "[encoded data removed]",
      "text/plain": [
       "<matplotlib.figure.Figure at 0x23eae2805f8>"
      ]
     },
     "metadata": {},
     "output_type": "display_data"
    }
   ],
   "source": [
    "fig, ax1 = plt.subplots(1,1,figsize=(4.5,5.))\n",
    "\n",
    "ax1.plot(nlist_fog)\n",
    "#ax1.fill_between(range(len(yearlist_fog)), nlist_fog, nlist_fog+yerr,facecolor='r',alpha=0.5)\n",
    "#ax1.fill_between(range(len(yearlist_fog)), nlist_fog+yerr, nlist_fog+1.75*yerr,facecolor='b',alpha=0.5)\n",
    "ax1.fill_between(range(len(yearlist_fog)), nlist_fog, nlist_fog+2.5*yerr,facecolor='g',alpha=0.5)\n",
    "ax1.set_ylim((0,11000))\n",
    "ax1.set_ylabel('Data entries', size=16)\n",
    "ax1.tick_params(labelsize=16)\n",
    "ax1.grid(axis='both')\n",
    "ax1.text(1.9, 8700, '2017:\\n7922+x', fontsize=20)\n",
    "ax1.text(3.5, 8700, '?', fontsize=36)\n",
    "\n",
    "ax1.set_xticks(range(len(yearlist_fog)))\n",
    "ax1.set_xticklabels(range(min(yearlist_fog), max(yearlist_fog)+1), size=16)\n",
    "\n",
    "ax1.set_xlabel('Year of Issue', size=16)\n",
    "plt.title('$\\Delta$ Thickness in FoG Database', size=16)\n",
    "\n",
    "plt.tight_layout()\n",
    "plt.savefig('C:\\\\users\\\\jlandman\\\\Desktop\\\\Thickn_chg_fog.png', format='png', dpi=500)\n",
    "plt.show()"
   ]
  },
  {
   "cell_type": "code",
   "execution_count": null,
   "metadata": {
    "collapsed": true
   },
   "outputs": [],
   "source": []
  },
  {
   "cell_type": "code",
   "execution_count": null,
   "metadata": {
    "collapsed": true
   },
   "outputs": [],
   "source": []
  }
 ],
 "metadata": {
  "kernelspec": {
   "display_name": "Python 3",
   "language": "python",
   "name": "python3"
  },
  "language_info": {
   "codemirror_mode": {
    "name": "ipython",
    "version": 3
   },
   "file_extension": ".py",
   "mimetype": "text/x-python",
   "name": "python",
   "nbconvert_exporter": "python",
   "pygments_lexer": "ipython3",
   "version": "3.5.1"
  }
 },
 "nbformat": 4,
 "nbformat_minor": 0
}
