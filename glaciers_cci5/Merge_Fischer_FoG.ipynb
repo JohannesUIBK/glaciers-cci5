{
 "cells": [
  {
   "cell_type": "markdown",
   "metadata": {},
   "source": [
    "# Modules"
   ]
  },
  {
   "cell_type": "code",
   "execution_count": 2,
   "metadata": {
    "collapsed": false
   },
   "outputs": [],
   "source": [
    "import pandas as pd\n",
    "import numpy as np\n",
    "import unidecode\n",
    "from difflib import SequenceMatcher\n",
    "import salem\n",
    "import matplotlib.pyplot as plt \n",
    "import re\n",
    "import os\n",
    "% matplotlib inline"
   ]
  },
  {
   "cell_type": "markdown",
   "metadata": {},
   "source": [
    "# File paths"
   ]
  },
  {
   "cell_type": "code",
   "execution_count": 475,
   "metadata": {
    "collapsed": true
   },
   "outputs": [],
   "source": [
    "f_path = 'C:\\\\Users\\\\jlandman\\\\Desktop\\\\database_Fischer_et_al._2015_The_Cryosphere.txt'                 # Fischer database with swiss coordinates \n",
    "fll_path = 'C:\\\\Users\\\\jlandman\\\\Desktop\\\\SGI2010wgs84_shapefiles\\\\parameters_SGI2010.csv'               # Fischer database with lat/lon\n",
    "a_path = 'C:\\\\Users\\\\jlandman\\\\Desktop\\\\DOI-WGMS-FoG-2015-11\\\\WGMS-FoG-2015-11-A-GENERAL-INFORMATION.csv'# FoG: A GENERAL\n",
    "b_path = 'C:\\\\Users\\\\jlandman\\\\Desktop\\\\DOI-WGMS-FoG-2015-11\\\\WGMS-FoG-2015-11-B-STATE.csv'              # FoG: B STATE\n",
    "d_path = 'C:\\\\Users\\\\jlandman\\\\Desktop\\\\DOI-WGMS-FoG-2015-11\\\\WGMS-FoG-2015-11-D-CHANGE.csv'             # FoG: D CHANGE"
   ]
  },
  {
   "cell_type": "markdown",
   "metadata": {},
   "source": [
    "# Read files"
   ]
  },
  {
   "cell_type": "code",
   "execution_count": 476,
   "metadata": {
    "collapsed": false
   },
   "outputs": [],
   "source": [
    "pdf = pd.read_csv(f_path, sep = '\\t', encoding='iso-8859-1')\n",
    "pdfll = pd.read_csv(fll_path, sep= ';', encoding='iso-8859-1', usecols=[2,3,6,14,15]) # we only need ID and x/y here\n",
    "pda = pd.read_csv(a_path, encoding='iso-8859-1')\n",
    "pdb = pd.read_csv(b_path, encoding='iso-8859-1')\n",
    "pdd = pd.read_csv(d_path, encoding='iso-8859-1')"
   ]
  },
  {
   "cell_type": "markdown",
   "metadata": {},
   "source": [
    "# Preselect FoG IDs in Switzerland"
   ]
  },
  {
   "cell_type": "code",
   "execution_count": 477,
   "metadata": {
    "collapsed": false
   },
   "outputs": [],
   "source": [
    "pda = pda[pda.POLITICAL_UNIT == 'CH']\n",
    "pdb = pdb[pdb.WGMS_ID.isin(pda.WGMS_ID.values)]\n",
    "pdd = pdd[pdd.WGMS_ID.isin(pdd.WGMS_ID.values)]"
   ]
  },
  {
   "cell_type": "markdown",
   "metadata": {},
   "source": [
    "# Haversine function"
   ]
  },
  {
   "cell_type": "code",
   "execution_count": 483,
   "metadata": {
    "collapsed": true
   },
   "outputs": [],
   "source": [
    "def haversine(lon1, lat1, lon2, lat2):\n",
    "    \"\"\"\n",
    "    Calculate the great circle distance between one point \n",
    "    on the earth and an array of points (specified in decimal degrees)\n",
    "    \"\"\"\n",
    "    \n",
    "    # convert decimal degrees to radians \n",
    "    lon1, lat1, lon2, lat2 = map(np.radians, [lon1, lat1, lon2, lat2])\n",
    "\n",
    "    # haversine formula \n",
    "    dlon = lon2 - lon1\n",
    "    dlat = lat2 - lat1\n",
    "    a = np.sin(dlat/2)**2 + np.cos(lat1) * np.cos(lat2) * np.sin(dlon/2)**2\n",
    "    c = 2 * np.arcsin(np.sqrt(a)) \n",
    "    r = 6371000 # Radius of earth in meters\n",
    "    return c * r"
   ]
  },
  {
   "cell_type": "markdown",
   "metadata": {},
   "source": [
    "# Some settings"
   ]
  },
  {
   "cell_type": "code",
   "execution_count": 484,
   "metadata": {
    "collapsed": false
   },
   "outputs": [
    {
     "data": {
      "text/plain": [
       "range(7000, 8386)"
      ]
     },
     "execution_count": 484,
     "metadata": {},
     "output_type": "execute_result"
    }
   ],
   "source": [
    "begin_new_id = 7000  # where to start with assigning new WGMS IDs\n",
    "new_id_range = range(begin_new_id, begin_new_id+len(pdf)+1,1)\n",
    "new_id_range"
   ]
  },
  {
   "cell_type": "markdown",
   "metadata": {},
   "source": [
    "# Correct missing underscores and column names"
   ]
  },
  {
   "cell_type": "code",
   "execution_count": 485,
   "metadata": {
    "collapsed": false
   },
   "outputs": [],
   "source": [
    "pdf = pdf.rename(columns={'uncertainty_dvol_between_t1_and_t2_mio m3': 'uncertainty_dvol_between_t1_and_t2_mio_m3'})\n",
    "pdfll = pdfll.rename(columns={'uncertainty_dvol_between_t1_and_t2_mio m3': 'uncertainty_dvol_between_t1_and_t2_mio_m3'})\n",
    "\n",
    "pdfll = pdfll.rename(columns={'Unnamed: 15': 'Glacier_name_SGI2010'})"
   ]
  },
  {
   "cell_type": "markdown",
   "metadata": {},
   "source": [
    "# Find matching glaciers based on FoG => compare names, area and location"
   ]
  },
  {
   "cell_type": "markdown",
   "metadata": {},
   "source": [
    "### Dictionary of strings and symbols that need to be replaced prior to calculation of similarity score"
   ]
  },
  {
   "cell_type": "code",
   "execution_count": 486,
   "metadata": {
    "collapsed": true
   },
   "outputs": [],
   "source": [
    "name_adjust = {'gletscher':'g', 'glacier':'g' , 'vadret':'v', 'ghiacciaio':'g', 'vedretta':'v', 'ferner':'f', 'ä':'ae', 'ö':'oe', 'ü':'ue', 'é':'e', 'à':'a', 'è':'e', 'ô':'o', 'ß':'ss'} "
   ]
  },
  {
   "cell_type": "markdown",
   "metadata": {},
   "source": [
    "### Introduce FoG column with new names"
   ]
  },
  {
   "cell_type": "code",
   "execution_count": 487,
   "metadata": {
    "collapsed": false
   },
   "outputs": [],
   "source": [
    "pda['FoG_compname'] = ''\n",
    "\n",
    "for initname in [n for n in pda.NAME.values]:\n",
    "    name = initname.lower()\n",
    "    for key in name_adjust:\n",
    "        if key in name:\n",
    "            name = name.replace(key, name_adjust[key])\n",
    "    #pda.FoG_compname[pda.NAME == initname] = name\n",
    "    pda.loc[pda.NAME == initname, 'FoG_compname'] = name"
   ]
  },
  {
   "cell_type": "markdown",
   "metadata": {},
   "source": [
    "### Introduce some new columns"
   ]
  },
  {
   "cell_type": "code",
   "execution_count": 488,
   "metadata": {
    "collapsed": true
   },
   "outputs": [],
   "source": [
    "pdf.COMPNAME = ''              # simplified name \n",
    "pda.MATCH_RATIO = np.nan       # string matching ratio \n",
    "pda.MATCH_NAME = ''            # Name of the FoG glacier that matches Mauro's name best\n",
    "pda.CLOSEST = ''               # closest FoG glacier point\n",
    "pda.DIST_TO_CLOSEST = np.nan   # distance of Mauro's point to the closest FoG point \n",
    "pda.AREA_CLOSEST = np.nan      # column with the area of Mauro's glacier found by string matching \n",
    "pda.AREA_MATCH = np.nan        # column with the area of Mauro's glacier found by string matching\n",
    "pda.AREA = np.nan"
   ]
  },
  {
   "cell_type": "markdown",
   "metadata": {},
   "source": [
    "### Adjust also Mauro's names to make them comparable"
   ]
  },
  {
   "cell_type": "code",
   "execution_count": 489,
   "metadata": {
    "collapsed": false
   },
   "outputs": [],
   "source": [
    "for idx,cols in pdf.iterrows():\n",
    "    # simplify name\n",
    "    compname_mau = cols.Glacier_name_SGI2010.lower()\n",
    "    for key in name_adjust:\n",
    "        if key in compname_mau:\n",
    "            # replace the umlauts etc.\n",
    "            compname_mau = compname_mau.replace(key, name_adjust[key])\n",
    "    \n",
    "    # delete the bracket stuff in order to improve the ratio\n",
    "    start = compname_mau.find('(')\n",
    "    if start != -1:\n",
    "        compname_mau = compname_mau[0:start]\n",
    "    compname_mau = compname_mau.replace('*', '')\n",
    "    compname_mau = compname_mau.strip()\n",
    "\n",
    "    pdf.loc[pdf.Glacier_name_SGI2010 == cols.Glacier_name_SGI2010, 'COMPNAME'] = compname_mau"
   ]
  },
  {
   "cell_type": "markdown",
   "metadata": {},
   "source": [
    "### Find matching glaciers for the 159 swiss glaciers in PDA"
   ]
  },
  {
   "cell_type": "markdown",
   "metadata": {
    "collapsed": false
   },
   "source": [
    "for fidx,fcols in pda[0:10].iterrows():\n",
    "    \n",
    "    # create an AREA column entry (from the \"state\" table)\n",
    "    try: # take the latest area entry\n",
    "        area_match = pdb[pdb.WGMS_ID == fcols.WGMS_ID].AREA.values[~np.isnan(pdb[pdb.WGMS_ID == fcols.WGMS_ID].AREA.values)][-1]\n",
    "    except IndexError:\n",
    "        area_match = np.nan\n",
    "    pda.loc[pda.WGMS_ID == fcols.WGMS_ID, 'AREA'] = area_match\n",
    "    \n",
    "    \n",
    "    # find biggest ratio of string matching and insert\n",
    "    ratio = np.nan\n",
    "    name = ''\n",
    "    for cname in pdf['COMPNAME'].values:\n",
    "        \n",
    "        curr_ratio = SequenceMatcher(None, fcols.FoG_compname, cname).ratio()\n",
    "        \n",
    "        if curr_ratio > ratio or pd.isnull(ratio):  #the latter in order to catch the initial case\n",
    "            ratio = curr_ratio\n",
    "            name = cname\n",
    "            \n",
    "    pda.loc[pda.NAME == fcols.NAME, 'MATCH_RATIO'] = ratio\n",
    "    pda.loc[pda.NAME == fcols.NAME, 'MATCH_NAME'] = name\n",
    "    \n",
    "    # insert the area (at t2, because this is the latest) of the glacier found by string matching\n",
    "    pda.loc[pda.NAME == fcols.NAME, 'AREA_MATCH'] = pdf[pdf['COMPNAME'] == name].area_t2_km2.iloc[0]\n",
    "    \n",
    "    \n",
    "    #find closest pdf glacier\n",
    "    dist = np.nan\n",
    "    close_name = ''\n",
    "    for pdf_idx, pdf_cols in pdf.iterrows():\n",
    "        lat = pdfll[pdfll.Glacier_name_SGI2010 == pdf_cols.Code_SGI2010]['y WGS84)'].values[0]\n",
    "        lon = pdfll[pdfll.Glacier_name_SGI2010 == pdf_cols.Code_SGI2010]['Location(x WGS84)'].values[0]\n",
    "        curr_dist = haversine(lon, lat, fcols.LONGITUDE, fcols.LATITUDE)\n",
    "        \n",
    "        if curr_dist < dist or pd.isnull(dist): # the second is for the initial loop\n",
    "            dist = curr_dist\n",
    "            close_name = pdf_cols.COMPNAME\n",
    "    \n",
    "    pda.loc[pda.NAME == fcols.NAME, 'DIST_TO_CLOSEST'] = dist\n",
    "    pda.loc[pda.NAME == fcols.NAME, 'CLOSEST'] = close_name\n",
    "    \n",
    "    print(fcols.NAME)\n",
    "    # insert the area (at t2, because this is the latest) of the glacier ehic is found to be the closest\n",
    "    pda.loc[pda.NAME == fcols.NAME, 'AREA_CLOSEST'] = pdf[pdf['COMPNAME'] == close_name].area_t2_km2.iloc[0]"
   ]
  },
  {
   "cell_type": "code",
   "execution_count": 490,
   "metadata": {
    "collapsed": true
   },
   "outputs": [],
   "source": [
    "pdfll.COMPNAME = ''              # simplified name "
   ]
  },
  {
   "cell_type": "code",
   "execution_count": 491,
   "metadata": {
    "collapsed": true
   },
   "outputs": [],
   "source": [
    "for idx,cols in pdfll.iterrows():\n",
    "    # simplify name\n",
    "    compname_mau = cols.Names.lower()\n",
    "    for key in name_adjust:\n",
    "        if key in compname_mau:\n",
    "            # replace the umlauts etc.\n",
    "            compname_mau = compname_mau.replace(key, name_adjust[key])\n",
    "    \n",
    "    # delete the bracket stuff in order to improve the ratio\n",
    "    start = compname_mau.find('(')\n",
    "    if start != -1:\n",
    "        compname_mau = compname_mau[0:start]\n",
    "    compname_mau = compname_mau.replace('*', '')\n",
    "    compname_mau = compname_mau.strip()\n",
    "\n",
    "    pdfll.loc[pdfll.Names == cols.Names, 'COMPNAME'] = compname_mau\n",
    "  "
   ]
  },
  {
   "cell_type": "code",
   "execution_count": 492,
   "metadata": {
    "collapsed": false
   },
   "outputs": [
    {
     "name": "stdout",
     "output_type": "stream",
     "text": [
      "A NEUVE GL. L'\n",
      "ADLER\n",
      "ALBIGNA\n",
      "ALLALIN\n",
      "ALPETLI(KANDER)\n",
      "ALTELS\n",
      "AMMERTEN\n",
      "AROLLA (BAS)\n",
      "BALMHORN\n",
      "BASODINO\n",
      "BELLA TOLA\n",
      "BIDER\n",
      "BIFERTEN\n",
      "BIRCH\n",
      "BIS\n",
      "BLUEMLISALP\n",
      "BODMER\n",
      "BOVEYRE\n",
      "BREITHORN\n",
      "BRENEY\n",
      "BRESCIANA\n",
      "BRUNEGG\n",
      "BRUNNI\n",
      "CALDERAS\n",
      "CAMBRENA\n",
      "CAVAGNOLI\n",
      "CHEILLON\n",
      "CLARIDENFIRN\n",
      "CORBASSIERE\n",
      "CORNO\n",
      "CROSLINA\n",
      "DAMMA\n",
      "DOLENT GL. DU\n",
      "DUNGEL\n",
      "EIGER\n",
      "EIGER (WEST)\n",
      "EN DARREY\n",
      "FEE NORTH\n",
      "FERPECLE\n",
      "FIESCHER\n",
      "FINDELEN\n",
      "FIRNALPELI\n",
      "FLUCHTHORN GL.\n",
      "FORNO\n",
      "GAMCHI\n",
      "GAULI\n",
      "GELTEN\n",
      "GIETRO\n",
      "GLAERNISCH\n",
      "GORNER\n",
      "GRAND DESERT\n",
      "GRAND PLAN NEVE\n",
      "GRIES\n",
      "GRIESS(KLAUSEN)\n",
      "GRIESSEN(OBWA.)\n",
      "GRIESSERNU\n",
      "GROSSER ALETSCH\n",
      "GRUBEN\n",
      "GUTZ\n",
      "HANGENDE\n",
      "HINDRE SCHMADRI\n",
      "HOHLAUB\n",
      "HOMATTU\n",
      "HUEFI\n",
      "KALTWASSER\n",
      "KEHLEN\n",
      "KESSJEN\n",
      "LAEMMERN (WILDSTRUBEL)\n",
      "LANG\n",
      "LAVAZ\n",
      "LENTA\n",
      "LIMMERN\n",
      "LISCHANA\n",
      "MAIGHELS EAST BRANCH\n",
      "MAIGHELS WEST BRANCH\n",
      "MARTINETS\n",
      "MINSTIGER\n",
      "MITTELALETSCH\n",
      "MOIRY\n",
      "MOMING\n",
      "MONT DURAND\n",
      "MONT FORT (ZINAL)\n",
      "MONT MINE\n",
      "MONTO MORO GL.\n",
      "MORTERATSCH\n",
      "MURTEL\n",
      "MUTT\n",
      "MUTTEN\n",
      "OB.GRINDELWALD\n",
      "OBERAAR\n",
      "OBERALETSCH\n",
      "OFENTAL\n",
      "OTEMMA\n",
      "PALUE\n",
      "PANEYROSSE\n",
      "PARADIES\n",
      "PARADISINO (CAMPO)\n",
      "PIERREDAR\n",
      "PIZOL\n",
      "PLAINE MORTE\n",
      "PLATTALVA\n",
      "PORCHABELLA\n",
      "PRAPIO\n",
      "PUNTEGLIAS\n",
      "RAETZLI (PLAINE MORTE)\n",
      "RHONE\n",
      "RIED\n",
      "ROSEG\n",
      "ROSENLAUI\n",
      "ROSSBODEN\n",
      "ROTFIRN NORD\n",
      "ROTTAL\n",
      "SALEINA\n",
      "SANKT ANNA\n",
      "SARDONA\n",
      "SCALETTA\n",
      "SCHOENBUEHL GL.\n",
      "SCHWARZ\n",
      "SCHWARZBACH\n",
      "SCHWARZBERG\n",
      "SEEWJINEN\n",
      "SESVENNA\n",
      "SEX ROUGE\n",
      "SILLERN\n",
      "SILVRETTA\n",
      "SIRWOLTE\n",
      "STEIN\n",
      "STEINLIMMI\n",
      "SULZ\n",
      "SURETTA\n",
      "TAELLIBODEN\n",
      "TIATSCHA\n",
      "TIEFEN\n",
      "TOURNELON BLANCE\n",
      "TRIENT\n",
      "TRIEST GL.\n",
      "TRIFT (GADMEN)\n",
      "TSANFLEURON\n",
      "TSCHIERVA\n",
      "TSCHINGEL\n",
      "TSEUDET\n",
      "TSIDJIORE NOUVE\n",
      "TURTMANN (WEST)\n",
      "UNT.GRINDELWALD\n",
      "UNTERAAR\n",
      "VAL TORTA\n",
      "VALLEGGIA\n",
      "VALSOREY\n",
      "VERSTANKLA\n",
      "VORAB\n",
      "VORDRE SCHMADRI\n",
      "WALLENBUR\n",
      "WANNENHORN GL.\n",
      "WANNENHORN GL. N\n",
      "WANNENHORN GL. S\n",
      "WITENWASSEREN\n",
      "ZENBAECHEN GL.\n",
      "ZINAL\n",
      "ZMUTT\n"
     ]
    }
   ],
   "source": [
    "#if os.path.exists('assigned_automated.csv'):\n",
    "#    pass\n",
    "\n",
    "#else:\n",
    "for fidx,fcols in pda.iterrows():\n",
    "\n",
    "    # create an AREA column entry (from the \"state\" table)\n",
    "    area_match = np.nan\n",
    "    try: # take the latest area entry\n",
    "        area_match = pdb[pdb.WGMS_ID == fcols.WGMS_ID].AREA.values[~np.isnan(pdb[pdb.WGMS_ID == fcols.WGMS_ID].AREA.values)][-1]\n",
    "    except IndexError:\n",
    "        area_match = np.nan\n",
    "    pda.loc[pda.WGMS_ID == fcols.WGMS_ID, 'AREA'] = area_match\n",
    "\n",
    "\n",
    "    # find biggest ratio of string matching and insert\n",
    "    ratio = 0.0\n",
    "    name = ''\n",
    "    for cname in pdfll['COMPNAME'].values:\n",
    "        curr_ratio = SequenceMatcher(None, cname, fcols.FoG_compname).ratio()\n",
    "\n",
    "        if curr_ratio > ratio or ratio==0.0:  #the latter in order to catch the initial case\n",
    "            ratio = curr_ratio\n",
    "            name = cname\n",
    "\n",
    "    pda.loc[pda.NAME == fcols.NAME, 'MATCH_RATIO'] = ratio\n",
    "    pda.loc[pda.NAME == fcols.NAME, 'MATCH_NAME'] = name\n",
    "\n",
    "    # insert the area (at t2, because this is the latest) of the glacier found by string matching\n",
    "    pda.loc[pda.NAME == fcols.NAME, 'AREA_MATCH'] = pdfll[pdfll['COMPNAME'] == name]['area(km2)'].iloc[0]\n",
    "\n",
    "\n",
    "    #find closest pdf glacier\n",
    "    dist = np.nan\n",
    "    close_name = ''\n",
    "    for pdf_idx, pdf_cols in pdfll.iterrows():\n",
    "        lat = pdfll[pdfll.Names == pdf_cols.Names]['y WGS84)'].values[0]\n",
    "        lon = pdfll[pdfll.Names == pdf_cols.Names]['Location(x WGS84)'].values[0]\n",
    "        curr_dist = haversine(lon, lat, fcols.LONGITUDE, fcols.LATITUDE)\n",
    "\n",
    "        if curr_dist < dist or pd.isnull(dist): # the second is for the initial loop\n",
    "            dist = curr_dist\n",
    "            close_name = pdf_cols.COMPNAME\n",
    "\n",
    "    pda.loc[pda.NAME == fcols.NAME, 'DIST_TO_CLOSEST'] = dist\n",
    "    pda.loc[pda.NAME == fcols.NAME, 'CLOSEST'] = close_name\n",
    "\n",
    "    print(fcols.NAME)\n",
    "    # insert the area (at t2, because this is the latest) of the glacier ehic is found to be the closest\n",
    "    pda.loc[pda.NAME == fcols.NAME, 'AREA_CLOSEST'] = pdfll[pdfll['COMPNAME'] == close_name]['area(km2)'].iloc[0]\n",
    "\n",
    "\n",
    "    pda.to_csv('assigned_automated.csv')"
   ]
  },
  {
   "cell_type": "code",
   "execution_count": 493,
   "metadata": {
    "collapsed": true
   },
   "outputs": [],
   "source": [
    "pda.to_csv('assigned_automated.csv')"
   ]
  },
  {
   "cell_type": "code",
   "execution_count": 1251,
   "metadata": {
    "collapsed": false
   },
   "outputs": [
    {
     "data": {
      "text/html": [
       "<div>\n",
       "<table border=\"1\" class=\"dataframe\">\n",
       "  <thead>\n",
       "    <tr style=\"text-align: right;\">\n",
       "      <th></th>\n",
       "      <th>NAME</th>\n",
       "      <th>FoG_compname</th>\n",
       "      <th>MATCH_RATIO</th>\n",
       "      <th>MATCH_NAME</th>\n",
       "      <th>DIST_TO_CLOSEST</th>\n",
       "      <th>CLOSEST</th>\n",
       "      <th>AREA</th>\n",
       "      <th>AREA_MATCH</th>\n",
       "      <th>AREA_CLOSEST</th>\n",
       "    </tr>\n",
       "  </thead>\n",
       "  <tbody>\n",
       "    <tr>\n",
       "      <th>844</th>\n",
       "      <td>WALLENBUR</td>\n",
       "      <td>wallenbur</td>\n",
       "      <td>0.818182</td>\n",
       "      <td>wallenburfirn</td>\n",
       "      <td>485.303345</td>\n",
       "      <td>brunnenfirn-s</td>\n",
       "      <td>1.70</td>\n",
       "      <td>1.41688</td>\n",
       "      <td>0.27859</td>\n",
       "    </tr>\n",
       "    <tr>\n",
       "      <th>845</th>\n",
       "      <td>WANNENHORN GL.</td>\n",
       "      <td>wannenhorn gl.</td>\n",
       "      <td>0.785714</td>\n",
       "      <td>wannenhorng-nw</td>\n",
       "      <td>771.817254</td>\n",
       "      <td>senfspitze-s</td>\n",
       "      <td>NaN</td>\n",
       "      <td>0.49312</td>\n",
       "      <td>0.04300</td>\n",
       "    </tr>\n",
       "    <tr>\n",
       "      <th>846</th>\n",
       "      <td>WANNENHORN GL. N</td>\n",
       "      <td>wannenhorn gl. n</td>\n",
       "      <td>0.800000</td>\n",
       "      <td>wannenhorng-nw</td>\n",
       "      <td>898.209197</td>\n",
       "      <td>wannenhorng-nw</td>\n",
       "      <td>NaN</td>\n",
       "      <td>0.49312</td>\n",
       "      <td>0.49312</td>\n",
       "    </tr>\n",
       "    <tr>\n",
       "      <th>847</th>\n",
       "      <td>WANNENHORN GL. S</td>\n",
       "      <td>wannenhorn gl. s</td>\n",
       "      <td>0.800000</td>\n",
       "      <td>wannenhorng-se</td>\n",
       "      <td>771.817254</td>\n",
       "      <td>senfspitze-s</td>\n",
       "      <td>NaN</td>\n",
       "      <td>0.38984</td>\n",
       "      <td>0.04300</td>\n",
       "    </tr>\n",
       "    <tr>\n",
       "      <th>848</th>\n",
       "      <td>WITENWASSEREN</td>\n",
       "      <td>witenwasseren</td>\n",
       "      <td>0.962963</td>\n",
       "      <td>witenwassereng</td>\n",
       "      <td>126.686212</td>\n",
       "      <td>witenwasseren-w</td>\n",
       "      <td>NaN</td>\n",
       "      <td>0.62719</td>\n",
       "      <td>0.13125</td>\n",
       "    </tr>\n",
       "    <tr>\n",
       "      <th>849</th>\n",
       "      <td>ZENBAECHEN GL.</td>\n",
       "      <td>zenbaechen gl.</td>\n",
       "      <td>0.880000</td>\n",
       "      <td>zenbaecheng</td>\n",
       "      <td>963.879888</td>\n",
       "      <td>driestg</td>\n",
       "      <td>NaN</td>\n",
       "      <td>0.85891</td>\n",
       "      <td>2.02625</td>\n",
       "    </tr>\n",
       "    <tr>\n",
       "      <th>850</th>\n",
       "      <td>ZINAL</td>\n",
       "      <td>zinal</td>\n",
       "      <td>0.666667</td>\n",
       "      <td>zinal g de</td>\n",
       "      <td>1232.717294</td>\n",
       "      <td>bouquetins-e</td>\n",
       "      <td>16.24</td>\n",
       "      <td>13.36000</td>\n",
       "      <td>0.02552</td>\n",
       "    </tr>\n",
       "    <tr>\n",
       "      <th>851</th>\n",
       "      <td>ZMUTT</td>\n",
       "      <td>zmutt</td>\n",
       "      <td>0.909091</td>\n",
       "      <td>zmuttg</td>\n",
       "      <td>2320.009358</td>\n",
       "      <td>pointe de zinal-s-ii</td>\n",
       "      <td>17.22</td>\n",
       "      <td>13.73688</td>\n",
       "      <td>0.00343</td>\n",
       "    </tr>\n",
       "  </tbody>\n",
       "</table>\n",
       "</div>"
      ],
      "text/plain": [
       "                 NAME      FoG_compname  MATCH_RATIO      MATCH_NAME  \\\n",
       "844         WALLENBUR         wallenbur     0.818182   wallenburfirn   \n",
       "845    WANNENHORN GL.    wannenhorn gl.     0.785714  wannenhorng-nw   \n",
       "846  WANNENHORN GL. N  wannenhorn gl. n     0.800000  wannenhorng-nw   \n",
       "847  WANNENHORN GL. S  wannenhorn gl. s     0.800000  wannenhorng-se   \n",
       "848     WITENWASSEREN     witenwasseren     0.962963  witenwassereng   \n",
       "849    ZENBAECHEN GL.    zenbaechen gl.     0.880000     zenbaecheng   \n",
       "850             ZINAL             zinal     0.666667      zinal g de   \n",
       "851             ZMUTT             zmutt     0.909091          zmuttg   \n",
       "\n",
       "     DIST_TO_CLOSEST               CLOSEST   AREA  AREA_MATCH  AREA_CLOSEST  \n",
       "844       485.303345         brunnenfirn-s   1.70     1.41688       0.27859  \n",
       "845       771.817254          senfspitze-s    NaN     0.49312       0.04300  \n",
       "846       898.209197        wannenhorng-nw    NaN     0.49312       0.49312  \n",
       "847       771.817254          senfspitze-s    NaN     0.38984       0.04300  \n",
       "848       126.686212       witenwasseren-w    NaN     0.62719       0.13125  \n",
       "849       963.879888               driestg    NaN     0.85891       2.02625  \n",
       "850      1232.717294          bouquetins-e  16.24    13.36000       0.02552  \n",
       "851      2320.009358  pointe de zinal-s-ii  17.22    13.73688       0.00343  "
      ]
     },
     "execution_count": 1251,
     "metadata": {},
     "output_type": "execute_result"
    }
   ],
   "source": [
    "pda[['NAME', 'FoG_compname', 'MATCH_RATIO', 'MATCH_NAME', 'DIST_TO_CLOSEST', 'CLOSEST', 'AREA', 'AREA_MATCH', 'AREA_CLOSEST']][151:160]"
   ]
  },
  {
   "cell_type": "code",
   "execution_count": 1304,
   "metadata": {
    "collapsed": false
   },
   "outputs": [],
   "source": [
    "i = 'ZMUTT'"
   ]
  },
  {
   "cell_type": "code",
   "execution_count": 1305,
   "metadata": {
    "collapsed": false
   },
   "outputs": [],
   "source": [
    "ID = pda[pda.NAME == i].WGMS_ID.iloc[0]"
   ]
  },
  {
   "cell_type": "code",
   "execution_count": 1306,
   "metadata": {
    "collapsed": false
   },
   "outputs": [
    {
     "data": {
      "text/html": [
       "<div>\n",
       "<table border=\"1\" class=\"dataframe\">\n",
       "  <thead>\n",
       "    <tr style=\"text-align: right;\">\n",
       "      <th></th>\n",
       "      <th>POLITICAL_UNIT</th>\n",
       "      <th>NAME</th>\n",
       "      <th>WGMS_ID</th>\n",
       "      <th>RIVER_BASIN</th>\n",
       "      <th>FREE_POSITION</th>\n",
       "      <th>LOCAL_CODE</th>\n",
       "      <th>LOCAL_PSFG</th>\n",
       "      <th>GEN_LOCATION</th>\n",
       "      <th>SPEC_LOCATION</th>\n",
       "      <th>LATITUDE</th>\n",
       "      <th>...</th>\n",
       "      <th>GEO-REGION_CODE</th>\n",
       "      <th>GEO-SUBREGION_CODE</th>\n",
       "      <th>FoG_compname</th>\n",
       "      <th>AREA</th>\n",
       "      <th>MATCH_RATIO</th>\n",
       "      <th>MATCH_NAME</th>\n",
       "      <th>AREA_MATCH</th>\n",
       "      <th>DIST_TO_CLOSEST</th>\n",
       "      <th>CLOSEST</th>\n",
       "      <th>AREA_CLOSEST</th>\n",
       "    </tr>\n",
       "  </thead>\n",
       "  <tbody>\n",
       "    <tr>\n",
       "      <th>851</th>\n",
       "      <td>CH</td>\n",
       "      <td>ZMUTT</td>\n",
       "      <td>390</td>\n",
       "      <td>N0125</td>\n",
       "      <td>7</td>\n",
       "      <td>15</td>\n",
       "      <td>0015</td>\n",
       "      <td>WESTERN ALPS</td>\n",
       "      <td>RHONE BASIN</td>\n",
       "      <td>46.0</td>\n",
       "      <td>...</td>\n",
       "      <td>CEU</td>\n",
       "      <td>CEU-01</td>\n",
       "      <td>zmutt</td>\n",
       "      <td>17.22</td>\n",
       "      <td>0.909091</td>\n",
       "      <td>zmuttg</td>\n",
       "      <td>13.73688</td>\n",
       "      <td>2320.009358</td>\n",
       "      <td>pointe de zinal-s-ii</td>\n",
       "      <td>0.00343</td>\n",
       "    </tr>\n",
       "  </tbody>\n",
       "</table>\n",
       "<p>1 rows × 28 columns</p>\n",
       "</div>"
      ],
      "text/plain": [
       "    POLITICAL_UNIT   NAME  WGMS_ID RIVER_BASIN FREE_POSITION LOCAL_CODE  \\\n",
       "851             CH  ZMUTT      390       N0125             7         15   \n",
       "\n",
       "    LOCAL_PSFG  GEN_LOCATION SPEC_LOCATION  LATITUDE     ...       \\\n",
       "851       0015  WESTERN ALPS   RHONE BASIN      46.0     ...        \n",
       "\n",
       "     GEO-REGION_CODE  GEO-SUBREGION_CODE FoG_compname   AREA MATCH_RATIO  \\\n",
       "851              CEU              CEU-01        zmutt  17.22    0.909091   \n",
       "\n",
       "    MATCH_NAME  AREA_MATCH DIST_TO_CLOSEST               CLOSEST AREA_CLOSEST  \n",
       "851     zmuttg    13.73688     2320.009358  pointe de zinal-s-ii      0.00343  \n",
       "\n",
       "[1 rows x 28 columns]"
      ]
     },
     "execution_count": 1306,
     "metadata": {},
     "output_type": "execute_result"
    }
   ],
   "source": [
    "pda[pda.NAME == i]#[['LATITUDE', 'LONGITUDE']]"
   ]
  },
  {
   "cell_type": "code",
   "execution_count": 1307,
   "metadata": {
    "collapsed": false
   },
   "outputs": [
    {
     "data": {
      "text/html": [
       "<div>\n",
       "<table border=\"1\" class=\"dataframe\">\n",
       "  <thead>\n",
       "    <tr style=\"text-align: right;\">\n",
       "      <th></th>\n",
       "      <th>Location(x WGS84)</th>\n",
       "      <th>y WGS84)</th>\n",
       "      <th>area(km2)</th>\n",
       "      <th>Names</th>\n",
       "      <th>Glacier_name_SGI2010</th>\n",
       "      <th>COMPNAME</th>\n",
       "    </tr>\n",
       "  </thead>\n",
       "  <tbody>\n",
       "    <tr>\n",
       "      <th>981</th>\n",
       "      <td>7.59347</td>\n",
       "      <td>45.9795</td>\n",
       "      <td>13.73688</td>\n",
       "      <td>ZMUTTGLETSCHER (Nr. 15)</td>\n",
       "      <td>B57/05</td>\n",
       "      <td>zmuttg</td>\n",
       "    </tr>\n",
       "  </tbody>\n",
       "</table>\n",
       "</div>"
      ],
      "text/plain": [
       "     Location(x WGS84)  y WGS84)  area(km2)                    Names  \\\n",
       "981            7.59347   45.9795   13.73688  ZMUTTGLETSCHER (Nr. 15)   \n",
       "\n",
       "    Glacier_name_SGI2010 COMPNAME  \n",
       "981               B57/05   zmuttg  "
      ]
     },
     "execution_count": 1307,
     "metadata": {},
     "output_type": "execute_result"
    }
   ],
   "source": [
    "pdfll[pdfll['COMPNAME'] == pda[pda.NAME==i].MATCH_NAME.iloc[0]]"
   ]
  },
  {
   "cell_type": "code",
   "execution_count": 1308,
   "metadata": {
    "collapsed": false
   },
   "outputs": [
    {
     "data": {
      "text/html": [
       "<div>\n",
       "<table border=\"1\" class=\"dataframe\">\n",
       "  <thead>\n",
       "    <tr style=\"text-align: right;\">\n",
       "      <th></th>\n",
       "      <th>POLITICAL_UNIT</th>\n",
       "      <th>NAME</th>\n",
       "      <th>WGMS_ID</th>\n",
       "      <th>YEAR</th>\n",
       "      <th>HIGHEST_ELEVATION</th>\n",
       "      <th>MEDIAN_ELEVATION</th>\n",
       "      <th>LOWEST_ELEVATION</th>\n",
       "      <th>ELEVATION_UNC</th>\n",
       "      <th>LENGTH</th>\n",
       "      <th>LENGTH_UNC</th>\n",
       "      <th>AREA</th>\n",
       "      <th>AREA_UNC</th>\n",
       "      <th>SURVEY_DATE</th>\n",
       "      <th>SURVEY_PLATFORM_METHOD</th>\n",
       "      <th>PUB_IN_FOG</th>\n",
       "      <th>INVESTIGATOR</th>\n",
       "      <th>SPONS_AGENCY</th>\n",
       "      <th>REFERENCE</th>\n",
       "      <th>REMARKS</th>\n",
       "    </tr>\n",
       "  </thead>\n",
       "  <tbody>\n",
       "    <tr>\n",
       "      <th>3319</th>\n",
       "      <td>CH</td>\n",
       "      <td>ZMUTT</td>\n",
       "      <td>390</td>\n",
       "      <td>1973</td>\n",
       "      <td>NaN</td>\n",
       "      <td>2980.0</td>\n",
       "      <td>NaN</td>\n",
       "      <td>NaN</td>\n",
       "      <td>8.5</td>\n",
       "      <td>NaN</td>\n",
       "      <td>17.22</td>\n",
       "      <td>NaN</td>\n",
       "      <td>19739999.0</td>\n",
       "      <td>NaN</td>\n",
       "      <td>1975.0</td>\n",
       "      <td>NaN</td>\n",
       "      <td>NaN</td>\n",
       "      <td>NaN</td>\n",
       "      <td>NaN</td>\n",
       "    </tr>\n",
       "    <tr>\n",
       "      <th>3320</th>\n",
       "      <td>CH</td>\n",
       "      <td>ZMUTT</td>\n",
       "      <td>390</td>\n",
       "      <td>1975</td>\n",
       "      <td>4100.0</td>\n",
       "      <td>2980.0</td>\n",
       "      <td>2230.0</td>\n",
       "      <td>NaN</td>\n",
       "      <td>8.5</td>\n",
       "      <td>NaN</td>\n",
       "      <td>17.22</td>\n",
       "      <td>NaN</td>\n",
       "      <td>19759999.0</td>\n",
       "      <td>NaN</td>\n",
       "      <td>1975.0</td>\n",
       "      <td>NaN</td>\n",
       "      <td>NaN</td>\n",
       "      <td>NaN</td>\n",
       "      <td>NaN</td>\n",
       "    </tr>\n",
       "  </tbody>\n",
       "</table>\n",
       "</div>"
      ],
      "text/plain": [
       "     POLITICAL_UNIT   NAME  WGMS_ID  YEAR  HIGHEST_ELEVATION  \\\n",
       "3319             CH  ZMUTT      390  1973                NaN   \n",
       "3320             CH  ZMUTT      390  1975             4100.0   \n",
       "\n",
       "      MEDIAN_ELEVATION  LOWEST_ELEVATION  ELEVATION_UNC  LENGTH  LENGTH_UNC  \\\n",
       "3319            2980.0               NaN            NaN     8.5         NaN   \n",
       "3320            2980.0            2230.0            NaN     8.5         NaN   \n",
       "\n",
       "       AREA  AREA_UNC  SURVEY_DATE SURVEY_PLATFORM_METHOD  PUB_IN_FOG  \\\n",
       "3319  17.22       NaN   19739999.0                    NaN      1975.0   \n",
       "3320  17.22       NaN   19759999.0                    NaN      1975.0   \n",
       "\n",
       "     INVESTIGATOR SPONS_AGENCY REFERENCE REMARKS  \n",
       "3319          NaN          NaN       NaN     NaN  \n",
       "3320          NaN          NaN       NaN     NaN  "
      ]
     },
     "execution_count": 1308,
     "metadata": {},
     "output_type": "execute_result"
    }
   ],
   "source": [
    "pdb[pdb.where(~pd.isnull(pdb.AREA)).WGMS_ID == ID].tail(10)#[['NAME', 'LENGTH', 'AREA']]"
   ]
  },
  {
   "cell_type": "code",
   "execution_count": 1309,
   "metadata": {
    "collapsed": false
   },
   "outputs": [
    {
     "data": {
      "text/html": [
       "<div>\n",
       "<table border=\"1\" class=\"dataframe\">\n",
       "  <thead>\n",
       "    <tr style=\"text-align: right;\">\n",
       "      <th></th>\n",
       "      <th>Location(x WGS84)</th>\n",
       "      <th>y WGS84)</th>\n",
       "      <th>area(km2)</th>\n",
       "      <th>Names</th>\n",
       "      <th>Glacier_name_SGI2010</th>\n",
       "      <th>COMPNAME</th>\n",
       "    </tr>\n",
       "  </thead>\n",
       "  <tbody>\n",
       "    <tr>\n",
       "      <th>981</th>\n",
       "      <td>7.59347</td>\n",
       "      <td>45.979500</td>\n",
       "      <td>13.73688</td>\n",
       "      <td>ZMUTTGLETSCHER (Nr. 15)</td>\n",
       "      <td>B57/05</td>\n",
       "      <td>zmuttg</td>\n",
       "    </tr>\n",
       "    <tr>\n",
       "      <th>991</th>\n",
       "      <td>7.65154</td>\n",
       "      <td>45.981201</td>\n",
       "      <td>0.03553</td>\n",
       "      <td>Zmuttgrat-W*</td>\n",
       "      <td>B57/20n</td>\n",
       "      <td>zmuttgrat-w</td>\n",
       "    </tr>\n",
       "  </tbody>\n",
       "</table>\n",
       "</div>"
      ],
      "text/plain": [
       "     Location(x WGS84)   y WGS84)  area(km2)                    Names  \\\n",
       "981            7.59347  45.979500   13.73688  ZMUTTGLETSCHER (Nr. 15)   \n",
       "991            7.65154  45.981201    0.03553             Zmuttgrat-W*   \n",
       "\n",
       "    Glacier_name_SGI2010     COMPNAME  \n",
       "981               B57/05       zmuttg  \n",
       "991              B57/20n  zmuttgrat-w  "
      ]
     },
     "execution_count": 1309,
     "metadata": {},
     "output_type": "execute_result"
    }
   ],
   "source": [
    "pdfll[pdfll['Names'].str.contains('zmu', case=False)]"
   ]
  },
  {
   "cell_type": "markdown",
   "metadata": {},
   "source": [
    "## A dictionary with links from FoG to Mauro's database (full names in FoG to full and short names in Mauro's DB)"
   ]
  },
  {
   "cell_type": "code",
   "execution_count": 1124,
   "metadata": {
    "collapsed": false
   },
   "outputs": [],
   "source": [
    "links = {\n",
    "    'A NEUVE GL. L\\'':('',''),   #unclear (no area)\n",
    "    'ADLER':('ADLERGLETSCHER (Teilgl. von B56/03)','adlerg'),  # not proven (no area in FoG), but quite obvious\n",
    "    'ALBIGNA':('ALBIGNA VADREC D\\' (Nr. 116)','albigna vadrec d\\''),  # not proven, maybe error in area in pdb  \n",
    "    'ALLALIN':('Allalingletscher* (Teilgl. von B52/66n)','allaling'), #ok\n",
    "    'ALPETLI(KANDER)':('KANDERFIRN (Teilgl. von A55B/29n; Nr. 109)','kanderfirn'),  # ok (area:14/12)\n",
    "    'ALTELS':('',''),     # no equivalent for whole glacier. there is Altels-S, Altels-NW and Altels-SE\n",
    "    'AMMERTEN':('',''),   # no equivalent for whole glacier. there is Ammerten-W and AMMERTEN\n",
    "    'AROLLA (BAS)':('',''),  # no equivalent\n",
    "    'BALMHORN':('BALMHORNGLETSCHER (Teilgl. von A55B/42n)','balmhorng'),  # ok (area: 1.7/1.9)\n",
    "    'BASODINO':('BASODINO GH. DEL (Nr. 104)','basodino gh. del'),  # ok (area:1.84/1.89). What to do with basodino-N and basodino-NW?\n",
    "    'BIDER':('BIDERGLETSCHER','biderg'),  # ok (no area in FoG, but unique)\n",
    "    'BIFERTEN':('BIFERTENFIRN (Nr. 77)','bifertenfirn'),  # ok (area: 2.5/2.86)\n",
    "    'BIRCH':('',''),   # glacier has two parts; difficult (area:0.54/0.22, but only one entry each)\n",
    "    'BIS':('BISGLETSCHER (Nr. 107)','bisg'),    # ok even though area 4.79/3.82\n",
    "    'BLUEMLISALP':('BLÜMLISALPGLETSCHER (Nr. 64)','bluemlisalpg'), # ok area 2.22/2.98\n",
    "    'BODMER':('BODMER','bodmerg'),   # Link should be okay but area 0.32/0.64\n",
    "    'BOVEYRE':('BOVEIRE GLACIER DE (Nr. 41)','boveire g de'),  # ok (area 1.62/1.99)\n",
    "    'BREITHORN':('',''),   # unclear (too many entries in Mauro's DB)\n",
    "    'BRENEY':('BRENAY GLACIER DU (Nr. 36)','brenay g du'),   # ok (areas 9.8/7.1)\n",
    "    'BRUNEGG':('BRUNEGGGLETSCHER (Teilgl. von B60/09; Nr. 20)','bruneggg'),  #ok (areas 6.1/5.5)\n",
    "    'BRUNNI':('BRUNNIFIRN (Nr. 72)','brunnifirn'),  # ok (areas 2.99/2.31)\n",
    "    'CALDERAS':('CALDERAS VADRET (Nr. 95)','calderas v'),   # ok even though areas 1.2/0.66\n",
    "    'CAMBRENA':('Cambrena Vadret dal (Teilgl. von C93/09)','cambrena v dal'),  # probably right, but what about Cambrena-E* (Teilgl. von C93/09)? C93/09 not in SGI2010! \n",
    "    'CAVAGNOLI':('CAVAGNÖÖ GH. DEL (Nr. 119)','cavagnoeoe gh. del'), # probably right due to lat/lon agreement even though area 1.32/0.44\n",
    "    'CHEILLON':('CHEILON GLACIER DE (Nr. 29)','cheilon g de'), # okay even though area 4.73/3.6. Spelling?\n",
    "    'CLARIDENFIRN':('',''),  # unclear case => too many equivalent in Mauro's DB and no area/length in FoG\n",
    "    'CORBASSIERE':('Corbassière (Teilgl. von B83/03)*','corbassiere'),  # unclear if also Combin de Corbassière-E (Teilgl. von B83/03)* is meant (area: 0.4km2)\n",
    "    'CORNO':('CORNO GH. DEL (Nr. 120)','corno gh. del'),  # ok even though area 0.27/0.1\n",
    "    'DAMMA':('DAMMAGLETSCHER (Nr. 70)','dammag'),  # ok even though area 6.32/4.24\n",
    "    'DOLENT GL. DU':('DOLENT GLACIER DU','dolent g du'),  # ok even though noe area given in FoG\n",
    "    'DUNGEL':('TUNGELGLETSCHER (Teilgl. von A56D/09n, Nr. 112)','tungelg'),  #ok area 1.2/0.93\n",
    "    'EIGER':('',''),   # unclear (areas don't match)\n",
    "    'EIGER (WEST)':('',''),  # unclear (areas don't match)\n",
    "    'EN DARREY':('EN DARREY GLACIER DE L\\' (Nr. 30)','en darrey g de l\\''), #ok (areas 1.86/1.28)\n",
    "    'FEE NORTH':('',''),  # unclear (probably even more than those mentioned in Mauro's DB)\n",
    "    'FERPECLE':('FERPÈCLE GLACIER DE (Nr. 25)','ferpecle g de'),  # ok (areas 9.79/9.0)\n",
    "    'FIESCHER':('FIESCHERGLETSCHER VS (Teilgl. von B40/14n, Nr. 4)','fiescherg vs'), # probably ok due to area\n",
    "    'FIRNALPELI':('',''),  # three entries: FIRNALPELIGLETSCHER-E (Nr. 75), FIRNALPELIGLETSCHER-W, FIRNALPELIFIRN\n",
    "    'FORNO':('FORNO VADREC DEL (Nr. 102)','forno vadrec del'), # evtl. auch noch Monte del Forno* (0.06), Sella del Forno* (0.02), aber NICHT Ofenhorn-W* (lat/lon!)\n",
    "    'GAMCHI':('GAMCHIGLETSCHER (Nr. 61)','gamchig'),  # ok area (1.73/1.23)\n",
    "    'GAULI':('GAULIGLETSCHER (Teilgl. von A54I/19n) Nr. 52','gaulig'),  # ok (area 13.7/11.4)\n",
    "    'GELTEN':('GELTENGLETSCHER-E (Nr. 113)','gelteng-e'),  # ok (area 1.17/0.81) but maybe also GELTENGLETSCHER-W (area 0.45)\n",
    "    'GIETRO':('GIETRO GLACIER DU (Nr. 37)','gietro g du'),  # ok (area 5.54/5.16)\n",
    "    'GLAERNISCH':('GLÄRNISCHFIRN (Nr. 80)','glaernischfirn'), # ok (area 2.09/1.41)\n",
    "    'GORNER':('',''),  # problem: gorner not in Mauro's DB; Grenz is too big (whole glacier)\n",
    "    'GRAND PLAN NEVE':('PLAN NEVE-W','plan neve-w'), # must be plan neve-w (area 0.2/0.18), taking also plan neve-e (0.12km2) would exceed FoG area\n",
    "    'GRIES':('GRIESGLETSCHER (Nr. 3)','griesg'),  # ok (area 4.83/4.78)\n",
    "    'GRIESSEN(OBWA.)':('GRIESSENFIRN','GRIESSENFIRN'),  # ok (area 1.27/0.86)\n",
    "    'GRIESSERNU':('GRIESSERNU GLETSCHER','griessernu g'), # ok even though no area in FoG\n",
    "    'GROSSER ALETSCH':('GROSSER ALETSCH GLETSCHER (Teilgl. von B36/49n) Nr. 5','grosser aletsch g'), # ok (area 81.3/78.3)\n",
    "    'GRUBEN':('',''), # should be all GRÜEBUGLETSCHER-N-II (Teilgl. von B51/17n), GRÜEBUGLETSCHER-S (Teilgl. von B51/17n), GRÜEBUGLETSCHER-N-I (Teilgl. von B51/17n), NAME SHOULD  BE CHANGED IN FoG\n",
    "    'GUTZ':('GUTZGLETSCHER','gutzg'),  # ok even though no area in FoG\n",
    "    'HANGENDE':('HANGENDE GLETSCHER','hangende g', 'B52/27'), # ok due to lat/lon\n",
    "    'HOHLAUB':('',''), # both Hohlaubgrat-E* (Teilgl. von B52/67n) and Hohlaub Gletscher* (Teilgl. von B52/67n)\n",
    "    'HOMATTU':('',''), #  HOMATTUGLETSCHER-II and HOMATTUGLETSCHER-I\n",
    "    'HUEFI':('HÜFIFIRN (Nr. 73)','huefifirn'),  # ok (area 13.73/12.72)\n",
    "    'KALTWASSER':('CHALTWASSERGLETSCHER (Nr. 7)','chaltwasserg'),  # ok (areas 18.5/1.49)\n",
    "    'KEHLEN':('CHELENGLETSCHER (Totalgl.; Nr. 68)','cheleng'),  # ok even though area 1.73/3.15\n",
    "    'KESSJEN':('CHESSJENGLETSCHER-E (Nr. 12)','chessjeng-e'), #ok (areas 0.19/0.19)\n",
    "    'LAEMMERN (WILDSTRUBEL)':('WILDSTRUBELGLETSCHER (Teilgl. von A55C/24n) Nr. 63',''), # ok even though area 3.15/2.34\n",
    "    'LANG':('Langgletscher (Totalgl.; Nr. 18)','langg'),  # ok areas 10.03/8.26\n",
    "    'LAVAZ':('',''),  # LAVAZ GLATSCHER DA (Nr. 82) and Lavaz-W*\n",
    "    'LIMMERN':('LIMMERNFIRN (Nr. 78)','limmernfirn'), # ok (area 2.41/1.89)\n",
    "    'LISCHANA':('TRIAZZA VADRET DA','triazza v da'),  # ok v d triazza is one of the two remnants (one is no longer mapped)\n",
    "    'MAIGHELS EAST BRANCH':('MAIGHELS GLATSCHER DA-E','maighels glatscher da-e'),  # ok but no area in FoG\n",
    "    'MAIGHELS WEST BRANCH':('MAIGHELS GLATSCHER DA-W','maighels glatscher da-w'),  # ok but no area in FoG\n",
    "    'MARTINETS':('MARTINETS GLACIER DES (Nr. 46)','martinets g des'),\n",
    "    'MINSTIGER':('MINSTIGERGLETSCHER','minstigerg'),  # ok areas 3.09/2.25\n",
    "    'MITTELALETSCH':('MITTELALETSCHGLETSCHER (Teilgl. von B36/49n) Nr. 106','mittelaletschg'),\n",
    "    'MOIRY':('MOIRY GLACIER DE (Nr. 24)','moiry g de'), # ok area 6.11/4.89\n",
    "    'MOMING':('MOMING GLACIER DE (Nr. 23)','moming g de'),  # ok , maybe also Pointe Nord de Moming-SE* and Blanc de Moming-W*\n",
    "    'MONT FORT (ZINAL)':('',''),  # not clear, probably PETIT M. FORT GLACIER DU (B75/07), but area is still too low\n",
    "    'MONT MINE':('MONT MINÉ GLACIER DU (Nr. 26)','mont mine g du'), # ok areas 10.3/9.9\n",
    "    'MONTO MORO GL.':('Monte Moro-W*','monte moro-w'),  # only a remnant obviously\n",
    "    'MORTERATSCH':('MORTERATSCH VADRET DA (Totalgl.; Nr. 94)','morteratsch v da'), # ok areas 17/15\n",
    "    'MURTEL':('MURTEL VADRET DAL','murtel v dal', 'E23/16'),  # ok, strange second polygon E24/04\n",
    "    'MUTT':('MUTTGLETSCHER (Nr. 2)','muttg'), # ok, area 0.57/0.36\n",
    "    'MUTTEN':('Muttengletscher* (Teilgl. von A51E/23)','mutteng'), #ok, no areas in FoG\n",
    "    'OB.GRINDELWALD':('OBERER GRINDELWALDGLETSCHER (Nr. 57)','oberer grindelwaldg'), # ok areas 10.07/8.41\n",
    "    'OBERAAR':('OBERAARGLETSCHER (Teilgl. von A54G/35n) Nr. 50','oberaarg'), # ok areas 5.23/4.10\n",
    "    'OFENTAL':('OFENTAL GLETSCHER (Nr. 9)','ofental g'),  #ok even though areas 0.4/0.04...possibly one remnant missing in Mauro's DB (see swisstopo)\n",
    "    'OTEMMA':('Otemma (Teilgl. von B82/27)*','otemma'),  # ok areas 16.55/12.59\n",
    "    'PALUE':('Palü Vadret da (Teilgl. von C93/04)','palue v da'),  # ok areas 6.62/5.26\n",
    "    'PANEYROSSE':('PANEIROSSE GLACIER DE (Nr. 44)','paneirosse g de'),  # ok areas 0.45/0.3\n",
    "    'PARADIES':('PARADIESGLETSCHER (Nr. 86)','PARADIESGLETSCHER (Nr. 86)'),  # ok 4.6/1.8\n",
    "    'PARADISINO (CAMPO)':('',''),  # unclear, possibly CAMP VEDREIT DA (Nr. 101)\n",
    "    'PIERREDAR':('PIERREDAR GLACIER DE (Nr. 49)','pierredar g de'), # ok areas 0.67/0.3\n",
    "    'PIZOL':('PIZOLGLETSCHER (Nr. 81)','pizolg'), # ok areas 0.32/0.08\n",
    "    'PLAINE MORTE':('',''), # multiple: GLACIER DE LA PLAINE MORTE (Nr. 65), PLAINE MORTE-W GLACIER DE LA and PLAINE MORTE-E GLACIER DE LA, area in FoG missing!!!\n",
    "    'PORCHABELLA':('PORCHABELLA VADRET DA (Nr. 88)','porchabella v da'),  # ok area 2.59/1.67\n",
    "    'PRAPIO':('PRAPIO GLACIER DU (Nr. 48)','prapio g du'),   # ok area 0.36/0.21\n",
    "    'PUNTEGLIAS':('Fuorcla Punteglias*','fuorcla punteglias'),  #  ok area 0.93/0.25 => debris cover problem\n",
    "    'RAETZLI':('',''),  # no equivalent in Mauro's DB...only plaine morte present\n",
    "    'RHONE':('Rhonegletscher* (Teilgl. von B43/03)','rhoneg'),  # ok areas 15.8/15.31\n",
    "    'RIED':('RIEDGLETSCHER (Nr. 17)','riedg'),  # ok areas 8.26/7.31\n",
    "    'ROSEG':('ROSEG VADRET DA (Nr. 92)','roseg v da'),  # ok areas 8.71/6.81\n",
    "    'ROSENLAUI':('ROSENLAUIGLETSCHER (Nr. 56)','rosenlauig'),  # ok areas 5.9/5.4\n",
    "    'ROSSBODEN':('ROSSBODEGLETSCHER (Nr. 105)','rossbodeng'),  # ok areas 1.89/1.18\n",
    "    'ROTTAL':('ROTTALGLETSCHER-NW (Teilgl. von B52/02)','rottalg-nw'),  #  ok no area in FoG\n",
    "    'SALEINA':('',''),  # is Saleina* (Teilgl. von B85/16), but area is too high (6.54) compared to FoG (5.03)\n",
    "    'SANKT ANNA':('ST. ANNAFIRN (Nr. 67)','st. annafirn'),  # ok even though areas 0.41/0.22 (might be debris problem)\n",
    "    'SARDONA':('',''),  # should be Sardonagletscher-II*, but area is too high (0.45, FoG only 0.38)\n",
    "    'SCALETTA':('SCALETTAGLETSCHER (Nr. 115)','scalettag'),  # ok even though area 0.66/0.21 (debris?)\n",
    "    'SCHOENBUEHL GL.':('',''),  # is probably both SCHÖNBÜHLGLETSCHER-SE and SCHÖNBÜHLGLETSCHER-NW (no FoG area given)\n",
    "    'SCHWARZ':('SCHWARZGLETSCHER (Nr. 62)','schwarzg'),  #  okay areas 1.6/1.09\n",
    "    'SCHWARZBACH':('SCHWARZBACHFIRN','schwarzbachfirn'),  #  okay (not area in FoG)\n",
    "    'SCHWARZBERG':('Schwarzberggletscher* (Teilgl. von B52/24)','schwarzbergg'),  #  ok area 5.17/5.33\n",
    "    'SESVENNA':('Sesvenna Vadret da-E (Teilgl. von E03/04)','sesvenna v da-e'),  #  ok area 0.67/0.33\n",
    "    'SEX ROUGE':('SEX ROUGE GLACIER DU (Nr. 47)','sex rouge g du'), # ok even though area 0.72/0.27\n",
    "    'SILLERN':('SILLERE GLETSCHER','sillere g'),  #  ok (no area in FoG)\n",
    "    'SILVRETTA':('SILVRETTAGLETSCHER (Nr. 90)','silvrettag'),  # ok areas 2.74/2.67\n",
    "    'SIRWOLTE':('',''),  #unclear: might be norther polygon of Griessernuhorn-N* (c03/04)\n",
    "    'STEIN':('STEINGLETSCHER (Nr. 53)','steing'),  # ok even though area in Mauro's DB (5.68) slightly bigger than in FoG (5.6)\n",
    "    'STEINLIMMI':('STEINLIMIGLETSCHER (Nr. 54)','steinlimig'),  # ok areas 2.21/1.59\n",
    "    'SULZ':('',''),  #  must be HINTERSULZFIRN (Nr. 79), A50I/02,  (lat/lon), but area is bigger (0.26) than in FoG (0.2)\n",
    "    'SURETTA':('',''), # must be SURETTAGLETSCHER-E (Piz Por*), SURETTAGLETSCHER-W (Hauptgl., Nr. 87) and maybe also Suretta Lückli*. FoG point unclear\n",
    "    'TIATSCHA':('TIATSCHA VADRET (La Cudera, Nr. 96)','tiatscha v'), # okay areas 2.11/1.82\n",
    "    'TIEFEN':('TIEFENGLETSCHER (Nr. 66)','tiefeng'), # ok even though area 3.17/1.99\n",
    "    'TOURNELON BLANCE':('',''),  # should be all (no FoG area): Tournelon Blanc-SE*, Tournelon Blanc-E*, Tournelon Blanc-NE* and Col du Tournelon Blanc*\n",
    "    'TRIENT':('TRIENT GLACIER DU (Nr. 43)','trient g du'),  # ok area 6.58/5.82\n",
    "    'TRIEST GL.':('DRIESTGLETSCHER','driestg'),  # ok no area in FoG\n",
    "    'TRIFT (GADMEN)':('TRIFTGLETSCHER (Nr. 55)','triftg'),  # ok area 15.33/14.9\n",
    "    'TSANFLEURON':('TSANFLEURON GLACIER DE (Nr. 33)','tsanfleuron g de'), 3.78/2.64\n",
    "    'TSCHIERVA':('',''),  # probably both TSCHIERVA VADRETTIN DA (0.41) and TSCHIERVA VADRET DA (Nr. 93) (5.09), FoG area is 6.83\n",
    "    'TSCHINGEL':('',''),  # is TSCHINGELFIRN (Nr. 60) (A54/M21),  and maybe also Tschingelspitz-S* (A54M/51n) and Tschingelgrat-S* (A54M/52n)\n",
    "    'TSIDJIORE NOUVE':('TSIJIORE NOUVE GLACIER DE (Nr. 28)','tsijiore nouve g de'), # ok even though area 3.12/2.72\n",
    "    'TURTMANN (WEST)':('',''),  # unclear: TURTMANNGLETSCHER (Teilgl. von B60/09) is only about half (5.5) of turtmann-w in FoG (11km2)\n",
    "    'UNT.GRINDELWALD':('',''),  # might be OBERS ISCHMEER (Teilgl. von A54L/19)\n",
    "    'UNTERAAR':('UNTERAARGLETSCHER (Teilgl.von A54G/50n) Nr. 51','unteraarg'), # ok area 22.7/22.5\n",
    "    'VAL TORTA':('VALTORTA VADRET','valtorta v'),  # ok area 0.17/0.06\n",
    "    'VALLEGGIA':('VALLEGGIA GH. DI (Nr. 117)','valleggia gh. di'),  # ok area 0.59/0.30\n",
    "    'VALSOREY':('Valsorey (Teilgl. von B84/15)*','valsorey'),  #  ok area 2.34/1.9\n",
    "    'VERSTANKLA':('Verstanclagletscher (Teilgl. von A10G/08)','verstanclag'), #ok area 1.06/0.71\n",
    "    'VORAB':('VORAB GLATSCHER DIL (Nr. 85)','vorab glatscher dil'), # ok area 2.51/1.22, could also be Vorabsattel-W* (but drain ins other valley)\n",
    "    'WALLENBUR':('WALLENBURFIRN (Nr. 71)','wallenburf'), # ok area 1.7/1.41\n",
    "    'WANNENHORN GL.':('',''),  # should be both WANNENHORNGLETSCHER-NW (Teilgl. von B36/57n) and WANNENHORNGLETSCHER-SE (Teilgl. von B36/57n) together...check PARENT ID!!!\n",
    "    'WANNENHORN GL. N':('WANNENHORNGLETSCHER-NW (Teilgl. von B36/57n)','wannenhorng-nw'), # must be this one due to FoG lat/lon\n",
    "    'WANNENHORN GL. S':('WANNENHORNGLETSCHER-SE (Teilgl. von B36/57n)','wannenhorng-se'), # must be this one due to FoG lat/lon\n",
    "    'WITENWASSEREN':('WITENWASSERENGLETSCHER','witenwassereng'), # no FoG area given....cloud also include Witenwasseren-W*(but drains in another valley)\n",
    "    'ZENBAECHEN GL.':('ZENBAECHENGLETSCHER','zenbaecheng'), # no FoG area given\n",
    "    'ZINAL':('ZINAL GLACIER DE (Nr. 22)','zinal g de'),  # ok area 16/13.3 debris?\n",
    "    'ZMUTT':('ZMUTTGLETSCHER (Nr. 15)','zmuttg'),  # ok area 17.4/13.7 debris?\n",
    "    \n",
    "}"
   ]
  },
  {
   "cell_type": "markdown",
   "metadata": {},
   "source": [
    "# Have a look at the area (Mauro) / area (FoG) difference for the matching glaciers"
   ]
  },
  {
   "cell_type": "code",
   "execution_count": null,
   "metadata": {
    "collapsed": false
   },
   "outputs": [],
   "source": [
    "pdf['match_area_isclose'] = np.isclose(pdf['area_t2_km2'], pdf['FoG_AREA_MATCH'], rtol=0.15, atol=0.4)\n",
    "groups = pdf.groupby('match_area_isclose').groups\n",
    "\n",
    "fig = plt.figure(figsize=(5, 5), dpi=200)\n",
    "ax = fig.add_subplot(111)\n",
    "pdf.loc[groups[False]].plot(x='area_t2_km2', y='FoG_AREA_MATCH', kind='scatter', ax=ax, color='DarkRed', label='False');\n",
    "pdf.loc[groups[True]].plot(x='area_t2_km2', y='FoG_AREA_MATCH', kind='scatter', ax=ax, color='DarkBlue', label='True');\n",
    "#pdf.plot(x='area_t2_km2', y='FoG_AREA_MATCH', kind='scatter', ax=ax);"
   ]
  },
  {
   "cell_type": "code",
   "execution_count": null,
   "metadata": {
    "collapsed": false
   },
   "outputs": [],
   "source": [
    "pdf['closest_area_isclose'] =np.isclose(pdf['area_t2_km2'], pdf['FoG_AREA_CLOSEST'], rtol=0.15, atol=0.4)\n",
    "groups = pdf.groupby('closest_area_isclose').groups\n",
    "\n",
    "fig = plt.figure(figsize=(5, 5), dpi=200)\n",
    "ax = fig.add_subplot(111)\n",
    "pdf.loc[groups[False]].plot(x='area_t2_km2', y='FoG_AREA_CLOSEST', kind='scatter', ax=ax, color='DarkRed', label='False');\n",
    "pdf.loc[groups[True]].plot(x='area_t2_km2', y='FoG_AREA_CLOSEST', kind='scatter', ax=ax, color='DarkBlue', label='True');"
   ]
  },
  {
   "cell_type": "code",
   "execution_count": null,
   "metadata": {
    "collapsed": false
   },
   "outputs": [],
   "source": [
    "pdf.loc[(pdf.match_area_isclose == True) & (pdf.closest_area_isclose == True)][['Glacier_name_SGI2010', 'COMPNAME', 'MATCH_NAME', 'MATCH_RATIO', 'match_area_isclose', 'closest_area_isclose', 'area_t2_km2', 'FoG_AREA_MATCH', 'FoG_AREA_CLOSEST']].head(20)\n",
    "pdf[['Glacier_name_SGI2010', 'COMPNAME', 'MATCH_NAME', 'MATCH_RATIO', 'match_area_isclose', 'closest_area_isclose', 'area_t2_km2', 'FoG_AREA_MATCH', 'FoG_AREA_CLOSEST']].head(20)"
   ]
  },
  {
   "cell_type": "markdown",
   "metadata": {},
   "source": [
    "# Begin to establish new dataset containing the columns from the CHANGE file"
   ]
  },
  {
   "cell_type": "code",
   "execution_count": null,
   "metadata": {
    "collapsed": true
   },
   "outputs": [],
   "source": [
    "entries_new_pdd = pd.DataFrame(columns=pdd.columns.values)\n",
    "entries_new_pda = pd.DataFrame(columns=pda.columns.values)"
   ]
  },
  {
   "cell_type": "code",
   "execution_count": null,
   "metadata": {
    "collapsed": false
   },
   "outputs": [],
   "source": [
    "for idx,cols in pdf.iterrows():\n",
    "    # here comes Horst's name test: if the glacier is already present, use its ID, leave the GENERAL file as is and fill\n",
    "    # in the MB data only\n",
    "    # else: create new entry in GENERAL file and in CHANGE file\n",
    "    \n",
    "    # if   :\n",
    "    \n",
    "    # else:\n",
    "    \n",
    "    # create new ID\n",
    "    gid = new_id_range[idx]\n",
    "    \n",
    "    # set the REMARKS (added at the end)\n",
    "    REMARKS_pdd = ''\n",
    "    REMARKS_pda = ''\n",
    "    \n",
    "    # two new DFs for the different FoG files\n",
    "    glacier_pdd = pd.DataFrame([['']*len(pdd.columns.values)], columns=pdd.columns.values)\n",
    "    glacier_pda = pd.DataFrame([['']*len(pda.columns.values)], columns=pda.columns.values)\n",
    "    \n",
    "    glacier_pdd.POLITICAL_UNIT = 'CH'\n",
    "    glacier_pdd.NAME = cols.Glacier_name_SGI2010.upper()\n",
    "    glacier_pdd.WGMS_ID = gid\n",
    "    glacier_pdd.YEAR = cols.t2_year\n",
    "    glacier_pdd.LOWER_BOUND = 9999\n",
    "    glacier_pdd.UPPER_BOUND = 9999\n",
    "    glacier_pdd.AREA_SURVEY_YEAR = cols.area_t2_km2\n",
    "    glacier_pdd.AREA_CHANGE = (cols.area_t2_km2 - cols.area_t1_km2) * 1000  # *1000: unit difference (1000m2 and km2)\n",
    "    glacier_pdd.AREA_CHANGE_UNC = np.nan\n",
    "    glacier_pdd.THICKNESS_CHG = np.nan                  # can be calculated???\n",
    "    glacier_pdd.THICKNESS_CHG_UNC = np.nan\n",
    "    glacier_pdd.VOLUME_CHANGE = cols.dvol_mio_m3_between_t1_and_t2 *1000   # *1000: unit difference (1000m3 / 1000000m3)\n",
    "    glacier_pdd.VOLUME_CHANGE_UNC = cols.uncertainty_dvol_between_t1_and_t2_mio_m3 # *1000:unit difference (1000m3 / 1000000m3)\n",
    "    glacier_pdd.SURVEY_DATE = int(cols.t2_year *10000 + 9999)  # in order to fulfill the requirements (month/day unknown)\n",
    "    glacier_pdd.SD_PLATFORM_METHOD =  'aC'   # must be determined\n",
    "    REMARKS_pdd = REMARKS_pdd + 'Survey date method: PL.'\n",
    "    glacier_pdd.REFERENCE_DATE = int(cols.t1_year *10000 + 9999)  # in order to fulfill the requirements (month/day unknown)\n",
    "    glacier_pdd.RD_PLATFORM_METHOD = 'aC'   # must be determined\n",
    "    REMARKS_pdd = REMARKS_pdd + ' Reference date method: PM.'\n",
    "    glacier_pdd.PUB_IN_FOG = int(2016)\n",
    "    glacier_pdd.INVESTIGATOR = 'Mauro Fischer, Matthias Huss, Martin Hoelzle'\n",
    "    glacier_pdd.SPONS_AGENCY = 'Department of Geosciences, University of Fribourg, 1700 Fribourg, Switzerland'\n",
    "    glacier_pdd.REFERENCE = 'Fischer et al. (2015); The Cryosphere, 9, 2016'\n",
    "    REMARKS_pdd = REMARKS_pdd + ' ID SGI 1973: %s.' % cols.ID_SGI1973\n",
    "    REMARKS_pdd = REMARKS_pdd + ' ID SGI 2010: %s.' % cols.Code_SGI2010\n",
    "    # at the very end \n",
    "    glacier_pdd.REMARKS = REMARKS_pdd\n",
    "    \n",
    "    \n",
    "    glacier_pda.POLTITICAL_UNIT = 'CH'\n",
    "    glacier_pda.NAME = cols.Glacier_name_SGI2010.upper()\n",
    "    glacier_pda.WGMS_ID = int(gid) \n",
    "    glacier_pda.LATITUDE = pdfll[pdfll.Glacier_name_SGI2010 == cols.Code_SGI2010]['y WGS84)'].values[0]\n",
    "    glacier_pda.LONGITUDE = pdfll[pdfll.Glacier_name_SGI2010 == cols.Code_SGI2010]['Location(x WGS84)'].values[0]\n",
    "    glacier_pda['REGION'] = 'Central Europe'\n",
    "    glacier_pda['SUBREGION'] = 'Alps'\n",
    "\n",
    "    \n",
    "    entries_new_pdd = entries_new_pdd.append(glacier_pdd, ignore_index=True)\n",
    "    entries_new_pda = entries_new_pda.append(glacier_pda, ignore_index=True)"
   ]
  },
  {
   "cell_type": "code",
   "execution_count": null,
   "metadata": {
    "collapsed": false
   },
   "outputs": [],
   "source": [
    "entries_new_pdd[['WGMS_ID', 'YEAR', 'LOWER_BOUND', 'UPPER_BOUND', 'SURVEY_DATE', 'REFERENCE_DATE', 'PUB_IN_FOG']] = entries_new_pdd[['WGMS_ID', 'YEAR', 'LOWER_BOUND', 'UPPER_BOUND', 'SURVEY_DATE', 'REFERENCE_DATE', 'PUB_IN_FOG']].astype(int)\n",
    "entries_new_pdd.head()"
   ]
  },
  {
   "cell_type": "code",
   "execution_count": null,
   "metadata": {
    "collapsed": false
   },
   "outputs": [],
   "source": [
    "len(pdf)"
   ]
  },
  {
   "cell_type": "code",
   "execution_count": null,
   "metadata": {
    "collapsed": false
   },
   "outputs": [],
   "source": [
    "entries_new_pda.head()\n",
    "#pdfll[pdfll.Glacier_name_SGI2010 == cols.Code_SGI2010]['y WGS84)'].values[0]"
   ]
  },
  {
   "cell_type": "code",
   "execution_count": null,
   "metadata": {
    "collapsed": false
   },
   "outputs": [],
   "source": [
    "pdfll.head()"
   ]
  },
  {
   "cell_type": "code",
   "execution_count": null,
   "metadata": {
    "collapsed": false
   },
   "outputs": [],
   "source": [
    "cols.Code_SGI2010"
   ]
  },
  {
   "cell_type": "code",
   "execution_count": null,
   "metadata": {
    "collapsed": false
   },
   "outputs": [],
   "source": [
    "pdfll[pdfll.Glacier_name_SGI2010 == cols.Code_SGI2010]"
   ]
  },
  {
   "cell_type": "code",
   "execution_count": null,
   "metadata": {
    "collapsed": true
   },
   "outputs": [],
   "source": []
  }
 ],
 "metadata": {
  "kernelspec": {
   "display_name": "Python 3",
   "language": "python",
   "name": "python3"
  },
  "language_info": {
   "codemirror_mode": {
    "name": "ipython",
    "version": 3
   },
   "file_extension": ".py",
   "mimetype": "text/x-python",
   "name": "python",
   "nbconvert_exporter": "python",
   "pygments_lexer": "ipython3",
   "version": "3.5.1"
  }
 },
 "nbformat": 4,
 "nbformat_minor": 0
}
